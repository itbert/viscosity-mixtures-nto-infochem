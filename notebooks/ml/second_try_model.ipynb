{
  "cells": [
    {
      "cell_type": "code",
      "execution_count": null,
      "id": "17187497",
      "metadata": {
        "id": "17187497"
      },
      "outputs": [],
      "source": [
        "import pandas as pd\n",
        "\n",
        "from sklearn.model_selection import train_test_split\n",
        "from sklearn.impute import SimpleImputer\n",
        "from sklearn.preprocessing import OneHotEncoder\n",
        "from sklearn.compose import ColumnTransformer\n",
        "from sklearn.pipeline import Pipeline\n",
        "from sklearn.metrics import mean_absolute_error, mean_squared_error, r2_score\n",
        "\n",
        "import torch\n",
        "import torch.nn as nn\n",
        "import torch.optim as optim\n",
        "from torch.utils.data import DataLoader, TensorDataset\n",
        "\n",
        "from tqdm import tqdm"
      ]
    },
    {
      "cell_type": "code",
      "execution_count": 3,
      "id": "74c22a35",
      "metadata": {
        "id": "74c22a35"
      },
      "outputs": [],
      "source": [
        "data = pd.read_csv('/content/NTO_exp_encoded.csv')\n",
        "df = pd.DataFrame(data)"
      ]
    },
    {
      "cell_type": "code",
      "execution_count": 4,
      "id": "4505dccc",
      "metadata": {
        "id": "4505dccc"
      },
      "outputs": [],
      "source": [
        "numeric_features = ['mass_fraction', 'component_param_value', 'oil_property_value']\n",
        "categorical_features = ['blend_id', 'component_name', 'component_type_title', 'component_param_title']"
      ]
    },
    {
      "cell_type": "code",
      "execution_count": 5,
      "id": "82f263b4",
      "metadata": {
        "id": "82f263b4"
      },
      "outputs": [],
      "source": [
        "numeric_transformer = Pipeline(steps=[\n",
        "    ('imputer', SimpleImputer(strategy='median'))\n",
        "])\n",
        "\n",
        "categorical_transformer = Pipeline(steps=[\n",
        "    ('imputer', SimpleImputer(strategy='most_frequent')),\n",
        "    ('onehot', OneHotEncoder(handle_unknown='ignore', sparse_output=False))\n",
        "])"
      ]
    },
    {
      "cell_type": "code",
      "execution_count": 6,
      "id": "af2b4d94",
      "metadata": {
        "id": "af2b4d94"
      },
      "outputs": [],
      "source": [
        "preprocessor = ColumnTransformer(\n",
        "    transformers=[\n",
        "        ('num', numeric_transformer, numeric_features),\n",
        "        ('cat', categorical_transformer, categorical_features)\n",
        "    ])\n",
        "\n",
        "processed_data = preprocessor.fit_transform(df)"
      ]
    },
    {
      "cell_type": "code",
      "execution_count": 7,
      "id": "934f9bb8",
      "metadata": {
        "id": "934f9bb8"
      },
      "outputs": [],
      "source": [
        "numeric_columns = numeric_features  # Числовые признаки остаются без изменений\n",
        "ohe_categories = preprocessor.named_transformers_['cat'].named_steps['onehot'].get_feature_names_out(categorical_features)\n",
        "all_columns = numeric_columns + list(ohe_categories)\n",
        "result_df = pd.DataFrame(processed_data, columns=all_columns)"
      ]
    },
    {
      "cell_type": "code",
      "execution_count": 8,
      "id": "b60aeceb",
      "metadata": {
        "colab": {
          "base_uri": "https://localhost:8080/",
          "height": 473
        },
        "id": "b60aeceb",
        "outputId": "067dc5a0-fcc1-4233-f635-60d36127b464"
      },
      "outputs": [
        {
          "data": {
            "application/vnd.google.colaboratory.intrinsic+json": {
              "type": "dataframe",
              "variable_name": "result_df"
            },
            "text/html": [
              "\n",
              "  <div id=\"df-0b1e7d15-637b-4db7-9dc3-b7a7df462826\" class=\"colab-df-container\">\n",
              "    <div>\n",
              "<style scoped>\n",
              "    .dataframe tbody tr th:only-of-type {\n",
              "        vertical-align: middle;\n",
              "    }\n",
              "\n",
              "    .dataframe tbody tr th {\n",
              "        vertical-align: top;\n",
              "    }\n",
              "\n",
              "    .dataframe thead th {\n",
              "        text-align: right;\n",
              "    }\n",
              "</style>\n",
              "<table border=\"1\" class=\"dataframe\">\n",
              "  <thead>\n",
              "    <tr style=\"text-align: right;\">\n",
              "      <th></th>\n",
              "      <th>mass_fraction</th>\n",
              "      <th>component_param_value</th>\n",
              "      <th>oil_property_value</th>\n",
              "      <th>blend_id_00000d27-5cbc-45d1-8f32-169f158435b3</th>\n",
              "      <th>blend_id_00bcdc21-55e2-4408-bd34-7ece1ef3583a</th>\n",
              "      <th>blend_id_016d3413-ba63-4ee4-8925-b6b9a631e33c</th>\n",
              "      <th>blend_id_021bc9d5-473f-49b2-8bd4-cd40221af7bc</th>\n",
              "      <th>blend_id_02c60023-74c0-49d6-b72f-4df89f1e10de</th>\n",
              "      <th>blend_id_030d200c-7abe-4d1f-a43f-2043bb127ed2</th>\n",
              "      <th>blend_id_038a4242-87e4-4971-a2a4-534da0a39a95</th>\n",
              "      <th>...</th>\n",
              "      <th>component_param_title_d1f1141b-c5ad-483f-956b-576b7e5d395a</th>\n",
              "      <th>component_param_title_d4bc22ae-6679-4162-93df-bc83ab550e5b</th>\n",
              "      <th>component_param_title_d71c61dd-417a-4e43-bafe-e9b9014ac6ce</th>\n",
              "      <th>component_param_title_dab62856-f573-4597-9176-3caf6e3b1b39</th>\n",
              "      <th>component_param_title_e01d985b-e223-424e-8303-e68387f14510</th>\n",
              "      <th>component_param_title_f1acc67e-c976-4aea-83e4-2733b6a499a1</th>\n",
              "      <th>component_param_title_f6a97d54-9e01-4d65-95e6-35f89e576be6</th>\n",
              "      <th>component_param_title_fd593999-0c3f-4709-b586-b4b7fd914fd5</th>\n",
              "      <th>component_param_title_Температура вспышки в закрытом тигле</th>\n",
              "      <th>component_param_title_Температура вспышки в открытом тигле</th>\n",
              "    </tr>\n",
              "  </thead>\n",
              "  <tbody>\n",
              "    <tr>\n",
              "      <th>0</th>\n",
              "      <td>67.00</td>\n",
              "      <td>30.0</td>\n",
              "      <td>4.52</td>\n",
              "      <td>0.0</td>\n",
              "      <td>0.0</td>\n",
              "      <td>0.0</td>\n",
              "      <td>0.0</td>\n",
              "      <td>0.0</td>\n",
              "      <td>0.0</td>\n",
              "      <td>0.0</td>\n",
              "      <td>...</td>\n",
              "      <td>0.0</td>\n",
              "      <td>0.0</td>\n",
              "      <td>0.0</td>\n",
              "      <td>0.0</td>\n",
              "      <td>0.0</td>\n",
              "      <td>0.0</td>\n",
              "      <td>0.0</td>\n",
              "      <td>0.0</td>\n",
              "      <td>0.0</td>\n",
              "      <td>0.0</td>\n",
              "    </tr>\n",
              "    <tr>\n",
              "      <th>1</th>\n",
              "      <td>33.00</td>\n",
              "      <td>30.0</td>\n",
              "      <td>4.52</td>\n",
              "      <td>0.0</td>\n",
              "      <td>0.0</td>\n",
              "      <td>0.0</td>\n",
              "      <td>0.0</td>\n",
              "      <td>0.0</td>\n",
              "      <td>0.0</td>\n",
              "      <td>0.0</td>\n",
              "      <td>...</td>\n",
              "      <td>0.0</td>\n",
              "      <td>0.0</td>\n",
              "      <td>0.0</td>\n",
              "      <td>0.0</td>\n",
              "      <td>0.0</td>\n",
              "      <td>0.0</td>\n",
              "      <td>0.0</td>\n",
              "      <td>0.0</td>\n",
              "      <td>1.0</td>\n",
              "      <td>0.0</td>\n",
              "    </tr>\n",
              "    <tr>\n",
              "      <th>2</th>\n",
              "      <td>67.00</td>\n",
              "      <td>30.0</td>\n",
              "      <td>4.52</td>\n",
              "      <td>0.0</td>\n",
              "      <td>0.0</td>\n",
              "      <td>0.0</td>\n",
              "      <td>0.0</td>\n",
              "      <td>0.0</td>\n",
              "      <td>0.0</td>\n",
              "      <td>0.0</td>\n",
              "      <td>...</td>\n",
              "      <td>0.0</td>\n",
              "      <td>0.0</td>\n",
              "      <td>0.0</td>\n",
              "      <td>0.0</td>\n",
              "      <td>0.0</td>\n",
              "      <td>0.0</td>\n",
              "      <td>0.0</td>\n",
              "      <td>0.0</td>\n",
              "      <td>0.0</td>\n",
              "      <td>0.0</td>\n",
              "    </tr>\n",
              "    <tr>\n",
              "      <th>3</th>\n",
              "      <td>67.00</td>\n",
              "      <td>1612.0</td>\n",
              "      <td>4.52</td>\n",
              "      <td>0.0</td>\n",
              "      <td>0.0</td>\n",
              "      <td>0.0</td>\n",
              "      <td>0.0</td>\n",
              "      <td>0.0</td>\n",
              "      <td>0.0</td>\n",
              "      <td>0.0</td>\n",
              "      <td>...</td>\n",
              "      <td>0.0</td>\n",
              "      <td>0.0</td>\n",
              "      <td>0.0</td>\n",
              "      <td>0.0</td>\n",
              "      <td>0.0</td>\n",
              "      <td>0.0</td>\n",
              "      <td>0.0</td>\n",
              "      <td>0.0</td>\n",
              "      <td>0.0</td>\n",
              "      <td>0.0</td>\n",
              "    </tr>\n",
              "    <tr>\n",
              "      <th>4</th>\n",
              "      <td>33.00</td>\n",
              "      <td>2360.0</td>\n",
              "      <td>4.52</td>\n",
              "      <td>0.0</td>\n",
              "      <td>0.0</td>\n",
              "      <td>0.0</td>\n",
              "      <td>0.0</td>\n",
              "      <td>0.0</td>\n",
              "      <td>0.0</td>\n",
              "      <td>0.0</td>\n",
              "      <td>...</td>\n",
              "      <td>0.0</td>\n",
              "      <td>0.0</td>\n",
              "      <td>0.0</td>\n",
              "      <td>0.0</td>\n",
              "      <td>0.0</td>\n",
              "      <td>0.0</td>\n",
              "      <td>0.0</td>\n",
              "      <td>0.0</td>\n",
              "      <td>0.0</td>\n",
              "      <td>0.0</td>\n",
              "    </tr>\n",
              "    <tr>\n",
              "      <th>...</th>\n",
              "      <td>...</td>\n",
              "      <td>...</td>\n",
              "      <td>...</td>\n",
              "      <td>...</td>\n",
              "      <td>...</td>\n",
              "      <td>...</td>\n",
              "      <td>...</td>\n",
              "      <td>...</td>\n",
              "      <td>...</td>\n",
              "      <td>...</td>\n",
              "      <td>...</td>\n",
              "      <td>...</td>\n",
              "      <td>...</td>\n",
              "      <td>...</td>\n",
              "      <td>...</td>\n",
              "      <td>...</td>\n",
              "      <td>...</td>\n",
              "      <td>...</td>\n",
              "      <td>...</td>\n",
              "      <td>...</td>\n",
              "      <td>...</td>\n",
              "    </tr>\n",
              "    <tr>\n",
              "      <th>101855</th>\n",
              "      <td>49.69</td>\n",
              "      <td>30.0</td>\n",
              "      <td>10.09</td>\n",
              "      <td>0.0</td>\n",
              "      <td>0.0</td>\n",
              "      <td>0.0</td>\n",
              "      <td>0.0</td>\n",
              "      <td>0.0</td>\n",
              "      <td>0.0</td>\n",
              "      <td>0.0</td>\n",
              "      <td>...</td>\n",
              "      <td>0.0</td>\n",
              "      <td>0.0</td>\n",
              "      <td>0.0</td>\n",
              "      <td>0.0</td>\n",
              "      <td>0.0</td>\n",
              "      <td>0.0</td>\n",
              "      <td>0.0</td>\n",
              "      <td>0.0</td>\n",
              "      <td>0.0</td>\n",
              "      <td>0.0</td>\n",
              "    </tr>\n",
              "    <tr>\n",
              "      <th>101856</th>\n",
              "      <td>19.80</td>\n",
              "      <td>30.0</td>\n",
              "      <td>10.09</td>\n",
              "      <td>0.0</td>\n",
              "      <td>0.0</td>\n",
              "      <td>0.0</td>\n",
              "      <td>0.0</td>\n",
              "      <td>0.0</td>\n",
              "      <td>0.0</td>\n",
              "      <td>0.0</td>\n",
              "      <td>...</td>\n",
              "      <td>0.0</td>\n",
              "      <td>0.0</td>\n",
              "      <td>0.0</td>\n",
              "      <td>0.0</td>\n",
              "      <td>0.0</td>\n",
              "      <td>0.0</td>\n",
              "      <td>0.0</td>\n",
              "      <td>0.0</td>\n",
              "      <td>0.0</td>\n",
              "      <td>0.0</td>\n",
              "    </tr>\n",
              "    <tr>\n",
              "      <th>101857</th>\n",
              "      <td>29.70</td>\n",
              "      <td>3600.0</td>\n",
              "      <td>10.09</td>\n",
              "      <td>0.0</td>\n",
              "      <td>0.0</td>\n",
              "      <td>0.0</td>\n",
              "      <td>0.0</td>\n",
              "      <td>0.0</td>\n",
              "      <td>0.0</td>\n",
              "      <td>0.0</td>\n",
              "      <td>...</td>\n",
              "      <td>0.0</td>\n",
              "      <td>0.0</td>\n",
              "      <td>0.0</td>\n",
              "      <td>0.0</td>\n",
              "      <td>0.0</td>\n",
              "      <td>0.0</td>\n",
              "      <td>0.0</td>\n",
              "      <td>0.0</td>\n",
              "      <td>0.0</td>\n",
              "      <td>0.0</td>\n",
              "    </tr>\n",
              "    <tr>\n",
              "      <th>101858</th>\n",
              "      <td>29.70</td>\n",
              "      <td>30.0</td>\n",
              "      <td>10.09</td>\n",
              "      <td>0.0</td>\n",
              "      <td>0.0</td>\n",
              "      <td>0.0</td>\n",
              "      <td>0.0</td>\n",
              "      <td>0.0</td>\n",
              "      <td>0.0</td>\n",
              "      <td>0.0</td>\n",
              "      <td>...</td>\n",
              "      <td>0.0</td>\n",
              "      <td>0.0</td>\n",
              "      <td>0.0</td>\n",
              "      <td>0.0</td>\n",
              "      <td>0.0</td>\n",
              "      <td>0.0</td>\n",
              "      <td>0.0</td>\n",
              "      <td>0.0</td>\n",
              "      <td>0.0</td>\n",
              "      <td>0.0</td>\n",
              "    </tr>\n",
              "    <tr>\n",
              "      <th>101859</th>\n",
              "      <td>29.70</td>\n",
              "      <td>30.0</td>\n",
              "      <td>10.09</td>\n",
              "      <td>0.0</td>\n",
              "      <td>0.0</td>\n",
              "      <td>0.0</td>\n",
              "      <td>0.0</td>\n",
              "      <td>0.0</td>\n",
              "      <td>0.0</td>\n",
              "      <td>0.0</td>\n",
              "      <td>...</td>\n",
              "      <td>0.0</td>\n",
              "      <td>0.0</td>\n",
              "      <td>0.0</td>\n",
              "      <td>0.0</td>\n",
              "      <td>0.0</td>\n",
              "      <td>0.0</td>\n",
              "      <td>0.0</td>\n",
              "      <td>0.0</td>\n",
              "      <td>0.0</td>\n",
              "      <td>0.0</td>\n",
              "    </tr>\n",
              "  </tbody>\n",
              "</table>\n",
              "<p>101860 rows × 650 columns</p>\n",
              "</div>\n",
              "    <div class=\"colab-df-buttons\">\n",
              "\n",
              "  <div class=\"colab-df-container\">\n",
              "    <button class=\"colab-df-convert\" onclick=\"convertToInteractive('df-0b1e7d15-637b-4db7-9dc3-b7a7df462826')\"\n",
              "            title=\"Convert this dataframe to an interactive table.\"\n",
              "            style=\"display:none;\">\n",
              "\n",
              "  <svg xmlns=\"http://www.w3.org/2000/svg\" height=\"24px\" viewBox=\"0 -960 960 960\">\n",
              "    <path d=\"M120-120v-720h720v720H120Zm60-500h600v-160H180v160Zm220 220h160v-160H400v160Zm0 220h160v-160H400v160ZM180-400h160v-160H180v160Zm440 0h160v-160H620v160ZM180-180h160v-160H180v160Zm440 0h160v-160H620v160Z\"/>\n",
              "  </svg>\n",
              "    </button>\n",
              "\n",
              "  <style>\n",
              "    .colab-df-container {\n",
              "      display:flex;\n",
              "      gap: 12px;\n",
              "    }\n",
              "\n",
              "    .colab-df-convert {\n",
              "      background-color: #E8F0FE;\n",
              "      border: none;\n",
              "      border-radius: 50%;\n",
              "      cursor: pointer;\n",
              "      display: none;\n",
              "      fill: #1967D2;\n",
              "      height: 32px;\n",
              "      padding: 0 0 0 0;\n",
              "      width: 32px;\n",
              "    }\n",
              "\n",
              "    .colab-df-convert:hover {\n",
              "      background-color: #E2EBFA;\n",
              "      box-shadow: 0px 1px 2px rgba(60, 64, 67, 0.3), 0px 1px 3px 1px rgba(60, 64, 67, 0.15);\n",
              "      fill: #174EA6;\n",
              "    }\n",
              "\n",
              "    .colab-df-buttons div {\n",
              "      margin-bottom: 4px;\n",
              "    }\n",
              "\n",
              "    [theme=dark] .colab-df-convert {\n",
              "      background-color: #3B4455;\n",
              "      fill: #D2E3FC;\n",
              "    }\n",
              "\n",
              "    [theme=dark] .colab-df-convert:hover {\n",
              "      background-color: #434B5C;\n",
              "      box-shadow: 0px 1px 3px 1px rgba(0, 0, 0, 0.15);\n",
              "      filter: drop-shadow(0px 1px 2px rgba(0, 0, 0, 0.3));\n",
              "      fill: #FFFFFF;\n",
              "    }\n",
              "  </style>\n",
              "\n",
              "    <script>\n",
              "      const buttonEl =\n",
              "        document.querySelector('#df-0b1e7d15-637b-4db7-9dc3-b7a7df462826 button.colab-df-convert');\n",
              "      buttonEl.style.display =\n",
              "        google.colab.kernel.accessAllowed ? 'block' : 'none';\n",
              "\n",
              "      async function convertToInteractive(key) {\n",
              "        const element = document.querySelector('#df-0b1e7d15-637b-4db7-9dc3-b7a7df462826');\n",
              "        const dataTable =\n",
              "          await google.colab.kernel.invokeFunction('convertToInteractive',\n",
              "                                                    [key], {});\n",
              "        if (!dataTable) return;\n",
              "\n",
              "        const docLinkHtml = 'Like what you see? Visit the ' +\n",
              "          '<a target=\"_blank\" href=https://colab.research.google.com/notebooks/data_table.ipynb>data table notebook</a>'\n",
              "          + ' to learn more about interactive tables.';\n",
              "        element.innerHTML = '';\n",
              "        dataTable['output_type'] = 'display_data';\n",
              "        await google.colab.output.renderOutput(dataTable, element);\n",
              "        const docLink = document.createElement('div');\n",
              "        docLink.innerHTML = docLinkHtml;\n",
              "        element.appendChild(docLink);\n",
              "      }\n",
              "    </script>\n",
              "  </div>\n",
              "\n",
              "\n",
              "<div id=\"df-b6cf34a2-b134-4c0b-a077-843c206ad4e0\">\n",
              "  <button class=\"colab-df-quickchart\" onclick=\"quickchart('df-b6cf34a2-b134-4c0b-a077-843c206ad4e0')\"\n",
              "            title=\"Suggest charts\"\n",
              "            style=\"display:none;\">\n",
              "\n",
              "<svg xmlns=\"http://www.w3.org/2000/svg\" height=\"24px\"viewBox=\"0 0 24 24\"\n",
              "     width=\"24px\">\n",
              "    <g>\n",
              "        <path d=\"M19 3H5c-1.1 0-2 .9-2 2v14c0 1.1.9 2 2 2h14c1.1 0 2-.9 2-2V5c0-1.1-.9-2-2-2zM9 17H7v-7h2v7zm4 0h-2V7h2v10zm4 0h-2v-4h2v4z\"/>\n",
              "    </g>\n",
              "</svg>\n",
              "  </button>\n",
              "\n",
              "<style>\n",
              "  .colab-df-quickchart {\n",
              "      --bg-color: #E8F0FE;\n",
              "      --fill-color: #1967D2;\n",
              "      --hover-bg-color: #E2EBFA;\n",
              "      --hover-fill-color: #174EA6;\n",
              "      --disabled-fill-color: #AAA;\n",
              "      --disabled-bg-color: #DDD;\n",
              "  }\n",
              "\n",
              "  [theme=dark] .colab-df-quickchart {\n",
              "      --bg-color: #3B4455;\n",
              "      --fill-color: #D2E3FC;\n",
              "      --hover-bg-color: #434B5C;\n",
              "      --hover-fill-color: #FFFFFF;\n",
              "      --disabled-bg-color: #3B4455;\n",
              "      --disabled-fill-color: #666;\n",
              "  }\n",
              "\n",
              "  .colab-df-quickchart {\n",
              "    background-color: var(--bg-color);\n",
              "    border: none;\n",
              "    border-radius: 50%;\n",
              "    cursor: pointer;\n",
              "    display: none;\n",
              "    fill: var(--fill-color);\n",
              "    height: 32px;\n",
              "    padding: 0;\n",
              "    width: 32px;\n",
              "  }\n",
              "\n",
              "  .colab-df-quickchart:hover {\n",
              "    background-color: var(--hover-bg-color);\n",
              "    box-shadow: 0 1px 2px rgba(60, 64, 67, 0.3), 0 1px 3px 1px rgba(60, 64, 67, 0.15);\n",
              "    fill: var(--button-hover-fill-color);\n",
              "  }\n",
              "\n",
              "  .colab-df-quickchart-complete:disabled,\n",
              "  .colab-df-quickchart-complete:disabled:hover {\n",
              "    background-color: var(--disabled-bg-color);\n",
              "    fill: var(--disabled-fill-color);\n",
              "    box-shadow: none;\n",
              "  }\n",
              "\n",
              "  .colab-df-spinner {\n",
              "    border: 2px solid var(--fill-color);\n",
              "    border-color: transparent;\n",
              "    border-bottom-color: var(--fill-color);\n",
              "    animation:\n",
              "      spin 1s steps(1) infinite;\n",
              "  }\n",
              "\n",
              "  @keyframes spin {\n",
              "    0% {\n",
              "      border-color: transparent;\n",
              "      border-bottom-color: var(--fill-color);\n",
              "      border-left-color: var(--fill-color);\n",
              "    }\n",
              "    20% {\n",
              "      border-color: transparent;\n",
              "      border-left-color: var(--fill-color);\n",
              "      border-top-color: var(--fill-color);\n",
              "    }\n",
              "    30% {\n",
              "      border-color: transparent;\n",
              "      border-left-color: var(--fill-color);\n",
              "      border-top-color: var(--fill-color);\n",
              "      border-right-color: var(--fill-color);\n",
              "    }\n",
              "    40% {\n",
              "      border-color: transparent;\n",
              "      border-right-color: var(--fill-color);\n",
              "      border-top-color: var(--fill-color);\n",
              "    }\n",
              "    60% {\n",
              "      border-color: transparent;\n",
              "      border-right-color: var(--fill-color);\n",
              "    }\n",
              "    80% {\n",
              "      border-color: transparent;\n",
              "      border-right-color: var(--fill-color);\n",
              "      border-bottom-color: var(--fill-color);\n",
              "    }\n",
              "    90% {\n",
              "      border-color: transparent;\n",
              "      border-bottom-color: var(--fill-color);\n",
              "    }\n",
              "  }\n",
              "</style>\n",
              "\n",
              "  <script>\n",
              "    async function quickchart(key) {\n",
              "      const quickchartButtonEl =\n",
              "        document.querySelector('#' + key + ' button');\n",
              "      quickchartButtonEl.disabled = true;  // To prevent multiple clicks.\n",
              "      quickchartButtonEl.classList.add('colab-df-spinner');\n",
              "      try {\n",
              "        const charts = await google.colab.kernel.invokeFunction(\n",
              "            'suggestCharts', [key], {});\n",
              "      } catch (error) {\n",
              "        console.error('Error during call to suggestCharts:', error);\n",
              "      }\n",
              "      quickchartButtonEl.classList.remove('colab-df-spinner');\n",
              "      quickchartButtonEl.classList.add('colab-df-quickchart-complete');\n",
              "    }\n",
              "    (() => {\n",
              "      let quickchartButtonEl =\n",
              "        document.querySelector('#df-b6cf34a2-b134-4c0b-a077-843c206ad4e0 button');\n",
              "      quickchartButtonEl.style.display =\n",
              "        google.colab.kernel.accessAllowed ? 'block' : 'none';\n",
              "    })();\n",
              "  </script>\n",
              "</div>\n",
              "    </div>\n",
              "  </div>\n"
            ],
            "text/plain": [
              "        mass_fraction  component_param_value  oil_property_value  \\\n",
              "0               67.00                   30.0                4.52   \n",
              "1               33.00                   30.0                4.52   \n",
              "2               67.00                   30.0                4.52   \n",
              "3               67.00                 1612.0                4.52   \n",
              "4               33.00                 2360.0                4.52   \n",
              "...               ...                    ...                 ...   \n",
              "101855          49.69                   30.0               10.09   \n",
              "101856          19.80                   30.0               10.09   \n",
              "101857          29.70                 3600.0               10.09   \n",
              "101858          29.70                   30.0               10.09   \n",
              "101859          29.70                   30.0               10.09   \n",
              "\n",
              "        blend_id_00000d27-5cbc-45d1-8f32-169f158435b3  \\\n",
              "0                                                 0.0   \n",
              "1                                                 0.0   \n",
              "2                                                 0.0   \n",
              "3                                                 0.0   \n",
              "4                                                 0.0   \n",
              "...                                               ...   \n",
              "101855                                            0.0   \n",
              "101856                                            0.0   \n",
              "101857                                            0.0   \n",
              "101858                                            0.0   \n",
              "101859                                            0.0   \n",
              "\n",
              "        blend_id_00bcdc21-55e2-4408-bd34-7ece1ef3583a  \\\n",
              "0                                                 0.0   \n",
              "1                                                 0.0   \n",
              "2                                                 0.0   \n",
              "3                                                 0.0   \n",
              "4                                                 0.0   \n",
              "...                                               ...   \n",
              "101855                                            0.0   \n",
              "101856                                            0.0   \n",
              "101857                                            0.0   \n",
              "101858                                            0.0   \n",
              "101859                                            0.0   \n",
              "\n",
              "        blend_id_016d3413-ba63-4ee4-8925-b6b9a631e33c  \\\n",
              "0                                                 0.0   \n",
              "1                                                 0.0   \n",
              "2                                                 0.0   \n",
              "3                                                 0.0   \n",
              "4                                                 0.0   \n",
              "...                                               ...   \n",
              "101855                                            0.0   \n",
              "101856                                            0.0   \n",
              "101857                                            0.0   \n",
              "101858                                            0.0   \n",
              "101859                                            0.0   \n",
              "\n",
              "        blend_id_021bc9d5-473f-49b2-8bd4-cd40221af7bc  \\\n",
              "0                                                 0.0   \n",
              "1                                                 0.0   \n",
              "2                                                 0.0   \n",
              "3                                                 0.0   \n",
              "4                                                 0.0   \n",
              "...                                               ...   \n",
              "101855                                            0.0   \n",
              "101856                                            0.0   \n",
              "101857                                            0.0   \n",
              "101858                                            0.0   \n",
              "101859                                            0.0   \n",
              "\n",
              "        blend_id_02c60023-74c0-49d6-b72f-4df89f1e10de  \\\n",
              "0                                                 0.0   \n",
              "1                                                 0.0   \n",
              "2                                                 0.0   \n",
              "3                                                 0.0   \n",
              "4                                                 0.0   \n",
              "...                                               ...   \n",
              "101855                                            0.0   \n",
              "101856                                            0.0   \n",
              "101857                                            0.0   \n",
              "101858                                            0.0   \n",
              "101859                                            0.0   \n",
              "\n",
              "        blend_id_030d200c-7abe-4d1f-a43f-2043bb127ed2  \\\n",
              "0                                                 0.0   \n",
              "1                                                 0.0   \n",
              "2                                                 0.0   \n",
              "3                                                 0.0   \n",
              "4                                                 0.0   \n",
              "...                                               ...   \n",
              "101855                                            0.0   \n",
              "101856                                            0.0   \n",
              "101857                                            0.0   \n",
              "101858                                            0.0   \n",
              "101859                                            0.0   \n",
              "\n",
              "        blend_id_038a4242-87e4-4971-a2a4-534da0a39a95  ...  \\\n",
              "0                                                 0.0  ...   \n",
              "1                                                 0.0  ...   \n",
              "2                                                 0.0  ...   \n",
              "3                                                 0.0  ...   \n",
              "4                                                 0.0  ...   \n",
              "...                                               ...  ...   \n",
              "101855                                            0.0  ...   \n",
              "101856                                            0.0  ...   \n",
              "101857                                            0.0  ...   \n",
              "101858                                            0.0  ...   \n",
              "101859                                            0.0  ...   \n",
              "\n",
              "        component_param_title_d1f1141b-c5ad-483f-956b-576b7e5d395a  \\\n",
              "0                                                     0.0            \n",
              "1                                                     0.0            \n",
              "2                                                     0.0            \n",
              "3                                                     0.0            \n",
              "4                                                     0.0            \n",
              "...                                                   ...            \n",
              "101855                                                0.0            \n",
              "101856                                                0.0            \n",
              "101857                                                0.0            \n",
              "101858                                                0.0            \n",
              "101859                                                0.0            \n",
              "\n",
              "        component_param_title_d4bc22ae-6679-4162-93df-bc83ab550e5b  \\\n",
              "0                                                     0.0            \n",
              "1                                                     0.0            \n",
              "2                                                     0.0            \n",
              "3                                                     0.0            \n",
              "4                                                     0.0            \n",
              "...                                                   ...            \n",
              "101855                                                0.0            \n",
              "101856                                                0.0            \n",
              "101857                                                0.0            \n",
              "101858                                                0.0            \n",
              "101859                                                0.0            \n",
              "\n",
              "        component_param_title_d71c61dd-417a-4e43-bafe-e9b9014ac6ce  \\\n",
              "0                                                     0.0            \n",
              "1                                                     0.0            \n",
              "2                                                     0.0            \n",
              "3                                                     0.0            \n",
              "4                                                     0.0            \n",
              "...                                                   ...            \n",
              "101855                                                0.0            \n",
              "101856                                                0.0            \n",
              "101857                                                0.0            \n",
              "101858                                                0.0            \n",
              "101859                                                0.0            \n",
              "\n",
              "        component_param_title_dab62856-f573-4597-9176-3caf6e3b1b39  \\\n",
              "0                                                     0.0            \n",
              "1                                                     0.0            \n",
              "2                                                     0.0            \n",
              "3                                                     0.0            \n",
              "4                                                     0.0            \n",
              "...                                                   ...            \n",
              "101855                                                0.0            \n",
              "101856                                                0.0            \n",
              "101857                                                0.0            \n",
              "101858                                                0.0            \n",
              "101859                                                0.0            \n",
              "\n",
              "        component_param_title_e01d985b-e223-424e-8303-e68387f14510  \\\n",
              "0                                                     0.0            \n",
              "1                                                     0.0            \n",
              "2                                                     0.0            \n",
              "3                                                     0.0            \n",
              "4                                                     0.0            \n",
              "...                                                   ...            \n",
              "101855                                                0.0            \n",
              "101856                                                0.0            \n",
              "101857                                                0.0            \n",
              "101858                                                0.0            \n",
              "101859                                                0.0            \n",
              "\n",
              "        component_param_title_f1acc67e-c976-4aea-83e4-2733b6a499a1  \\\n",
              "0                                                     0.0            \n",
              "1                                                     0.0            \n",
              "2                                                     0.0            \n",
              "3                                                     0.0            \n",
              "4                                                     0.0            \n",
              "...                                                   ...            \n",
              "101855                                                0.0            \n",
              "101856                                                0.0            \n",
              "101857                                                0.0            \n",
              "101858                                                0.0            \n",
              "101859                                                0.0            \n",
              "\n",
              "        component_param_title_f6a97d54-9e01-4d65-95e6-35f89e576be6  \\\n",
              "0                                                     0.0            \n",
              "1                                                     0.0            \n",
              "2                                                     0.0            \n",
              "3                                                     0.0            \n",
              "4                                                     0.0            \n",
              "...                                                   ...            \n",
              "101855                                                0.0            \n",
              "101856                                                0.0            \n",
              "101857                                                0.0            \n",
              "101858                                                0.0            \n",
              "101859                                                0.0            \n",
              "\n",
              "        component_param_title_fd593999-0c3f-4709-b586-b4b7fd914fd5  \\\n",
              "0                                                     0.0            \n",
              "1                                                     0.0            \n",
              "2                                                     0.0            \n",
              "3                                                     0.0            \n",
              "4                                                     0.0            \n",
              "...                                                   ...            \n",
              "101855                                                0.0            \n",
              "101856                                                0.0            \n",
              "101857                                                0.0            \n",
              "101858                                                0.0            \n",
              "101859                                                0.0            \n",
              "\n",
              "        component_param_title_Температура вспышки в закрытом тигле  \\\n",
              "0                                                     0.0            \n",
              "1                                                     1.0            \n",
              "2                                                     0.0            \n",
              "3                                                     0.0            \n",
              "4                                                     0.0            \n",
              "...                                                   ...            \n",
              "101855                                                0.0            \n",
              "101856                                                0.0            \n",
              "101857                                                0.0            \n",
              "101858                                                0.0            \n",
              "101859                                                0.0            \n",
              "\n",
              "        component_param_title_Температура вспышки в открытом тигле  \n",
              "0                                                     0.0           \n",
              "1                                                     0.0           \n",
              "2                                                     0.0           \n",
              "3                                                     0.0           \n",
              "4                                                     0.0           \n",
              "...                                                   ...           \n",
              "101855                                                0.0           \n",
              "101856                                                0.0           \n",
              "101857                                                0.0           \n",
              "101858                                                0.0           \n",
              "101859                                                0.0           \n",
              "\n",
              "[101860 rows x 650 columns]"
            ]
          },
          "execution_count": 8,
          "metadata": {},
          "output_type": "execute_result"
        }
      ],
      "source": [
        "result_df"
      ]
    },
    {
      "cell_type": "code",
      "execution_count": 9,
      "id": "3395e624",
      "metadata": {
        "id": "3395e624"
      },
      "outputs": [],
      "source": [
        "def remove_outliers_iqr(df, numeric_cols):\n",
        "    \"\"\"\n",
        "    Удаляет выбросы из числовых столбцов с использованием метода IQR.\n",
        "    \"\"\"\n",
        "    df_clean = df.copy()\n",
        "    for col in numeric_cols:\n",
        "        Q1 = df_clean[col].quantile(0.25)\n",
        "        Q3 = df_clean[col].quantile(0.75)\n",
        "        IQR = Q3 - Q1\n",
        "        lower_bound = Q1 - 1.2 * IQR\n",
        "        upper_bound = Q3 + 1.2 * IQR\n",
        "        df_clean = df_clean[(df_clean[col] >= lower_bound) & (df_clean[col] <= upper_bound)]\n",
        "    return df_clean"
      ]
    },
    {
      "cell_type": "code",
      "execution_count": 10,
      "id": "d7d2e18f",
      "metadata": {
        "id": "d7d2e18f"
      },
      "outputs": [],
      "source": [
        "cleaned_df = remove_outliers_iqr(result_df, numeric_features)"
      ]
    },
    {
      "cell_type": "code",
      "execution_count": 11,
      "id": "3a42d93f",
      "metadata": {
        "colab": {
          "base_uri": "https://localhost:8080/",
          "height": 473
        },
        "id": "3a42d93f",
        "outputId": "18ceaaae-f8dc-444e-afd1-dcfea5502fad"
      },
      "outputs": [
        {
          "data": {
            "application/vnd.google.colaboratory.intrinsic+json": {
              "type": "dataframe",
              "variable_name": "cleaned_df"
            },
            "text/html": [
              "\n",
              "  <div id=\"df-7419caa3-6fc0-4654-b259-e29c89d9826d\" class=\"colab-df-container\">\n",
              "    <div>\n",
              "<style scoped>\n",
              "    .dataframe tbody tr th:only-of-type {\n",
              "        vertical-align: middle;\n",
              "    }\n",
              "\n",
              "    .dataframe tbody tr th {\n",
              "        vertical-align: top;\n",
              "    }\n",
              "\n",
              "    .dataframe thead th {\n",
              "        text-align: right;\n",
              "    }\n",
              "</style>\n",
              "<table border=\"1\" class=\"dataframe\">\n",
              "  <thead>\n",
              "    <tr style=\"text-align: right;\">\n",
              "      <th></th>\n",
              "      <th>mass_fraction</th>\n",
              "      <th>component_param_value</th>\n",
              "      <th>oil_property_value</th>\n",
              "      <th>blend_id_00000d27-5cbc-45d1-8f32-169f158435b3</th>\n",
              "      <th>blend_id_00bcdc21-55e2-4408-bd34-7ece1ef3583a</th>\n",
              "      <th>blend_id_016d3413-ba63-4ee4-8925-b6b9a631e33c</th>\n",
              "      <th>blend_id_021bc9d5-473f-49b2-8bd4-cd40221af7bc</th>\n",
              "      <th>blend_id_02c60023-74c0-49d6-b72f-4df89f1e10de</th>\n",
              "      <th>blend_id_030d200c-7abe-4d1f-a43f-2043bb127ed2</th>\n",
              "      <th>blend_id_038a4242-87e4-4971-a2a4-534da0a39a95</th>\n",
              "      <th>...</th>\n",
              "      <th>component_param_title_d1f1141b-c5ad-483f-956b-576b7e5d395a</th>\n",
              "      <th>component_param_title_d4bc22ae-6679-4162-93df-bc83ab550e5b</th>\n",
              "      <th>component_param_title_d71c61dd-417a-4e43-bafe-e9b9014ac6ce</th>\n",
              "      <th>component_param_title_dab62856-f573-4597-9176-3caf6e3b1b39</th>\n",
              "      <th>component_param_title_e01d985b-e223-424e-8303-e68387f14510</th>\n",
              "      <th>component_param_title_f1acc67e-c976-4aea-83e4-2733b6a499a1</th>\n",
              "      <th>component_param_title_f6a97d54-9e01-4d65-95e6-35f89e576be6</th>\n",
              "      <th>component_param_title_fd593999-0c3f-4709-b586-b4b7fd914fd5</th>\n",
              "      <th>component_param_title_Температура вспышки в закрытом тигле</th>\n",
              "      <th>component_param_title_Температура вспышки в открытом тигле</th>\n",
              "    </tr>\n",
              "  </thead>\n",
              "  <tbody>\n",
              "    <tr>\n",
              "      <th>0</th>\n",
              "      <td>67.00</td>\n",
              "      <td>30.0</td>\n",
              "      <td>4.52</td>\n",
              "      <td>0.0</td>\n",
              "      <td>0.0</td>\n",
              "      <td>0.0</td>\n",
              "      <td>0.0</td>\n",
              "      <td>0.0</td>\n",
              "      <td>0.0</td>\n",
              "      <td>0.0</td>\n",
              "      <td>...</td>\n",
              "      <td>0.0</td>\n",
              "      <td>0.0</td>\n",
              "      <td>0.0</td>\n",
              "      <td>0.0</td>\n",
              "      <td>0.0</td>\n",
              "      <td>0.0</td>\n",
              "      <td>0.0</td>\n",
              "      <td>0.0</td>\n",
              "      <td>0.0</td>\n",
              "      <td>0.0</td>\n",
              "    </tr>\n",
              "    <tr>\n",
              "      <th>1</th>\n",
              "      <td>33.00</td>\n",
              "      <td>30.0</td>\n",
              "      <td>4.52</td>\n",
              "      <td>0.0</td>\n",
              "      <td>0.0</td>\n",
              "      <td>0.0</td>\n",
              "      <td>0.0</td>\n",
              "      <td>0.0</td>\n",
              "      <td>0.0</td>\n",
              "      <td>0.0</td>\n",
              "      <td>...</td>\n",
              "      <td>0.0</td>\n",
              "      <td>0.0</td>\n",
              "      <td>0.0</td>\n",
              "      <td>0.0</td>\n",
              "      <td>0.0</td>\n",
              "      <td>0.0</td>\n",
              "      <td>0.0</td>\n",
              "      <td>0.0</td>\n",
              "      <td>1.0</td>\n",
              "      <td>0.0</td>\n",
              "    </tr>\n",
              "    <tr>\n",
              "      <th>2</th>\n",
              "      <td>67.00</td>\n",
              "      <td>30.0</td>\n",
              "      <td>4.52</td>\n",
              "      <td>0.0</td>\n",
              "      <td>0.0</td>\n",
              "      <td>0.0</td>\n",
              "      <td>0.0</td>\n",
              "      <td>0.0</td>\n",
              "      <td>0.0</td>\n",
              "      <td>0.0</td>\n",
              "      <td>...</td>\n",
              "      <td>0.0</td>\n",
              "      <td>0.0</td>\n",
              "      <td>0.0</td>\n",
              "      <td>0.0</td>\n",
              "      <td>0.0</td>\n",
              "      <td>0.0</td>\n",
              "      <td>0.0</td>\n",
              "      <td>0.0</td>\n",
              "      <td>0.0</td>\n",
              "      <td>0.0</td>\n",
              "    </tr>\n",
              "    <tr>\n",
              "      <th>5</th>\n",
              "      <td>33.00</td>\n",
              "      <td>30.0</td>\n",
              "      <td>4.52</td>\n",
              "      <td>0.0</td>\n",
              "      <td>0.0</td>\n",
              "      <td>0.0</td>\n",
              "      <td>0.0</td>\n",
              "      <td>0.0</td>\n",
              "      <td>0.0</td>\n",
              "      <td>0.0</td>\n",
              "      <td>...</td>\n",
              "      <td>0.0</td>\n",
              "      <td>0.0</td>\n",
              "      <td>0.0</td>\n",
              "      <td>0.0</td>\n",
              "      <td>0.0</td>\n",
              "      <td>0.0</td>\n",
              "      <td>0.0</td>\n",
              "      <td>0.0</td>\n",
              "      <td>0.0</td>\n",
              "      <td>0.0</td>\n",
              "    </tr>\n",
              "    <tr>\n",
              "      <th>6</th>\n",
              "      <td>67.00</td>\n",
              "      <td>30.0</td>\n",
              "      <td>4.52</td>\n",
              "      <td>0.0</td>\n",
              "      <td>0.0</td>\n",
              "      <td>0.0</td>\n",
              "      <td>0.0</td>\n",
              "      <td>0.0</td>\n",
              "      <td>0.0</td>\n",
              "      <td>0.0</td>\n",
              "      <td>...</td>\n",
              "      <td>0.0</td>\n",
              "      <td>0.0</td>\n",
              "      <td>0.0</td>\n",
              "      <td>0.0</td>\n",
              "      <td>0.0</td>\n",
              "      <td>0.0</td>\n",
              "      <td>0.0</td>\n",
              "      <td>0.0</td>\n",
              "      <td>0.0</td>\n",
              "      <td>0.0</td>\n",
              "    </tr>\n",
              "    <tr>\n",
              "      <th>...</th>\n",
              "      <td>...</td>\n",
              "      <td>...</td>\n",
              "      <td>...</td>\n",
              "      <td>...</td>\n",
              "      <td>...</td>\n",
              "      <td>...</td>\n",
              "      <td>...</td>\n",
              "      <td>...</td>\n",
              "      <td>...</td>\n",
              "      <td>...</td>\n",
              "      <td>...</td>\n",
              "      <td>...</td>\n",
              "      <td>...</td>\n",
              "      <td>...</td>\n",
              "      <td>...</td>\n",
              "      <td>...</td>\n",
              "      <td>...</td>\n",
              "      <td>...</td>\n",
              "      <td>...</td>\n",
              "      <td>...</td>\n",
              "      <td>...</td>\n",
              "    </tr>\n",
              "    <tr>\n",
              "      <th>101852</th>\n",
              "      <td>29.70</td>\n",
              "      <td>30.0</td>\n",
              "      <td>10.09</td>\n",
              "      <td>0.0</td>\n",
              "      <td>0.0</td>\n",
              "      <td>0.0</td>\n",
              "      <td>0.0</td>\n",
              "      <td>0.0</td>\n",
              "      <td>0.0</td>\n",
              "      <td>0.0</td>\n",
              "      <td>...</td>\n",
              "      <td>0.0</td>\n",
              "      <td>0.0</td>\n",
              "      <td>0.0</td>\n",
              "      <td>0.0</td>\n",
              "      <td>0.0</td>\n",
              "      <td>0.0</td>\n",
              "      <td>0.0</td>\n",
              "      <td>0.0</td>\n",
              "      <td>0.0</td>\n",
              "      <td>1.0</td>\n",
              "    </tr>\n",
              "    <tr>\n",
              "      <th>101855</th>\n",
              "      <td>49.69</td>\n",
              "      <td>30.0</td>\n",
              "      <td>10.09</td>\n",
              "      <td>0.0</td>\n",
              "      <td>0.0</td>\n",
              "      <td>0.0</td>\n",
              "      <td>0.0</td>\n",
              "      <td>0.0</td>\n",
              "      <td>0.0</td>\n",
              "      <td>0.0</td>\n",
              "      <td>...</td>\n",
              "      <td>0.0</td>\n",
              "      <td>0.0</td>\n",
              "      <td>0.0</td>\n",
              "      <td>0.0</td>\n",
              "      <td>0.0</td>\n",
              "      <td>0.0</td>\n",
              "      <td>0.0</td>\n",
              "      <td>0.0</td>\n",
              "      <td>0.0</td>\n",
              "      <td>0.0</td>\n",
              "    </tr>\n",
              "    <tr>\n",
              "      <th>101856</th>\n",
              "      <td>19.80</td>\n",
              "      <td>30.0</td>\n",
              "      <td>10.09</td>\n",
              "      <td>0.0</td>\n",
              "      <td>0.0</td>\n",
              "      <td>0.0</td>\n",
              "      <td>0.0</td>\n",
              "      <td>0.0</td>\n",
              "      <td>0.0</td>\n",
              "      <td>0.0</td>\n",
              "      <td>...</td>\n",
              "      <td>0.0</td>\n",
              "      <td>0.0</td>\n",
              "      <td>0.0</td>\n",
              "      <td>0.0</td>\n",
              "      <td>0.0</td>\n",
              "      <td>0.0</td>\n",
              "      <td>0.0</td>\n",
              "      <td>0.0</td>\n",
              "      <td>0.0</td>\n",
              "      <td>0.0</td>\n",
              "    </tr>\n",
              "    <tr>\n",
              "      <th>101858</th>\n",
              "      <td>29.70</td>\n",
              "      <td>30.0</td>\n",
              "      <td>10.09</td>\n",
              "      <td>0.0</td>\n",
              "      <td>0.0</td>\n",
              "      <td>0.0</td>\n",
              "      <td>0.0</td>\n",
              "      <td>0.0</td>\n",
              "      <td>0.0</td>\n",
              "      <td>0.0</td>\n",
              "      <td>...</td>\n",
              "      <td>0.0</td>\n",
              "      <td>0.0</td>\n",
              "      <td>0.0</td>\n",
              "      <td>0.0</td>\n",
              "      <td>0.0</td>\n",
              "      <td>0.0</td>\n",
              "      <td>0.0</td>\n",
              "      <td>0.0</td>\n",
              "      <td>0.0</td>\n",
              "      <td>0.0</td>\n",
              "    </tr>\n",
              "    <tr>\n",
              "      <th>101859</th>\n",
              "      <td>29.70</td>\n",
              "      <td>30.0</td>\n",
              "      <td>10.09</td>\n",
              "      <td>0.0</td>\n",
              "      <td>0.0</td>\n",
              "      <td>0.0</td>\n",
              "      <td>0.0</td>\n",
              "      <td>0.0</td>\n",
              "      <td>0.0</td>\n",
              "      <td>0.0</td>\n",
              "      <td>...</td>\n",
              "      <td>0.0</td>\n",
              "      <td>0.0</td>\n",
              "      <td>0.0</td>\n",
              "      <td>0.0</td>\n",
              "      <td>0.0</td>\n",
              "      <td>0.0</td>\n",
              "      <td>0.0</td>\n",
              "      <td>0.0</td>\n",
              "      <td>0.0</td>\n",
              "      <td>0.0</td>\n",
              "    </tr>\n",
              "  </tbody>\n",
              "</table>\n",
              "<p>67340 rows × 650 columns</p>\n",
              "</div>\n",
              "    <div class=\"colab-df-buttons\">\n",
              "\n",
              "  <div class=\"colab-df-container\">\n",
              "    <button class=\"colab-df-convert\" onclick=\"convertToInteractive('df-7419caa3-6fc0-4654-b259-e29c89d9826d')\"\n",
              "            title=\"Convert this dataframe to an interactive table.\"\n",
              "            style=\"display:none;\">\n",
              "\n",
              "  <svg xmlns=\"http://www.w3.org/2000/svg\" height=\"24px\" viewBox=\"0 -960 960 960\">\n",
              "    <path d=\"M120-120v-720h720v720H120Zm60-500h600v-160H180v160Zm220 220h160v-160H400v160Zm0 220h160v-160H400v160ZM180-400h160v-160H180v160Zm440 0h160v-160H620v160ZM180-180h160v-160H180v160Zm440 0h160v-160H620v160Z\"/>\n",
              "  </svg>\n",
              "    </button>\n",
              "\n",
              "  <style>\n",
              "    .colab-df-container {\n",
              "      display:flex;\n",
              "      gap: 12px;\n",
              "    }\n",
              "\n",
              "    .colab-df-convert {\n",
              "      background-color: #E8F0FE;\n",
              "      border: none;\n",
              "      border-radius: 50%;\n",
              "      cursor: pointer;\n",
              "      display: none;\n",
              "      fill: #1967D2;\n",
              "      height: 32px;\n",
              "      padding: 0 0 0 0;\n",
              "      width: 32px;\n",
              "    }\n",
              "\n",
              "    .colab-df-convert:hover {\n",
              "      background-color: #E2EBFA;\n",
              "      box-shadow: 0px 1px 2px rgba(60, 64, 67, 0.3), 0px 1px 3px 1px rgba(60, 64, 67, 0.15);\n",
              "      fill: #174EA6;\n",
              "    }\n",
              "\n",
              "    .colab-df-buttons div {\n",
              "      margin-bottom: 4px;\n",
              "    }\n",
              "\n",
              "    [theme=dark] .colab-df-convert {\n",
              "      background-color: #3B4455;\n",
              "      fill: #D2E3FC;\n",
              "    }\n",
              "\n",
              "    [theme=dark] .colab-df-convert:hover {\n",
              "      background-color: #434B5C;\n",
              "      box-shadow: 0px 1px 3px 1px rgba(0, 0, 0, 0.15);\n",
              "      filter: drop-shadow(0px 1px 2px rgba(0, 0, 0, 0.3));\n",
              "      fill: #FFFFFF;\n",
              "    }\n",
              "  </style>\n",
              "\n",
              "    <script>\n",
              "      const buttonEl =\n",
              "        document.querySelector('#df-7419caa3-6fc0-4654-b259-e29c89d9826d button.colab-df-convert');\n",
              "      buttonEl.style.display =\n",
              "        google.colab.kernel.accessAllowed ? 'block' : 'none';\n",
              "\n",
              "      async function convertToInteractive(key) {\n",
              "        const element = document.querySelector('#df-7419caa3-6fc0-4654-b259-e29c89d9826d');\n",
              "        const dataTable =\n",
              "          await google.colab.kernel.invokeFunction('convertToInteractive',\n",
              "                                                    [key], {});\n",
              "        if (!dataTable) return;\n",
              "\n",
              "        const docLinkHtml = 'Like what you see? Visit the ' +\n",
              "          '<a target=\"_blank\" href=https://colab.research.google.com/notebooks/data_table.ipynb>data table notebook</a>'\n",
              "          + ' to learn more about interactive tables.';\n",
              "        element.innerHTML = '';\n",
              "        dataTable['output_type'] = 'display_data';\n",
              "        await google.colab.output.renderOutput(dataTable, element);\n",
              "        const docLink = document.createElement('div');\n",
              "        docLink.innerHTML = docLinkHtml;\n",
              "        element.appendChild(docLink);\n",
              "      }\n",
              "    </script>\n",
              "  </div>\n",
              "\n",
              "\n",
              "<div id=\"df-f638a40d-8f25-484d-8f93-13f1df657d5d\">\n",
              "  <button class=\"colab-df-quickchart\" onclick=\"quickchart('df-f638a40d-8f25-484d-8f93-13f1df657d5d')\"\n",
              "            title=\"Suggest charts\"\n",
              "            style=\"display:none;\">\n",
              "\n",
              "<svg xmlns=\"http://www.w3.org/2000/svg\" height=\"24px\"viewBox=\"0 0 24 24\"\n",
              "     width=\"24px\">\n",
              "    <g>\n",
              "        <path d=\"M19 3H5c-1.1 0-2 .9-2 2v14c0 1.1.9 2 2 2h14c1.1 0 2-.9 2-2V5c0-1.1-.9-2-2-2zM9 17H7v-7h2v7zm4 0h-2V7h2v10zm4 0h-2v-4h2v4z\"/>\n",
              "    </g>\n",
              "</svg>\n",
              "  </button>\n",
              "\n",
              "<style>\n",
              "  .colab-df-quickchart {\n",
              "      --bg-color: #E8F0FE;\n",
              "      --fill-color: #1967D2;\n",
              "      --hover-bg-color: #E2EBFA;\n",
              "      --hover-fill-color: #174EA6;\n",
              "      --disabled-fill-color: #AAA;\n",
              "      --disabled-bg-color: #DDD;\n",
              "  }\n",
              "\n",
              "  [theme=dark] .colab-df-quickchart {\n",
              "      --bg-color: #3B4455;\n",
              "      --fill-color: #D2E3FC;\n",
              "      --hover-bg-color: #434B5C;\n",
              "      --hover-fill-color: #FFFFFF;\n",
              "      --disabled-bg-color: #3B4455;\n",
              "      --disabled-fill-color: #666;\n",
              "  }\n",
              "\n",
              "  .colab-df-quickchart {\n",
              "    background-color: var(--bg-color);\n",
              "    border: none;\n",
              "    border-radius: 50%;\n",
              "    cursor: pointer;\n",
              "    display: none;\n",
              "    fill: var(--fill-color);\n",
              "    height: 32px;\n",
              "    padding: 0;\n",
              "    width: 32px;\n",
              "  }\n",
              "\n",
              "  .colab-df-quickchart:hover {\n",
              "    background-color: var(--hover-bg-color);\n",
              "    box-shadow: 0 1px 2px rgba(60, 64, 67, 0.3), 0 1px 3px 1px rgba(60, 64, 67, 0.15);\n",
              "    fill: var(--button-hover-fill-color);\n",
              "  }\n",
              "\n",
              "  .colab-df-quickchart-complete:disabled,\n",
              "  .colab-df-quickchart-complete:disabled:hover {\n",
              "    background-color: var(--disabled-bg-color);\n",
              "    fill: var(--disabled-fill-color);\n",
              "    box-shadow: none;\n",
              "  }\n",
              "\n",
              "  .colab-df-spinner {\n",
              "    border: 2px solid var(--fill-color);\n",
              "    border-color: transparent;\n",
              "    border-bottom-color: var(--fill-color);\n",
              "    animation:\n",
              "      spin 1s steps(1) infinite;\n",
              "  }\n",
              "\n",
              "  @keyframes spin {\n",
              "    0% {\n",
              "      border-color: transparent;\n",
              "      border-bottom-color: var(--fill-color);\n",
              "      border-left-color: var(--fill-color);\n",
              "    }\n",
              "    20% {\n",
              "      border-color: transparent;\n",
              "      border-left-color: var(--fill-color);\n",
              "      border-top-color: var(--fill-color);\n",
              "    }\n",
              "    30% {\n",
              "      border-color: transparent;\n",
              "      border-left-color: var(--fill-color);\n",
              "      border-top-color: var(--fill-color);\n",
              "      border-right-color: var(--fill-color);\n",
              "    }\n",
              "    40% {\n",
              "      border-color: transparent;\n",
              "      border-right-color: var(--fill-color);\n",
              "      border-top-color: var(--fill-color);\n",
              "    }\n",
              "    60% {\n",
              "      border-color: transparent;\n",
              "      border-right-color: var(--fill-color);\n",
              "    }\n",
              "    80% {\n",
              "      border-color: transparent;\n",
              "      border-right-color: var(--fill-color);\n",
              "      border-bottom-color: var(--fill-color);\n",
              "    }\n",
              "    90% {\n",
              "      border-color: transparent;\n",
              "      border-bottom-color: var(--fill-color);\n",
              "    }\n",
              "  }\n",
              "</style>\n",
              "\n",
              "  <script>\n",
              "    async function quickchart(key) {\n",
              "      const quickchartButtonEl =\n",
              "        document.querySelector('#' + key + ' button');\n",
              "      quickchartButtonEl.disabled = true;  // To prevent multiple clicks.\n",
              "      quickchartButtonEl.classList.add('colab-df-spinner');\n",
              "      try {\n",
              "        const charts = await google.colab.kernel.invokeFunction(\n",
              "            'suggestCharts', [key], {});\n",
              "      } catch (error) {\n",
              "        console.error('Error during call to suggestCharts:', error);\n",
              "      }\n",
              "      quickchartButtonEl.classList.remove('colab-df-spinner');\n",
              "      quickchartButtonEl.classList.add('colab-df-quickchart-complete');\n",
              "    }\n",
              "    (() => {\n",
              "      let quickchartButtonEl =\n",
              "        document.querySelector('#df-f638a40d-8f25-484d-8f93-13f1df657d5d button');\n",
              "      quickchartButtonEl.style.display =\n",
              "        google.colab.kernel.accessAllowed ? 'block' : 'none';\n",
              "    })();\n",
              "  </script>\n",
              "</div>\n",
              "    </div>\n",
              "  </div>\n"
            ],
            "text/plain": [
              "        mass_fraction  component_param_value  oil_property_value  \\\n",
              "0               67.00                   30.0                4.52   \n",
              "1               33.00                   30.0                4.52   \n",
              "2               67.00                   30.0                4.52   \n",
              "5               33.00                   30.0                4.52   \n",
              "6               67.00                   30.0                4.52   \n",
              "...               ...                    ...                 ...   \n",
              "101852          29.70                   30.0               10.09   \n",
              "101855          49.69                   30.0               10.09   \n",
              "101856          19.80                   30.0               10.09   \n",
              "101858          29.70                   30.0               10.09   \n",
              "101859          29.70                   30.0               10.09   \n",
              "\n",
              "        blend_id_00000d27-5cbc-45d1-8f32-169f158435b3  \\\n",
              "0                                                 0.0   \n",
              "1                                                 0.0   \n",
              "2                                                 0.0   \n",
              "5                                                 0.0   \n",
              "6                                                 0.0   \n",
              "...                                               ...   \n",
              "101852                                            0.0   \n",
              "101855                                            0.0   \n",
              "101856                                            0.0   \n",
              "101858                                            0.0   \n",
              "101859                                            0.0   \n",
              "\n",
              "        blend_id_00bcdc21-55e2-4408-bd34-7ece1ef3583a  \\\n",
              "0                                                 0.0   \n",
              "1                                                 0.0   \n",
              "2                                                 0.0   \n",
              "5                                                 0.0   \n",
              "6                                                 0.0   \n",
              "...                                               ...   \n",
              "101852                                            0.0   \n",
              "101855                                            0.0   \n",
              "101856                                            0.0   \n",
              "101858                                            0.0   \n",
              "101859                                            0.0   \n",
              "\n",
              "        blend_id_016d3413-ba63-4ee4-8925-b6b9a631e33c  \\\n",
              "0                                                 0.0   \n",
              "1                                                 0.0   \n",
              "2                                                 0.0   \n",
              "5                                                 0.0   \n",
              "6                                                 0.0   \n",
              "...                                               ...   \n",
              "101852                                            0.0   \n",
              "101855                                            0.0   \n",
              "101856                                            0.0   \n",
              "101858                                            0.0   \n",
              "101859                                            0.0   \n",
              "\n",
              "        blend_id_021bc9d5-473f-49b2-8bd4-cd40221af7bc  \\\n",
              "0                                                 0.0   \n",
              "1                                                 0.0   \n",
              "2                                                 0.0   \n",
              "5                                                 0.0   \n",
              "6                                                 0.0   \n",
              "...                                               ...   \n",
              "101852                                            0.0   \n",
              "101855                                            0.0   \n",
              "101856                                            0.0   \n",
              "101858                                            0.0   \n",
              "101859                                            0.0   \n",
              "\n",
              "        blend_id_02c60023-74c0-49d6-b72f-4df89f1e10de  \\\n",
              "0                                                 0.0   \n",
              "1                                                 0.0   \n",
              "2                                                 0.0   \n",
              "5                                                 0.0   \n",
              "6                                                 0.0   \n",
              "...                                               ...   \n",
              "101852                                            0.0   \n",
              "101855                                            0.0   \n",
              "101856                                            0.0   \n",
              "101858                                            0.0   \n",
              "101859                                            0.0   \n",
              "\n",
              "        blend_id_030d200c-7abe-4d1f-a43f-2043bb127ed2  \\\n",
              "0                                                 0.0   \n",
              "1                                                 0.0   \n",
              "2                                                 0.0   \n",
              "5                                                 0.0   \n",
              "6                                                 0.0   \n",
              "...                                               ...   \n",
              "101852                                            0.0   \n",
              "101855                                            0.0   \n",
              "101856                                            0.0   \n",
              "101858                                            0.0   \n",
              "101859                                            0.0   \n",
              "\n",
              "        blend_id_038a4242-87e4-4971-a2a4-534da0a39a95  ...  \\\n",
              "0                                                 0.0  ...   \n",
              "1                                                 0.0  ...   \n",
              "2                                                 0.0  ...   \n",
              "5                                                 0.0  ...   \n",
              "6                                                 0.0  ...   \n",
              "...                                               ...  ...   \n",
              "101852                                            0.0  ...   \n",
              "101855                                            0.0  ...   \n",
              "101856                                            0.0  ...   \n",
              "101858                                            0.0  ...   \n",
              "101859                                            0.0  ...   \n",
              "\n",
              "        component_param_title_d1f1141b-c5ad-483f-956b-576b7e5d395a  \\\n",
              "0                                                     0.0            \n",
              "1                                                     0.0            \n",
              "2                                                     0.0            \n",
              "5                                                     0.0            \n",
              "6                                                     0.0            \n",
              "...                                                   ...            \n",
              "101852                                                0.0            \n",
              "101855                                                0.0            \n",
              "101856                                                0.0            \n",
              "101858                                                0.0            \n",
              "101859                                                0.0            \n",
              "\n",
              "        component_param_title_d4bc22ae-6679-4162-93df-bc83ab550e5b  \\\n",
              "0                                                     0.0            \n",
              "1                                                     0.0            \n",
              "2                                                     0.0            \n",
              "5                                                     0.0            \n",
              "6                                                     0.0            \n",
              "...                                                   ...            \n",
              "101852                                                0.0            \n",
              "101855                                                0.0            \n",
              "101856                                                0.0            \n",
              "101858                                                0.0            \n",
              "101859                                                0.0            \n",
              "\n",
              "        component_param_title_d71c61dd-417a-4e43-bafe-e9b9014ac6ce  \\\n",
              "0                                                     0.0            \n",
              "1                                                     0.0            \n",
              "2                                                     0.0            \n",
              "5                                                     0.0            \n",
              "6                                                     0.0            \n",
              "...                                                   ...            \n",
              "101852                                                0.0            \n",
              "101855                                                0.0            \n",
              "101856                                                0.0            \n",
              "101858                                                0.0            \n",
              "101859                                                0.0            \n",
              "\n",
              "        component_param_title_dab62856-f573-4597-9176-3caf6e3b1b39  \\\n",
              "0                                                     0.0            \n",
              "1                                                     0.0            \n",
              "2                                                     0.0            \n",
              "5                                                     0.0            \n",
              "6                                                     0.0            \n",
              "...                                                   ...            \n",
              "101852                                                0.0            \n",
              "101855                                                0.0            \n",
              "101856                                                0.0            \n",
              "101858                                                0.0            \n",
              "101859                                                0.0            \n",
              "\n",
              "        component_param_title_e01d985b-e223-424e-8303-e68387f14510  \\\n",
              "0                                                     0.0            \n",
              "1                                                     0.0            \n",
              "2                                                     0.0            \n",
              "5                                                     0.0            \n",
              "6                                                     0.0            \n",
              "...                                                   ...            \n",
              "101852                                                0.0            \n",
              "101855                                                0.0            \n",
              "101856                                                0.0            \n",
              "101858                                                0.0            \n",
              "101859                                                0.0            \n",
              "\n",
              "        component_param_title_f1acc67e-c976-4aea-83e4-2733b6a499a1  \\\n",
              "0                                                     0.0            \n",
              "1                                                     0.0            \n",
              "2                                                     0.0            \n",
              "5                                                     0.0            \n",
              "6                                                     0.0            \n",
              "...                                                   ...            \n",
              "101852                                                0.0            \n",
              "101855                                                0.0            \n",
              "101856                                                0.0            \n",
              "101858                                                0.0            \n",
              "101859                                                0.0            \n",
              "\n",
              "        component_param_title_f6a97d54-9e01-4d65-95e6-35f89e576be6  \\\n",
              "0                                                     0.0            \n",
              "1                                                     0.0            \n",
              "2                                                     0.0            \n",
              "5                                                     0.0            \n",
              "6                                                     0.0            \n",
              "...                                                   ...            \n",
              "101852                                                0.0            \n",
              "101855                                                0.0            \n",
              "101856                                                0.0            \n",
              "101858                                                0.0            \n",
              "101859                                                0.0            \n",
              "\n",
              "        component_param_title_fd593999-0c3f-4709-b586-b4b7fd914fd5  \\\n",
              "0                                                     0.0            \n",
              "1                                                     0.0            \n",
              "2                                                     0.0            \n",
              "5                                                     0.0            \n",
              "6                                                     0.0            \n",
              "...                                                   ...            \n",
              "101852                                                0.0            \n",
              "101855                                                0.0            \n",
              "101856                                                0.0            \n",
              "101858                                                0.0            \n",
              "101859                                                0.0            \n",
              "\n",
              "        component_param_title_Температура вспышки в закрытом тигле  \\\n",
              "0                                                     0.0            \n",
              "1                                                     1.0            \n",
              "2                                                     0.0            \n",
              "5                                                     0.0            \n",
              "6                                                     0.0            \n",
              "...                                                   ...            \n",
              "101852                                                0.0            \n",
              "101855                                                0.0            \n",
              "101856                                                0.0            \n",
              "101858                                                0.0            \n",
              "101859                                                0.0            \n",
              "\n",
              "        component_param_title_Температура вспышки в открытом тигле  \n",
              "0                                                     0.0           \n",
              "1                                                     0.0           \n",
              "2                                                     0.0           \n",
              "5                                                     0.0           \n",
              "6                                                     0.0           \n",
              "...                                                   ...           \n",
              "101852                                                1.0           \n",
              "101855                                                0.0           \n",
              "101856                                                0.0           \n",
              "101858                                                0.0           \n",
              "101859                                                0.0           \n",
              "\n",
              "[67340 rows x 650 columns]"
            ]
          },
          "execution_count": 11,
          "metadata": {},
          "output_type": "execute_result"
        }
      ],
      "source": [
        "cleaned_df"
      ]
    },
    {
      "cell_type": "code",
      "execution_count": 12,
      "id": "79c8c4b2",
      "metadata": {
        "id": "79c8c4b2"
      },
      "outputs": [],
      "source": [
        "X = cleaned_df.drop(columns=['oil_property_value'], axis=0)\n",
        "y = cleaned_df['oil_property_value']\n",
        "\n",
        "X_train, X_test, y_train, y_test = train_test_split(X, y, test_size=0.2, random_state=42)"
      ]
    },
    {
      "cell_type": "markdown",
      "id": "5f5586d0",
      "metadata": {
        "id": "5f5586d0"
      },
      "source": [
        "## CatBoost"
      ]
    },
    {
      "cell_type": "code",
      "execution_count": 18,
      "id": "6f46f545",
      "metadata": {
        "colab": {
          "base_uri": "https://localhost:8080/",
          "height": 316
        },
        "id": "6f46f545",
        "outputId": "92f05f6e-594a-49f0-b4ed-3861ead1e7a4"
      },
      "outputs": [
        {
          "ename": "ValueError",
          "evalue": "numpy.dtype size changed, may indicate binary incompatibility. Expected 96 from C header, got 88 from PyObject",
          "output_type": "error",
          "traceback": [
            "\u001b[0;31m---------------------------------------------------------------------------\u001b[0m",
            "\u001b[0;31mValueError\u001b[0m                                Traceback (most recent call last)",
            "\u001b[0;32m<ipython-input-18-d222a454d36a>\u001b[0m in \u001b[0;36m<cell line: 0>\u001b[0;34m()\u001b[0m\n\u001b[0;32m----> 1\u001b[0;31m \u001b[0;32mfrom\u001b[0m \u001b[0mcatboost\u001b[0m \u001b[0;32mimport\u001b[0m \u001b[0mCatBoostRegressor\u001b[0m\u001b[0;34m\u001b[0m\u001b[0;34m\u001b[0m\u001b[0m\n\u001b[0m",
            "\u001b[0;32m/usr/local/lib/python3.11/dist-packages/catboost/__init__.py\u001b[0m in \u001b[0;36m<module>\u001b[0;34m\u001b[0m\n\u001b[0;32m----> 1\u001b[0;31m from .core import (\n\u001b[0m\u001b[1;32m      2\u001b[0m     \u001b[0mFeaturesData\u001b[0m\u001b[0;34m,\u001b[0m \u001b[0mEFstrType\u001b[0m\u001b[0;34m,\u001b[0m \u001b[0mEShapCalcType\u001b[0m\u001b[0;34m,\u001b[0m \u001b[0mEFeaturesSelectionAlgorithm\u001b[0m\u001b[0;34m,\u001b[0m \u001b[0mEFeaturesSelectionGrouping\u001b[0m\u001b[0;34m,\u001b[0m\u001b[0;34m\u001b[0m\u001b[0;34m\u001b[0m\u001b[0m\n\u001b[1;32m      3\u001b[0m     \u001b[0mPool\u001b[0m\u001b[0;34m,\u001b[0m \u001b[0mCatBoost\u001b[0m\u001b[0;34m,\u001b[0m \u001b[0mCatBoostClassifier\u001b[0m\u001b[0;34m,\u001b[0m \u001b[0mCatBoostRegressor\u001b[0m\u001b[0;34m,\u001b[0m \u001b[0mCatBoostRanker\u001b[0m\u001b[0;34m,\u001b[0m \u001b[0mCatBoostError\u001b[0m\u001b[0;34m,\u001b[0m \u001b[0mcv\u001b[0m\u001b[0;34m,\u001b[0m \u001b[0msample_gaussian_process\u001b[0m\u001b[0;34m,\u001b[0m \u001b[0mtrain\u001b[0m\u001b[0;34m,\u001b[0m\u001b[0;34m\u001b[0m\u001b[0;34m\u001b[0m\u001b[0m\n\u001b[1;32m      4\u001b[0m     \u001b[0msum_models\u001b[0m\u001b[0;34m,\u001b[0m \u001b[0m_have_equal_features\u001b[0m\u001b[0;34m,\u001b[0m \u001b[0mto_regressor\u001b[0m\u001b[0;34m,\u001b[0m \u001b[0mto_classifier\u001b[0m\u001b[0;34m,\u001b[0m \u001b[0mto_ranker\u001b[0m\u001b[0;34m,\u001b[0m \u001b[0mMultiRegressionCustomMetric\u001b[0m\u001b[0;34m,\u001b[0m\u001b[0;34m\u001b[0m\u001b[0;34m\u001b[0m\u001b[0m\n\u001b[1;32m      5\u001b[0m     \u001b[0mMultiRegressionCustomObjective\u001b[0m\u001b[0;34m,\u001b[0m \u001b[0mMultiTargetCustomMetric\u001b[0m\u001b[0;34m,\u001b[0m \u001b[0mMultiTargetCustomObjective\u001b[0m\u001b[0;34m\u001b[0m\u001b[0;34m\u001b[0m\u001b[0m\n",
            "\u001b[0;32m/usr/local/lib/python3.11/dist-packages/catboost/core.py\u001b[0m in \u001b[0;36m<module>\u001b[0;34m\u001b[0m\n\u001b[1;32m     43\u001b[0m \u001b[0;34m\u001b[0m\u001b[0m\n\u001b[1;32m     44\u001b[0m \u001b[0;34m\u001b[0m\u001b[0m\n\u001b[0;32m---> 45\u001b[0;31m \u001b[0;32mfrom\u001b[0m \u001b[0;34m.\u001b[0m\u001b[0mplot_helpers\u001b[0m \u001b[0;32mimport\u001b[0m \u001b[0msave_plot_file\u001b[0m\u001b[0;34m,\u001b[0m \u001b[0mtry_plot_offline\u001b[0m\u001b[0;34m,\u001b[0m \u001b[0mOfflineMetricVisualizer\u001b[0m\u001b[0;34m\u001b[0m\u001b[0;34m\u001b[0m\u001b[0m\n\u001b[0m\u001b[1;32m     46\u001b[0m \u001b[0;32mfrom\u001b[0m \u001b[0;34m.\u001b[0m \u001b[0;32mimport\u001b[0m \u001b[0m_catboost\u001b[0m\u001b[0;34m\u001b[0m\u001b[0;34m\u001b[0m\u001b[0m\n\u001b[1;32m     47\u001b[0m \u001b[0;32mfrom\u001b[0m \u001b[0;34m.\u001b[0m\u001b[0mmetrics\u001b[0m \u001b[0;32mimport\u001b[0m \u001b[0mBuiltinMetric\u001b[0m\u001b[0;34m\u001b[0m\u001b[0;34m\u001b[0m\u001b[0m\n",
            "\u001b[0;32m/usr/local/lib/python3.11/dist-packages/catboost/plot_helpers.py\u001b[0m in \u001b[0;36m<module>\u001b[0;34m\u001b[0m\n\u001b[1;32m      3\u001b[0m \u001b[0;32mimport\u001b[0m \u001b[0mwarnings\u001b[0m\u001b[0;34m\u001b[0m\u001b[0;34m\u001b[0m\u001b[0m\n\u001b[1;32m      4\u001b[0m \u001b[0;34m\u001b[0m\u001b[0m\n\u001b[0;32m----> 5\u001b[0;31m \u001b[0;32mfrom\u001b[0m \u001b[0;34m.\u001b[0m \u001b[0;32mimport\u001b[0m \u001b[0m_catboost\u001b[0m\u001b[0;34m\u001b[0m\u001b[0;34m\u001b[0m\u001b[0m\n\u001b[0m\u001b[1;32m      6\u001b[0m \u001b[0mfspath\u001b[0m \u001b[0;34m=\u001b[0m \u001b[0m_catboost\u001b[0m\u001b[0;34m.\u001b[0m\u001b[0mfspath\u001b[0m\u001b[0;34m\u001b[0m\u001b[0;34m\u001b[0m\u001b[0m\n\u001b[1;32m      7\u001b[0m \u001b[0;34m\u001b[0m\u001b[0m\n",
            "\u001b[0;32m_catboost.pyx\u001b[0m in \u001b[0;36minit _catboost\u001b[0;34m()\u001b[0m\n",
            "\u001b[0;31mValueError\u001b[0m: numpy.dtype size changed, may indicate binary incompatibility. Expected 96 from C header, got 88 from PyObject"
          ]
        }
      ],
      "source": [
        "from catboost import CatBoostRegressor"
      ]
    },
    {
      "cell_type": "code",
      "execution_count": null,
      "id": "52b5f4b4",
      "metadata": {
        "id": "52b5f4b4"
      },
      "outputs": [],
      "source": [
        "model = CatBoostClassifier(\n",
        "    iterations=2500,\n",
        "    learning_rate=0.01,\n",
        "    depth=8,\n",
        "    loss_function='MAE',\n",
        "    verbose=100,\n",
        "    early_stopping_rounds=100,\n",
        "    l2_leaf_reg=3,\n",
        "    task_type='GPU' if torch.cuda.is_available() else 'CPU'\n",
        ")"
      ]
    },
    {
      "cell_type": "code",
      "execution_count": null,
      "id": "b7ae80c7",
      "metadata": {
        "id": "b7ae80c7"
      },
      "outputs": [],
      "source": [
        "model.fit(\n",
        "    X=X_train, y=y_train,\n",
        "    # eval_set=X_test,\n",
        "    use_best_model=True,\n",
        "    plot=True\n",
        ")"
      ]
    },
    {
      "cell_type": "code",
      "execution_count": null,
      "id": "1c29abd5",
      "metadata": {
        "id": "1c29abd5"
      },
      "outputs": [],
      "source": [
        "val_pred = model.predict(y_test)\n",
        "print(f\"CatBoost: {mean_absolute_error(y_test, val_pred):.4f}\")"
      ]
    },
    {
      "cell_type": "markdown",
      "id": "8a32edfb",
      "metadata": {
        "id": "8a32edfb"
      },
      "source": [
        "## PyTorch"
      ]
    },
    {
      "cell_type": "code",
      "execution_count": 19,
      "id": "f0f38de5",
      "metadata": {
        "id": "f0f38de5"
      },
      "outputs": [],
      "source": [
        "device = torch.device('cuda' if torch.cuda.is_available() else 'cpu')\n",
        "input_size = X_train.shape[1]"
      ]
    },
    {
      "cell_type": "code",
      "execution_count": 30,
      "id": "6227fefe",
      "metadata": {
        "id": "6227fefe"
      },
      "outputs": [],
      "source": [
        "class DeepRegressor(nn.Module):\n",
        "    def __init__(self):\n",
        "        super().__init__()\n",
        "        self.net = nn.Sequential(\n",
        "            nn.Linear(input_size, 1024),\n",
        "            nn.BatchNorm1d(1024),\n",
        "            nn.LeakyReLU(0.1),\n",
        "            nn.Dropout(0.3),\n",
        "\n",
        "            nn.Linear(1024, 512),\n",
        "            nn.BatchNorm1d(512),\n",
        "            nn.GELU(),\n",
        "            nn.Dropout(0.25),\n",
        "\n",
        "            nn.Linear(512, 256),\n",
        "            nn.BatchNorm1d(256),\n",
        "            nn.SiLU(),\n",
        "            nn.Dropout(0.2),\n",
        "\n",
        "            nn.Linear(256, 1)\n",
        "        )\n",
        "\n",
        "    def forward(self, x):\n",
        "        return self.net(x)"
      ]
    },
    {
      "cell_type": "code",
      "execution_count": 31,
      "id": "6f772f36",
      "metadata": {
        "id": "6f772f36"
      },
      "outputs": [],
      "source": [
        "model = DeepRegressor().to(device)\n",
        "optimizer = optim.AdamW(model.parameters(), lr=0.0005, weight_decay=1e-5)\n",
        "scheduler = optim.lr_scheduler.ReduceLROnPlateau(optimizer, 'min', patience=5)\n",
        "criterion = nn.MSELoss()"
      ]
    },
    {
      "cell_type": "code",
      "execution_count": 32,
      "id": "q4E7nsAVXczc",
      "metadata": {
        "id": "q4E7nsAVXczc"
      },
      "outputs": [],
      "source": [
        "train_dataset = TensorDataset(\n",
        "    torch.tensor(X_train.values).float(),  # Преобразование X_train в NumPy массив\n",
        "    torch.tensor(y_train.values).float()   # Преобразование y_train в NumPy массив\n",
        ")\n",
        "\n",
        "val_dataset = TensorDataset(\n",
        "    torch.tensor(X_test.values).float(),  # Преобразование X_test в NumPy массив\n",
        "    torch.tensor(y_test.values).float()   # Преобразование y_test в NumPy массив\n",
        ")"
      ]
    },
    {
      "cell_type": "code",
      "execution_count": 33,
      "id": "a8a83f9a",
      "metadata": {
        "id": "a8a83f9a"
      },
      "outputs": [],
      "source": [
        "train_loader = DataLoader(train_dataset, batch_size=512, shuffle=True)\n",
        "val_loader = DataLoader(val_dataset, batch_size=1024)"
      ]
    },
    {
      "cell_type": "code",
      "execution_count": 54,
      "id": "f8ccb810",
      "metadata": {
        "id": "f8ccb810"
      },
      "outputs": [],
      "source": [
        "best_mse = float('inf')\n",
        "best_mae = float('inf')"
      ]
    },
    {
      "cell_type": "code",
      "execution_count": 55,
      "id": "e1287f67",
      "metadata": {
        "id": "e1287f67"
      },
      "outputs": [],
      "source": [
        "opa_epocha = 150"
      ]
    },
    {
      "cell_type": "code",
      "execution_count": 56,
      "id": "b2b162c0",
      "metadata": {
        "colab": {
          "base_uri": "https://localhost:8080/"
        },
        "id": "b2b162c0",
        "outputId": "7bd0790f-0604-427f-d6b7-b09198fc1a01"
      },
      "outputs": [
        {
          "name": "stderr",
          "output_type": "stream",
          "text": [
            "  1%|          | 1/150 [00:01<03:54,  1.58s/it]"
          ]
        },
        {
          "name": "stdout",
          "output_type": "stream",
          "text": [
            "Epoch 1: Val MSE = 0.0101, Val MAE = 0.0836, Val R² = 0.9950\n",
            "New best\n"
          ]
        },
        {
          "name": "stderr",
          "output_type": "stream",
          "text": [
            "\r  1%|▏         | 2/150 [00:03<04:07,  1.67s/it]"
          ]
        },
        {
          "name": "stdout",
          "output_type": "stream",
          "text": [
            "Epoch 2: Val MSE = 0.0094, Val MAE = 0.0764, Val R² = 0.9954\n",
            "New best\n"
          ]
        },
        {
          "name": "stderr",
          "output_type": "stream",
          "text": [
            "\r  2%|▏         | 3/150 [00:04<04:02,  1.65s/it]"
          ]
        },
        {
          "name": "stdout",
          "output_type": "stream",
          "text": [
            "Epoch 3: Val MSE = 0.0115, Val MAE = 0.0901, Val R² = 0.9943\n"
          ]
        },
        {
          "name": "stderr",
          "output_type": "stream",
          "text": [
            "\r  3%|▎         | 4/150 [00:06<03:46,  1.55s/it]"
          ]
        },
        {
          "name": "stdout",
          "output_type": "stream",
          "text": [
            "Epoch 4: Val MSE = 0.0111, Val MAE = 0.0872, Val R² = 0.9945\n"
          ]
        },
        {
          "name": "stderr",
          "output_type": "stream",
          "text": [
            "\r  3%|▎         | 5/150 [00:07<03:36,  1.49s/it]"
          ]
        },
        {
          "name": "stdout",
          "output_type": "stream",
          "text": [
            "Epoch 5: Val MSE = 0.0071, Val MAE = 0.0706, Val R² = 0.9965\n",
            "New best\n"
          ]
        },
        {
          "name": "stderr",
          "output_type": "stream",
          "text": [
            "\r  4%|▍         | 6/150 [00:09<03:29,  1.46s/it]"
          ]
        },
        {
          "name": "stdout",
          "output_type": "stream",
          "text": [
            "Epoch 6: Val MSE = 0.0144, Val MAE = 0.0951, Val R² = 0.9929\n"
          ]
        },
        {
          "name": "stderr",
          "output_type": "stream",
          "text": [
            "\r  5%|▍         | 7/150 [00:10<03:35,  1.50s/it]"
          ]
        },
        {
          "name": "stdout",
          "output_type": "stream",
          "text": [
            "Epoch 7: Val MSE = 0.0141, Val MAE = 0.1013, Val R² = 0.9930\n"
          ]
        },
        {
          "name": "stderr",
          "output_type": "stream",
          "text": [
            "\r  5%|▌         | 8/150 [00:12<03:28,  1.47s/it]"
          ]
        },
        {
          "name": "stdout",
          "output_type": "stream",
          "text": [
            "Epoch 8: Val MSE = 0.0109, Val MAE = 0.0814, Val R² = 0.9946\n"
          ]
        },
        {
          "name": "stderr",
          "output_type": "stream",
          "text": [
            "\r  6%|▌         | 9/150 [00:14<03:52,  1.65s/it]"
          ]
        },
        {
          "name": "stdout",
          "output_type": "stream",
          "text": [
            "Epoch 9: Val MSE = 0.0104, Val MAE = 0.0847, Val R² = 0.9948\n"
          ]
        },
        {
          "name": "stderr",
          "output_type": "stream",
          "text": [
            "\r  7%|▋         | 10/150 [00:16<04:18,  1.85s/it]"
          ]
        },
        {
          "name": "stdout",
          "output_type": "stream",
          "text": [
            "Epoch 10: Val MSE = 0.0108, Val MAE = 0.0844, Val R² = 0.9947\n"
          ]
        },
        {
          "name": "stderr",
          "output_type": "stream",
          "text": [
            "\r  7%|▋         | 11/150 [00:17<03:57,  1.71s/it]"
          ]
        },
        {
          "name": "stdout",
          "output_type": "stream",
          "text": [
            "Epoch 11: Val MSE = 0.0120, Val MAE = 0.0897, Val R² = 0.9940\n"
          ]
        },
        {
          "name": "stderr",
          "output_type": "stream",
          "text": [
            "\r  8%|▊         | 12/150 [00:19<03:50,  1.67s/it]"
          ]
        },
        {
          "name": "stdout",
          "output_type": "stream",
          "text": [
            "Epoch 12: Val MSE = 0.0152, Val MAE = 0.1040, Val R² = 0.9925\n"
          ]
        },
        {
          "name": "stderr",
          "output_type": "stream",
          "text": [
            "\r  9%|▊         | 13/150 [00:20<03:36,  1.58s/it]"
          ]
        },
        {
          "name": "stdout",
          "output_type": "stream",
          "text": [
            "Epoch 13: Val MSE = 0.0127, Val MAE = 0.0879, Val R² = 0.9937\n"
          ]
        },
        {
          "name": "stderr",
          "output_type": "stream",
          "text": [
            "\r  9%|▉         | 14/150 [00:22<03:26,  1.52s/it]"
          ]
        },
        {
          "name": "stdout",
          "output_type": "stream",
          "text": [
            "Epoch 14: Val MSE = 0.0105, Val MAE = 0.0850, Val R² = 0.9948\n"
          ]
        },
        {
          "name": "stderr",
          "output_type": "stream",
          "text": [
            "\r 10%|█         | 15/150 [00:23<03:20,  1.49s/it]"
          ]
        },
        {
          "name": "stdout",
          "output_type": "stream",
          "text": [
            "Epoch 15: Val MSE = 0.0097, Val MAE = 0.0815, Val R² = 0.9952\n"
          ]
        },
        {
          "name": "stderr",
          "output_type": "stream",
          "text": [
            "\r 11%|█         | 16/150 [00:25<03:24,  1.53s/it]"
          ]
        },
        {
          "name": "stdout",
          "output_type": "stream",
          "text": [
            "Epoch 16: Val MSE = 0.0138, Val MAE = 0.0938, Val R² = 0.9932\n"
          ]
        },
        {
          "name": "stderr",
          "output_type": "stream",
          "text": [
            "\r 11%|█▏        | 17/150 [00:28<04:17,  1.93s/it]"
          ]
        },
        {
          "name": "stdout",
          "output_type": "stream",
          "text": [
            "Epoch 17: Val MSE = 0.0117, Val MAE = 0.0863, Val R² = 0.9942\n"
          ]
        },
        {
          "name": "stderr",
          "output_type": "stream",
          "text": [
            "\r 12%|█▏        | 18/150 [00:29<04:05,  1.86s/it]"
          ]
        },
        {
          "name": "stdout",
          "output_type": "stream",
          "text": [
            "Epoch 18: Val MSE = 0.0138, Val MAE = 0.0971, Val R² = 0.9932\n"
          ]
        },
        {
          "name": "stderr",
          "output_type": "stream",
          "text": [
            "\r 13%|█▎        | 19/150 [00:31<03:45,  1.72s/it]"
          ]
        },
        {
          "name": "stdout",
          "output_type": "stream",
          "text": [
            "Epoch 19: Val MSE = 0.0094, Val MAE = 0.0804, Val R² = 0.9953\n"
          ]
        },
        {
          "name": "stderr",
          "output_type": "stream",
          "text": [
            "\r 13%|█▎        | 20/150 [00:32<03:31,  1.62s/it]"
          ]
        },
        {
          "name": "stdout",
          "output_type": "stream",
          "text": [
            "Epoch 20: Val MSE = 0.0082, Val MAE = 0.0752, Val R² = 0.9960\n"
          ]
        },
        {
          "name": "stderr",
          "output_type": "stream",
          "text": [
            "\r 14%|█▍        | 21/150 [00:34<03:28,  1.62s/it]"
          ]
        },
        {
          "name": "stdout",
          "output_type": "stream",
          "text": [
            "Epoch 21: Val MSE = 0.0083, Val MAE = 0.0723, Val R² = 0.9959\n"
          ]
        },
        {
          "name": "stderr",
          "output_type": "stream",
          "text": [
            "\r 15%|█▍        | 22/150 [00:35<03:20,  1.56s/it]"
          ]
        },
        {
          "name": "stdout",
          "output_type": "stream",
          "text": [
            "Epoch 22: Val MSE = 0.0127, Val MAE = 0.0864, Val R² = 0.9937\n"
          ]
        },
        {
          "name": "stderr",
          "output_type": "stream",
          "text": [
            "\r 15%|█▌        | 23/150 [00:37<03:13,  1.53s/it]"
          ]
        },
        {
          "name": "stdout",
          "output_type": "stream",
          "text": [
            "Epoch 23: Val MSE = 0.0144, Val MAE = 0.0961, Val R² = 0.9929\n"
          ]
        },
        {
          "name": "stderr",
          "output_type": "stream",
          "text": [
            "\r 16%|█▌        | 24/150 [00:38<03:17,  1.56s/it]"
          ]
        },
        {
          "name": "stdout",
          "output_type": "stream",
          "text": [
            "Epoch 24: Val MSE = 0.0176, Val MAE = 0.1069, Val R² = 0.9913\n"
          ]
        },
        {
          "name": "stderr",
          "output_type": "stream",
          "text": [
            "\r 17%|█▋        | 25/150 [00:40<03:24,  1.64s/it]"
          ]
        },
        {
          "name": "stdout",
          "output_type": "stream",
          "text": [
            "Epoch 25: Val MSE = 0.0142, Val MAE = 0.0901, Val R² = 0.9930\n"
          ]
        },
        {
          "name": "stderr",
          "output_type": "stream",
          "text": [
            "\r 17%|█▋        | 26/150 [00:41<03:14,  1.57s/it]"
          ]
        },
        {
          "name": "stdout",
          "output_type": "stream",
          "text": [
            "Epoch 26: Val MSE = 0.0141, Val MAE = 0.0947, Val R² = 0.9930\n"
          ]
        },
        {
          "name": "stderr",
          "output_type": "stream",
          "text": [
            "\r 18%|█▊        | 27/150 [00:43<03:06,  1.52s/it]"
          ]
        },
        {
          "name": "stdout",
          "output_type": "stream",
          "text": [
            "Epoch 27: Val MSE = 0.0068, Val MAE = 0.0676, Val R² = 0.9966\n",
            "New best\n"
          ]
        },
        {
          "name": "stderr",
          "output_type": "stream",
          "text": [
            "\r 19%|█▊        | 28/150 [00:44<03:00,  1.48s/it]"
          ]
        },
        {
          "name": "stdout",
          "output_type": "stream",
          "text": [
            "Epoch 28: Val MSE = 0.0062, Val MAE = 0.0639, Val R² = 0.9969\n",
            "New best\n"
          ]
        },
        {
          "name": "stderr",
          "output_type": "stream",
          "text": [
            "\r 19%|█▉        | 29/150 [00:46<02:55,  1.45s/it]"
          ]
        },
        {
          "name": "stdout",
          "output_type": "stream",
          "text": [
            "Epoch 29: Val MSE = 0.0087, Val MAE = 0.0766, Val R² = 0.9957\n"
          ]
        },
        {
          "name": "stderr",
          "output_type": "stream",
          "text": [
            "\r 20%|██        | 30/150 [00:47<03:00,  1.50s/it]"
          ]
        },
        {
          "name": "stdout",
          "output_type": "stream",
          "text": [
            "Epoch 30: Val MSE = 0.0093, Val MAE = 0.0752, Val R² = 0.9954\n"
          ]
        },
        {
          "name": "stderr",
          "output_type": "stream",
          "text": [
            "\r 21%|██        | 31/150 [00:49<02:55,  1.47s/it]"
          ]
        },
        {
          "name": "stdout",
          "output_type": "stream",
          "text": [
            "Epoch 31: Val MSE = 0.0146, Val MAE = 0.0958, Val R² = 0.9927\n"
          ]
        },
        {
          "name": "stderr",
          "output_type": "stream",
          "text": [
            "\r 21%|██▏       | 32/150 [00:50<03:01,  1.54s/it]"
          ]
        },
        {
          "name": "stdout",
          "output_type": "stream",
          "text": [
            "Epoch 32: Val MSE = 0.0095, Val MAE = 0.0763, Val R² = 0.9953\n"
          ]
        },
        {
          "name": "stderr",
          "output_type": "stream",
          "text": [
            "\r 22%|██▏       | 33/150 [00:52<03:01,  1.55s/it]"
          ]
        },
        {
          "name": "stdout",
          "output_type": "stream",
          "text": [
            "Epoch 33: Val MSE = 0.0090, Val MAE = 0.0770, Val R² = 0.9955\n"
          ]
        },
        {
          "name": "stderr",
          "output_type": "stream",
          "text": [
            "\r 23%|██▎       | 34/150 [00:53<02:55,  1.51s/it]"
          ]
        },
        {
          "name": "stdout",
          "output_type": "stream",
          "text": [
            "Epoch 34: Val MSE = 0.0161, Val MAE = 0.1004, Val R² = 0.9920\n"
          ]
        },
        {
          "name": "stderr",
          "output_type": "stream",
          "text": [
            "\r 23%|██▎       | 35/150 [00:55<02:58,  1.55s/it]"
          ]
        },
        {
          "name": "stdout",
          "output_type": "stream",
          "text": [
            "Epoch 35: Val MSE = 0.0130, Val MAE = 0.0957, Val R² = 0.9936\n"
          ]
        },
        {
          "name": "stderr",
          "output_type": "stream",
          "text": [
            "\r 24%|██▍       | 36/150 [00:56<02:51,  1.51s/it]"
          ]
        },
        {
          "name": "stdout",
          "output_type": "stream",
          "text": [
            "Epoch 36: Val MSE = 0.0066, Val MAE = 0.0668, Val R² = 0.9967\n"
          ]
        },
        {
          "name": "stderr",
          "output_type": "stream",
          "text": [
            "\r 25%|██▍       | 37/150 [00:58<02:47,  1.48s/it]"
          ]
        },
        {
          "name": "stdout",
          "output_type": "stream",
          "text": [
            "Epoch 37: Val MSE = 0.0096, Val MAE = 0.0824, Val R² = 0.9952\n"
          ]
        },
        {
          "name": "stderr",
          "output_type": "stream",
          "text": [
            "\r 25%|██▌       | 38/150 [00:59<02:43,  1.46s/it]"
          ]
        },
        {
          "name": "stdout",
          "output_type": "stream",
          "text": [
            "Epoch 38: Val MSE = 0.0068, Val MAE = 0.0677, Val R² = 0.9966\n"
          ]
        },
        {
          "name": "stderr",
          "output_type": "stream",
          "text": [
            "\r 26%|██▌       | 39/150 [01:01<02:48,  1.52s/it]"
          ]
        },
        {
          "name": "stdout",
          "output_type": "stream",
          "text": [
            "Epoch 39: Val MSE = 0.0093, Val MAE = 0.0790, Val R² = 0.9954\n"
          ]
        },
        {
          "name": "stderr",
          "output_type": "stream",
          "text": [
            "\r 27%|██▋       | 40/150 [01:03<02:53,  1.58s/it]"
          ]
        },
        {
          "name": "stdout",
          "output_type": "stream",
          "text": [
            "Epoch 40: Val MSE = 0.0080, Val MAE = 0.0740, Val R² = 0.9960\n"
          ]
        },
        {
          "name": "stderr",
          "output_type": "stream",
          "text": [
            "\r 27%|██▋       | 41/150 [01:04<02:50,  1.57s/it]"
          ]
        },
        {
          "name": "stdout",
          "output_type": "stream",
          "text": [
            "Epoch 41: Val MSE = 0.0112, Val MAE = 0.0866, Val R² = 0.9945\n"
          ]
        },
        {
          "name": "stderr",
          "output_type": "stream",
          "text": [
            "\r 28%|██▊       | 42/150 [01:06<02:45,  1.53s/it]"
          ]
        },
        {
          "name": "stdout",
          "output_type": "stream",
          "text": [
            "Epoch 42: Val MSE = 0.0142, Val MAE = 0.0970, Val R² = 0.9930\n"
          ]
        },
        {
          "name": "stderr",
          "output_type": "stream",
          "text": [
            "\r 29%|██▊       | 43/150 [01:07<02:47,  1.56s/it]"
          ]
        },
        {
          "name": "stdout",
          "output_type": "stream",
          "text": [
            "Epoch 43: Val MSE = 0.0098, Val MAE = 0.0815, Val R² = 0.9952\n"
          ]
        },
        {
          "name": "stderr",
          "output_type": "stream",
          "text": [
            "\r 29%|██▉       | 44/150 [01:09<02:40,  1.52s/it]"
          ]
        },
        {
          "name": "stdout",
          "output_type": "stream",
          "text": [
            "Epoch 44: Val MSE = 0.0091, Val MAE = 0.0774, Val R² = 0.9955\n"
          ]
        },
        {
          "name": "stderr",
          "output_type": "stream",
          "text": [
            "\r 30%|███       | 45/150 [01:10<02:35,  1.48s/it]"
          ]
        },
        {
          "name": "stdout",
          "output_type": "stream",
          "text": [
            "Epoch 45: Val MSE = 0.0108, Val MAE = 0.0852, Val R² = 0.9947\n"
          ]
        },
        {
          "name": "stderr",
          "output_type": "stream",
          "text": [
            "\r 31%|███       | 46/150 [01:11<02:31,  1.46s/it]"
          ]
        },
        {
          "name": "stdout",
          "output_type": "stream",
          "text": [
            "Epoch 46: Val MSE = 0.0125, Val MAE = 0.0916, Val R² = 0.9938\n"
          ]
        },
        {
          "name": "stderr",
          "output_type": "stream",
          "text": [
            "\r 31%|███▏      | 47/150 [01:13<02:28,  1.44s/it]"
          ]
        },
        {
          "name": "stdout",
          "output_type": "stream",
          "text": [
            "Epoch 47: Val MSE = 0.0093, Val MAE = 0.0791, Val R² = 0.9954\n"
          ]
        },
        {
          "name": "stderr",
          "output_type": "stream",
          "text": [
            "\r 32%|███▏      | 48/150 [01:15<02:44,  1.62s/it]"
          ]
        },
        {
          "name": "stdout",
          "output_type": "stream",
          "text": [
            "Epoch 48: Val MSE = 0.0112, Val MAE = 0.0807, Val R² = 0.9945\n"
          ]
        },
        {
          "name": "stderr",
          "output_type": "stream",
          "text": [
            "\r 33%|███▎      | 49/150 [01:16<02:38,  1.57s/it]"
          ]
        },
        {
          "name": "stdout",
          "output_type": "stream",
          "text": [
            "Epoch 49: Val MSE = 0.0083, Val MAE = 0.0722, Val R² = 0.9959\n"
          ]
        },
        {
          "name": "stderr",
          "output_type": "stream",
          "text": [
            "\r 33%|███▎      | 50/150 [01:18<02:32,  1.52s/it]"
          ]
        },
        {
          "name": "stdout",
          "output_type": "stream",
          "text": [
            "Epoch 50: Val MSE = 0.0092, Val MAE = 0.0792, Val R² = 0.9954\n"
          ]
        },
        {
          "name": "stderr",
          "output_type": "stream",
          "text": [
            "\r 34%|███▍      | 51/150 [01:19<02:27,  1.49s/it]"
          ]
        },
        {
          "name": "stdout",
          "output_type": "stream",
          "text": [
            "Epoch 51: Val MSE = 0.0065, Val MAE = 0.0654, Val R² = 0.9968\n"
          ]
        },
        {
          "name": "stderr",
          "output_type": "stream",
          "text": [
            "\r 35%|███▍      | 52/150 [01:21<02:30,  1.53s/it]"
          ]
        },
        {
          "name": "stdout",
          "output_type": "stream",
          "text": [
            "Epoch 52: Val MSE = 0.0091, Val MAE = 0.0790, Val R² = 0.9955\n"
          ]
        },
        {
          "name": "stderr",
          "output_type": "stream",
          "text": [
            "\r 35%|███▌      | 53/150 [01:22<02:27,  1.53s/it]"
          ]
        },
        {
          "name": "stdout",
          "output_type": "stream",
          "text": [
            "Epoch 53: Val MSE = 0.0081, Val MAE = 0.0747, Val R² = 0.9960\n"
          ]
        },
        {
          "name": "stderr",
          "output_type": "stream",
          "text": [
            "\r 36%|███▌      | 54/150 [01:24<02:24,  1.51s/it]"
          ]
        },
        {
          "name": "stdout",
          "output_type": "stream",
          "text": [
            "Epoch 54: Val MSE = 0.0114, Val MAE = 0.0891, Val R² = 0.9944\n"
          ]
        },
        {
          "name": "stderr",
          "output_type": "stream",
          "text": [
            "\r 37%|███▋      | 55/150 [01:25<02:22,  1.50s/it]"
          ]
        },
        {
          "name": "stdout",
          "output_type": "stream",
          "text": [
            "Epoch 55: Val MSE = 0.0091, Val MAE = 0.0787, Val R² = 0.9955\n"
          ]
        },
        {
          "name": "stderr",
          "output_type": "stream",
          "text": [
            "\r 37%|███▋      | 56/150 [01:27<02:29,  1.59s/it]"
          ]
        },
        {
          "name": "stdout",
          "output_type": "stream",
          "text": [
            "Epoch 56: Val MSE = 0.0103, Val MAE = 0.0839, Val R² = 0.9949\n"
          ]
        },
        {
          "name": "stderr",
          "output_type": "stream",
          "text": [
            "\r 38%|███▊      | 57/150 [01:29<02:30,  1.62s/it]"
          ]
        },
        {
          "name": "stdout",
          "output_type": "stream",
          "text": [
            "Epoch 57: Val MSE = 0.0093, Val MAE = 0.0804, Val R² = 0.9954\n"
          ]
        },
        {
          "name": "stderr",
          "output_type": "stream",
          "text": [
            "\r 39%|███▊      | 58/150 [01:30<02:24,  1.57s/it]"
          ]
        },
        {
          "name": "stdout",
          "output_type": "stream",
          "text": [
            "Epoch 58: Val MSE = 0.0078, Val MAE = 0.0726, Val R² = 0.9961\n"
          ]
        },
        {
          "name": "stderr",
          "output_type": "stream",
          "text": [
            "\r 39%|███▉      | 59/150 [01:32<02:19,  1.54s/it]"
          ]
        },
        {
          "name": "stdout",
          "output_type": "stream",
          "text": [
            "Epoch 59: Val MSE = 0.0101, Val MAE = 0.0838, Val R² = 0.9950\n"
          ]
        },
        {
          "name": "stderr",
          "output_type": "stream",
          "text": [
            "\r 40%|████      | 60/150 [01:33<02:15,  1.50s/it]"
          ]
        },
        {
          "name": "stdout",
          "output_type": "stream",
          "text": [
            "Epoch 60: Val MSE = 0.0082, Val MAE = 0.0750, Val R² = 0.9960\n"
          ]
        },
        {
          "name": "stderr",
          "output_type": "stream",
          "text": [
            "\r 41%|████      | 61/150 [01:35<02:18,  1.55s/it]"
          ]
        },
        {
          "name": "stdout",
          "output_type": "stream",
          "text": [
            "Epoch 61: Val MSE = 0.0101, Val MAE = 0.0833, Val R² = 0.9950\n"
          ]
        },
        {
          "name": "stderr",
          "output_type": "stream",
          "text": [
            "\r 41%|████▏     | 62/150 [01:36<02:13,  1.52s/it]"
          ]
        },
        {
          "name": "stdout",
          "output_type": "stream",
          "text": [
            "Epoch 62: Val MSE = 0.0098, Val MAE = 0.0820, Val R² = 0.9952\n"
          ]
        },
        {
          "name": "stderr",
          "output_type": "stream",
          "text": [
            "\r 42%|████▏     | 63/150 [01:38<02:14,  1.55s/it]"
          ]
        },
        {
          "name": "stdout",
          "output_type": "stream",
          "text": [
            "Epoch 63: Val MSE = 0.0157, Val MAE = 0.0983, Val R² = 0.9922\n"
          ]
        },
        {
          "name": "stderr",
          "output_type": "stream",
          "text": [
            "\r 43%|████▎     | 64/150 [01:39<02:15,  1.58s/it]"
          ]
        },
        {
          "name": "stdout",
          "output_type": "stream",
          "text": [
            "Epoch 64: Val MSE = 0.0093, Val MAE = 0.0796, Val R² = 0.9954\n"
          ]
        },
        {
          "name": "stderr",
          "output_type": "stream",
          "text": [
            "\r 43%|████▎     | 65/150 [01:41<02:10,  1.54s/it]"
          ]
        },
        {
          "name": "stdout",
          "output_type": "stream",
          "text": [
            "Epoch 65: Val MSE = 0.0148, Val MAE = 0.1000, Val R² = 0.9927\n"
          ]
        },
        {
          "name": "stderr",
          "output_type": "stream",
          "text": [
            "\r 44%|████▍     | 66/150 [01:43<02:12,  1.58s/it]"
          ]
        },
        {
          "name": "stdout",
          "output_type": "stream",
          "text": [
            "Epoch 66: Val MSE = 0.0097, Val MAE = 0.0818, Val R² = 0.9952\n"
          ]
        },
        {
          "name": "stderr",
          "output_type": "stream",
          "text": [
            "\r 45%|████▍     | 67/150 [01:44<02:07,  1.53s/it]"
          ]
        },
        {
          "name": "stdout",
          "output_type": "stream",
          "text": [
            "Epoch 67: Val MSE = 0.0079, Val MAE = 0.0725, Val R² = 0.9961\n"
          ]
        },
        {
          "name": "stderr",
          "output_type": "stream",
          "text": [
            "\r 45%|████▌     | 68/150 [01:45<02:03,  1.50s/it]"
          ]
        },
        {
          "name": "stdout",
          "output_type": "stream",
          "text": [
            "Epoch 68: Val MSE = 0.0157, Val MAE = 0.1011, Val R² = 0.9922\n"
          ]
        },
        {
          "name": "stderr",
          "output_type": "stream",
          "text": [
            "\r 46%|████▌     | 69/150 [01:47<01:59,  1.48s/it]"
          ]
        },
        {
          "name": "stdout",
          "output_type": "stream",
          "text": [
            "Epoch 69: Val MSE = 0.0095, Val MAE = 0.0805, Val R² = 0.9953\n"
          ]
        },
        {
          "name": "stderr",
          "output_type": "stream",
          "text": [
            "\r 47%|████▋     | 70/150 [01:49<02:04,  1.55s/it]"
          ]
        },
        {
          "name": "stdout",
          "output_type": "stream",
          "text": [
            "Epoch 70: Val MSE = 0.0113, Val MAE = 0.0877, Val R² = 0.9944\n"
          ]
        },
        {
          "name": "stderr",
          "output_type": "stream",
          "text": [
            "\r 47%|████▋     | 71/150 [01:50<02:06,  1.60s/it]"
          ]
        },
        {
          "name": "stdout",
          "output_type": "stream",
          "text": [
            "Epoch 71: Val MSE = 0.0124, Val MAE = 0.0933, Val R² = 0.9939\n"
          ]
        },
        {
          "name": "stderr",
          "output_type": "stream",
          "text": [
            "\r 48%|████▊     | 72/150 [01:52<02:04,  1.60s/it]"
          ]
        },
        {
          "name": "stdout",
          "output_type": "stream",
          "text": [
            "Epoch 72: Val MSE = 0.0081, Val MAE = 0.0734, Val R² = 0.9960\n"
          ]
        },
        {
          "name": "stderr",
          "output_type": "stream",
          "text": [
            "\r 49%|████▊     | 73/150 [01:53<01:58,  1.54s/it]"
          ]
        },
        {
          "name": "stdout",
          "output_type": "stream",
          "text": [
            "Epoch 73: Val MSE = 0.0091, Val MAE = 0.0791, Val R² = 0.9955\n"
          ]
        },
        {
          "name": "stderr",
          "output_type": "stream",
          "text": [
            "\r 49%|████▉     | 74/150 [01:55<01:58,  1.56s/it]"
          ]
        },
        {
          "name": "stdout",
          "output_type": "stream",
          "text": [
            "Epoch 74: Val MSE = 0.0069, Val MAE = 0.0687, Val R² = 0.9966\n"
          ]
        },
        {
          "name": "stderr",
          "output_type": "stream",
          "text": [
            "\r 50%|█████     | 75/150 [01:56<01:52,  1.51s/it]"
          ]
        },
        {
          "name": "stdout",
          "output_type": "stream",
          "text": [
            "Epoch 75: Val MSE = 0.0109, Val MAE = 0.0789, Val R² = 0.9946\n"
          ]
        },
        {
          "name": "stderr",
          "output_type": "stream",
          "text": [
            "\r 51%|█████     | 76/150 [01:58<01:48,  1.47s/it]"
          ]
        },
        {
          "name": "stdout",
          "output_type": "stream",
          "text": [
            "Epoch 76: Val MSE = 0.0080, Val MAE = 0.0732, Val R² = 0.9961\n"
          ]
        },
        {
          "name": "stderr",
          "output_type": "stream",
          "text": [
            "\r 51%|█████▏    | 77/150 [01:59<01:45,  1.45s/it]"
          ]
        },
        {
          "name": "stdout",
          "output_type": "stream",
          "text": [
            "Epoch 77: Val MSE = 0.0100, Val MAE = 0.0766, Val R² = 0.9951\n"
          ]
        },
        {
          "name": "stderr",
          "output_type": "stream",
          "text": [
            "\r 52%|█████▏    | 78/150 [02:00<01:43,  1.43s/it]"
          ]
        },
        {
          "name": "stdout",
          "output_type": "stream",
          "text": [
            "Epoch 78: Val MSE = 0.0106, Val MAE = 0.0848, Val R² = 0.9948\n"
          ]
        },
        {
          "name": "stderr",
          "output_type": "stream",
          "text": [
            "\r 53%|█████▎    | 79/150 [02:02<01:51,  1.58s/it]"
          ]
        },
        {
          "name": "stdout",
          "output_type": "stream",
          "text": [
            "Epoch 79: Val MSE = 0.0119, Val MAE = 0.0883, Val R² = 0.9941\n"
          ]
        },
        {
          "name": "stderr",
          "output_type": "stream",
          "text": [
            "\r 53%|█████▎    | 80/150 [02:04<01:50,  1.58s/it]"
          ]
        },
        {
          "name": "stdout",
          "output_type": "stream",
          "text": [
            "Epoch 80: Val MSE = 0.0108, Val MAE = 0.0853, Val R² = 0.9947\n"
          ]
        },
        {
          "name": "stderr",
          "output_type": "stream",
          "text": [
            "\r 54%|█████▍    | 81/150 [02:05<01:45,  1.53s/it]"
          ]
        },
        {
          "name": "stdout",
          "output_type": "stream",
          "text": [
            "Epoch 81: Val MSE = 0.0088, Val MAE = 0.0775, Val R² = 0.9956\n"
          ]
        },
        {
          "name": "stderr",
          "output_type": "stream",
          "text": [
            "\r 55%|█████▍    | 82/150 [02:07<01:40,  1.48s/it]"
          ]
        },
        {
          "name": "stdout",
          "output_type": "stream",
          "text": [
            "Epoch 82: Val MSE = 0.0100, Val MAE = 0.0828, Val R² = 0.9950\n"
          ]
        },
        {
          "name": "stderr",
          "output_type": "stream",
          "text": [
            "\r 55%|█████▌    | 83/150 [02:08<01:37,  1.46s/it]"
          ]
        },
        {
          "name": "stdout",
          "output_type": "stream",
          "text": [
            "Epoch 83: Val MSE = 0.0068, Val MAE = 0.0658, Val R² = 0.9966\n"
          ]
        },
        {
          "name": "stderr",
          "output_type": "stream",
          "text": [
            "\r 56%|█████▌    | 84/150 [02:10<01:39,  1.50s/it]"
          ]
        },
        {
          "name": "stdout",
          "output_type": "stream",
          "text": [
            "Epoch 84: Val MSE = 0.0099, Val MAE = 0.0822, Val R² = 0.9951\n"
          ]
        },
        {
          "name": "stderr",
          "output_type": "stream",
          "text": [
            "\r 57%|█████▋    | 85/150 [02:11<01:35,  1.47s/it]"
          ]
        },
        {
          "name": "stdout",
          "output_type": "stream",
          "text": [
            "Epoch 85: Val MSE = 0.0070, Val MAE = 0.0686, Val R² = 0.9965\n"
          ]
        },
        {
          "name": "stderr",
          "output_type": "stream",
          "text": [
            "\r 57%|█████▋    | 86/150 [02:12<01:32,  1.45s/it]"
          ]
        },
        {
          "name": "stdout",
          "output_type": "stream",
          "text": [
            "Epoch 86: Val MSE = 0.0095, Val MAE = 0.0806, Val R² = 0.9953\n"
          ]
        },
        {
          "name": "stderr",
          "output_type": "stream",
          "text": [
            "\r 58%|█████▊    | 87/150 [02:14<01:33,  1.49s/it]"
          ]
        },
        {
          "name": "stdout",
          "output_type": "stream",
          "text": [
            "Epoch 87: Val MSE = 0.0099, Val MAE = 0.0817, Val R² = 0.9951\n"
          ]
        },
        {
          "name": "stderr",
          "output_type": "stream",
          "text": [
            "\r 59%|█████▊    | 88/150 [02:16<01:38,  1.59s/it]"
          ]
        },
        {
          "name": "stdout",
          "output_type": "stream",
          "text": [
            "Epoch 88: Val MSE = 0.0072, Val MAE = 0.0692, Val R² = 0.9965\n"
          ]
        },
        {
          "name": "stderr",
          "output_type": "stream",
          "text": [
            "\r 59%|█████▉    | 89/150 [02:17<01:33,  1.53s/it]"
          ]
        },
        {
          "name": "stdout",
          "output_type": "stream",
          "text": [
            "Epoch 89: Val MSE = 0.0064, Val MAE = 0.0645, Val R² = 0.9968\n"
          ]
        },
        {
          "name": "stderr",
          "output_type": "stream",
          "text": [
            "\r 60%|██████    | 90/150 [02:19<01:29,  1.49s/it]"
          ]
        },
        {
          "name": "stdout",
          "output_type": "stream",
          "text": [
            "Epoch 90: Val MSE = 0.0117, Val MAE = 0.0879, Val R² = 0.9942\n"
          ]
        },
        {
          "name": "stderr",
          "output_type": "stream",
          "text": [
            "\r 61%|██████    | 91/150 [02:20<01:25,  1.45s/it]"
          ]
        },
        {
          "name": "stdout",
          "output_type": "stream",
          "text": [
            "Epoch 91: Val MSE = 0.0073, Val MAE = 0.0687, Val R² = 0.9964\n"
          ]
        },
        {
          "name": "stderr",
          "output_type": "stream",
          "text": [
            "\r 61%|██████▏   | 92/150 [02:21<01:23,  1.43s/it]"
          ]
        },
        {
          "name": "stdout",
          "output_type": "stream",
          "text": [
            "Epoch 92: Val MSE = 0.0159, Val MAE = 0.1059, Val R² = 0.9921\n"
          ]
        },
        {
          "name": "stderr",
          "output_type": "stream",
          "text": [
            "\r 62%|██████▏   | 93/150 [02:23<01:24,  1.48s/it]"
          ]
        },
        {
          "name": "stdout",
          "output_type": "stream",
          "text": [
            "Epoch 93: Val MSE = 0.0131, Val MAE = 0.0877, Val R² = 0.9935\n"
          ]
        },
        {
          "name": "stderr",
          "output_type": "stream",
          "text": [
            "\r 63%|██████▎   | 94/150 [02:24<01:21,  1.46s/it]"
          ]
        },
        {
          "name": "stdout",
          "output_type": "stream",
          "text": [
            "Epoch 94: Val MSE = 0.0088, Val MAE = 0.0777, Val R² = 0.9957\n"
          ]
        },
        {
          "name": "stderr",
          "output_type": "stream",
          "text": [
            "\r 63%|██████▎   | 95/150 [02:26<01:22,  1.51s/it]"
          ]
        },
        {
          "name": "stdout",
          "output_type": "stream",
          "text": [
            "Epoch 95: Val MSE = 0.0083, Val MAE = 0.0734, Val R² = 0.9959\n"
          ]
        },
        {
          "name": "stderr",
          "output_type": "stream",
          "text": [
            "\r 64%|██████▍   | 96/150 [02:28<01:22,  1.53s/it]"
          ]
        },
        {
          "name": "stdout",
          "output_type": "stream",
          "text": [
            "Epoch 96: Val MSE = 0.0093, Val MAE = 0.0796, Val R² = 0.9954\n"
          ]
        },
        {
          "name": "stderr",
          "output_type": "stream",
          "text": [
            "\r 65%|██████▍   | 97/150 [02:29<01:22,  1.56s/it]"
          ]
        },
        {
          "name": "stdout",
          "output_type": "stream",
          "text": [
            "Epoch 97: Val MSE = 0.0086, Val MAE = 0.0768, Val R² = 0.9958\n"
          ]
        },
        {
          "name": "stderr",
          "output_type": "stream",
          "text": [
            "\r 65%|██████▌   | 98/150 [02:31<01:18,  1.52s/it]"
          ]
        },
        {
          "name": "stdout",
          "output_type": "stream",
          "text": [
            "Epoch 98: Val MSE = 0.0072, Val MAE = 0.0680, Val R² = 0.9964\n"
          ]
        },
        {
          "name": "stderr",
          "output_type": "stream",
          "text": [
            "\r 66%|██████▌   | 99/150 [02:32<01:15,  1.49s/it]"
          ]
        },
        {
          "name": "stdout",
          "output_type": "stream",
          "text": [
            "Epoch 99: Val MSE = 0.0064, Val MAE = 0.0647, Val R² = 0.9968\n"
          ]
        },
        {
          "name": "stderr",
          "output_type": "stream",
          "text": [
            "\r 67%|██████▋   | 100/150 [02:33<01:12,  1.46s/it]"
          ]
        },
        {
          "name": "stdout",
          "output_type": "stream",
          "text": [
            "Epoch 100: Val MSE = 0.0116, Val MAE = 0.0902, Val R² = 0.9942\n"
          ]
        },
        {
          "name": "stderr",
          "output_type": "stream",
          "text": [
            "\r 67%|██████▋   | 101/150 [02:35<01:13,  1.51s/it]"
          ]
        },
        {
          "name": "stdout",
          "output_type": "stream",
          "text": [
            "Epoch 101: Val MSE = 0.0126, Val MAE = 0.0913, Val R² = 0.9938\n"
          ]
        },
        {
          "name": "stderr",
          "output_type": "stream",
          "text": [
            "\r 68%|██████▊   | 102/150 [02:36<01:10,  1.48s/it]"
          ]
        },
        {
          "name": "stdout",
          "output_type": "stream",
          "text": [
            "Epoch 102: Val MSE = 0.0100, Val MAE = 0.0774, Val R² = 0.9951\n"
          ]
        },
        {
          "name": "stderr",
          "output_type": "stream",
          "text": [
            "\r 69%|██████▊   | 103/150 [02:38<01:11,  1.53s/it]"
          ]
        },
        {
          "name": "stdout",
          "output_type": "stream",
          "text": [
            "Epoch 103: Val MSE = 0.0075, Val MAE = 0.0684, Val R² = 0.9963\n"
          ]
        },
        {
          "name": "stderr",
          "output_type": "stream",
          "text": [
            "\r 69%|██████▉   | 104/150 [02:40<01:10,  1.54s/it]"
          ]
        },
        {
          "name": "stdout",
          "output_type": "stream",
          "text": [
            "Epoch 104: Val MSE = 0.0093, Val MAE = 0.0787, Val R² = 0.9954\n"
          ]
        },
        {
          "name": "stderr",
          "output_type": "stream",
          "text": [
            "\r 70%|███████   | 105/150 [02:41<01:07,  1.50s/it]"
          ]
        },
        {
          "name": "stdout",
          "output_type": "stream",
          "text": [
            "Epoch 105: Val MSE = 0.0166, Val MAE = 0.1048, Val R² = 0.9918\n"
          ]
        },
        {
          "name": "stderr",
          "output_type": "stream",
          "text": [
            "\r 71%|███████   | 106/150 [02:43<01:07,  1.52s/it]"
          ]
        },
        {
          "name": "stdout",
          "output_type": "stream",
          "text": [
            "Epoch 106: Val MSE = 0.0102, Val MAE = 0.0831, Val R² = 0.9949\n"
          ]
        },
        {
          "name": "stderr",
          "output_type": "stream",
          "text": [
            "\r 71%|███████▏  | 107/150 [02:44<01:03,  1.49s/it]"
          ]
        },
        {
          "name": "stdout",
          "output_type": "stream",
          "text": [
            "Epoch 107: Val MSE = 0.0078, Val MAE = 0.0709, Val R² = 0.9961\n"
          ]
        },
        {
          "name": "stderr",
          "output_type": "stream",
          "text": [
            "\r 72%|███████▏  | 108/150 [02:45<01:01,  1.45s/it]"
          ]
        },
        {
          "name": "stdout",
          "output_type": "stream",
          "text": [
            "Epoch 108: Val MSE = 0.0165, Val MAE = 0.1052, Val R² = 0.9918\n"
          ]
        },
        {
          "name": "stderr",
          "output_type": "stream",
          "text": [
            "\r 73%|███████▎  | 109/150 [02:47<00:58,  1.43s/it]"
          ]
        },
        {
          "name": "stdout",
          "output_type": "stream",
          "text": [
            "Epoch 109: Val MSE = 0.0123, Val MAE = 0.0908, Val R² = 0.9939\n"
          ]
        },
        {
          "name": "stderr",
          "output_type": "stream",
          "text": [
            "\r 73%|███████▎  | 110/150 [02:48<00:59,  1.50s/it]"
          ]
        },
        {
          "name": "stdout",
          "output_type": "stream",
          "text": [
            "Epoch 110: Val MSE = 0.0138, Val MAE = 0.0971, Val R² = 0.9932\n"
          ]
        },
        {
          "name": "stderr",
          "output_type": "stream",
          "text": [
            "\r 74%|███████▍  | 111/150 [02:50<01:00,  1.55s/it]"
          ]
        },
        {
          "name": "stdout",
          "output_type": "stream",
          "text": [
            "Epoch 111: Val MSE = 0.0068, Val MAE = 0.0679, Val R² = 0.9966\n"
          ]
        },
        {
          "name": "stderr",
          "output_type": "stream",
          "text": [
            "\r 75%|███████▍  | 112/150 [02:52<00:59,  1.55s/it]"
          ]
        },
        {
          "name": "stdout",
          "output_type": "stream",
          "text": [
            "Epoch 112: Val MSE = 0.0148, Val MAE = 0.0994, Val R² = 0.9927\n"
          ]
        },
        {
          "name": "stderr",
          "output_type": "stream",
          "text": [
            "\r 75%|███████▌  | 113/150 [02:53<00:55,  1.51s/it]"
          ]
        },
        {
          "name": "stdout",
          "output_type": "stream",
          "text": [
            "Epoch 113: Val MSE = 0.0081, Val MAE = 0.0724, Val R² = 0.9960\n"
          ]
        },
        {
          "name": "stderr",
          "output_type": "stream",
          "text": [
            "\r 76%|███████▌  | 114/150 [02:55<00:53,  1.48s/it]"
          ]
        },
        {
          "name": "stdout",
          "output_type": "stream",
          "text": [
            "Epoch 114: Val MSE = 0.0093, Val MAE = 0.0798, Val R² = 0.9954\n"
          ]
        },
        {
          "name": "stderr",
          "output_type": "stream",
          "text": [
            "\r 77%|███████▋  | 115/150 [02:56<00:53,  1.53s/it]"
          ]
        },
        {
          "name": "stdout",
          "output_type": "stream",
          "text": [
            "Epoch 115: Val MSE = 0.0078, Val MAE = 0.0719, Val R² = 0.9961\n"
          ]
        },
        {
          "name": "stderr",
          "output_type": "stream",
          "text": [
            "\r 77%|███████▋  | 116/150 [02:58<00:50,  1.49s/it]"
          ]
        },
        {
          "name": "stdout",
          "output_type": "stream",
          "text": [
            "Epoch 116: Val MSE = 0.0072, Val MAE = 0.0695, Val R² = 0.9964\n"
          ]
        },
        {
          "name": "stderr",
          "output_type": "stream",
          "text": [
            "\r 78%|███████▊  | 117/150 [02:59<00:48,  1.47s/it]"
          ]
        },
        {
          "name": "stdout",
          "output_type": "stream",
          "text": [
            "Epoch 117: Val MSE = 0.0116, Val MAE = 0.0894, Val R² = 0.9943\n"
          ]
        },
        {
          "name": "stderr",
          "output_type": "stream",
          "text": [
            "\r 79%|███████▊  | 118/150 [03:00<00:46,  1.46s/it]"
          ]
        },
        {
          "name": "stdout",
          "output_type": "stream",
          "text": [
            "Epoch 118: Val MSE = 0.0113, Val MAE = 0.0813, Val R² = 0.9944\n"
          ]
        },
        {
          "name": "stderr",
          "output_type": "stream",
          "text": [
            "\r 79%|███████▉  | 119/150 [03:02<00:50,  1.63s/it]"
          ]
        },
        {
          "name": "stdout",
          "output_type": "stream",
          "text": [
            "Epoch 119: Val MSE = 0.0101, Val MAE = 0.0832, Val R² = 0.9950\n"
          ]
        },
        {
          "name": "stderr",
          "output_type": "stream",
          "text": [
            "\r 80%|████████  | 120/150 [03:04<00:47,  1.59s/it]"
          ]
        },
        {
          "name": "stdout",
          "output_type": "stream",
          "text": [
            "Epoch 120: Val MSE = 0.0098, Val MAE = 0.0813, Val R² = 0.9951\n"
          ]
        },
        {
          "name": "stderr",
          "output_type": "stream",
          "text": [
            "\r 81%|████████  | 121/150 [03:05<00:44,  1.55s/it]"
          ]
        },
        {
          "name": "stdout",
          "output_type": "stream",
          "text": [
            "Epoch 121: Val MSE = 0.0125, Val MAE = 0.0930, Val R² = 0.9938\n"
          ]
        },
        {
          "name": "stderr",
          "output_type": "stream",
          "text": [
            "\r 81%|████████▏ | 122/150 [03:07<00:42,  1.51s/it]"
          ]
        },
        {
          "name": "stdout",
          "output_type": "stream",
          "text": [
            "Epoch 122: Val MSE = 0.0105, Val MAE = 0.0856, Val R² = 0.9948\n"
          ]
        },
        {
          "name": "stderr",
          "output_type": "stream",
          "text": [
            "\r 82%|████████▏ | 123/150 [03:08<00:39,  1.48s/it]"
          ]
        },
        {
          "name": "stdout",
          "output_type": "stream",
          "text": [
            "Epoch 123: Val MSE = 0.0106, Val MAE = 0.0848, Val R² = 0.9948\n"
          ]
        },
        {
          "name": "stderr",
          "output_type": "stream",
          "text": [
            "\r 83%|████████▎ | 124/150 [03:10<00:39,  1.53s/it]"
          ]
        },
        {
          "name": "stdout",
          "output_type": "stream",
          "text": [
            "Epoch 124: Val MSE = 0.0103, Val MAE = 0.0830, Val R² = 0.9949\n"
          ]
        },
        {
          "name": "stderr",
          "output_type": "stream",
          "text": [
            "\r 83%|████████▎ | 125/150 [03:11<00:37,  1.50s/it]"
          ]
        },
        {
          "name": "stdout",
          "output_type": "stream",
          "text": [
            "Epoch 125: Val MSE = 0.0095, Val MAE = 0.0813, Val R² = 0.9953\n"
          ]
        },
        {
          "name": "stderr",
          "output_type": "stream",
          "text": [
            "\r 84%|████████▍ | 126/150 [03:13<00:35,  1.48s/it]"
          ]
        },
        {
          "name": "stdout",
          "output_type": "stream",
          "text": [
            "Epoch 126: Val MSE = 0.0088, Val MAE = 0.0771, Val R² = 0.9957\n"
          ]
        },
        {
          "name": "stderr",
          "output_type": "stream",
          "text": [
            "\r 85%|████████▍ | 127/150 [03:15<00:36,  1.57s/it]"
          ]
        },
        {
          "name": "stdout",
          "output_type": "stream",
          "text": [
            "Epoch 127: Val MSE = 0.0079, Val MAE = 0.0739, Val R² = 0.9961\n"
          ]
        },
        {
          "name": "stderr",
          "output_type": "stream",
          "text": [
            "\r 85%|████████▌ | 128/150 [03:16<00:36,  1.64s/it]"
          ]
        },
        {
          "name": "stdout",
          "output_type": "stream",
          "text": [
            "Epoch 128: Val MSE = 0.0074, Val MAE = 0.0705, Val R² = 0.9963\n"
          ]
        },
        {
          "name": "stderr",
          "output_type": "stream",
          "text": [
            "\r 86%|████████▌ | 129/150 [03:18<00:33,  1.58s/it]"
          ]
        },
        {
          "name": "stdout",
          "output_type": "stream",
          "text": [
            "Epoch 129: Val MSE = 0.0123, Val MAE = 0.0921, Val R² = 0.9939\n"
          ]
        },
        {
          "name": "stderr",
          "output_type": "stream",
          "text": [
            "\r 87%|████████▋ | 130/150 [03:19<00:30,  1.53s/it]"
          ]
        },
        {
          "name": "stdout",
          "output_type": "stream",
          "text": [
            "Epoch 130: Val MSE = 0.0096, Val MAE = 0.0814, Val R² = 0.9952\n"
          ]
        },
        {
          "name": "stderr",
          "output_type": "stream",
          "text": [
            "\r 87%|████████▋ | 131/150 [03:21<00:28,  1.49s/it]"
          ]
        },
        {
          "name": "stdout",
          "output_type": "stream",
          "text": [
            "Epoch 131: Val MSE = 0.0118, Val MAE = 0.0886, Val R² = 0.9942\n"
          ]
        },
        {
          "name": "stderr",
          "output_type": "stream",
          "text": [
            "\r 88%|████████▊ | 132/150 [03:22<00:26,  1.47s/it]"
          ]
        },
        {
          "name": "stdout",
          "output_type": "stream",
          "text": [
            "Epoch 132: Val MSE = 0.0085, Val MAE = 0.0755, Val R² = 0.9958\n"
          ]
        },
        {
          "name": "stderr",
          "output_type": "stream",
          "text": [
            "\r 89%|████████▊ | 133/150 [03:24<00:25,  1.53s/it]"
          ]
        },
        {
          "name": "stdout",
          "output_type": "stream",
          "text": [
            "Epoch 133: Val MSE = 0.0096, Val MAE = 0.0814, Val R² = 0.9953\n"
          ]
        },
        {
          "name": "stderr",
          "output_type": "stream",
          "text": [
            "\r 89%|████████▉ | 134/150 [03:25<00:24,  1.54s/it]"
          ]
        },
        {
          "name": "stdout",
          "output_type": "stream",
          "text": [
            "Epoch 134: Val MSE = 0.0128, Val MAE = 0.0939, Val R² = 0.9937\n"
          ]
        },
        {
          "name": "stderr",
          "output_type": "stream",
          "text": [
            "\r 90%|█████████ | 135/150 [03:27<00:23,  1.59s/it]"
          ]
        },
        {
          "name": "stdout",
          "output_type": "stream",
          "text": [
            "Epoch 135: Val MSE = 0.0076, Val MAE = 0.0672, Val R² = 0.9962\n"
          ]
        },
        {
          "name": "stderr",
          "output_type": "stream",
          "text": [
            "\r 91%|█████████ | 136/150 [03:28<00:21,  1.54s/it]"
          ]
        },
        {
          "name": "stdout",
          "output_type": "stream",
          "text": [
            "Epoch 136: Val MSE = 0.0100, Val MAE = 0.0763, Val R² = 0.9950\n"
          ]
        },
        {
          "name": "stderr",
          "output_type": "stream",
          "text": [
            "\r 91%|█████████▏| 137/150 [03:30<00:20,  1.59s/it]"
          ]
        },
        {
          "name": "stdout",
          "output_type": "stream",
          "text": [
            "Epoch 137: Val MSE = 0.0124, Val MAE = 0.0900, Val R² = 0.9938\n"
          ]
        },
        {
          "name": "stderr",
          "output_type": "stream",
          "text": [
            "\r 92%|█████████▏| 138/150 [03:32<00:18,  1.55s/it]"
          ]
        },
        {
          "name": "stdout",
          "output_type": "stream",
          "text": [
            "Epoch 138: Val MSE = 0.0115, Val MAE = 0.0869, Val R² = 0.9943\n"
          ]
        },
        {
          "name": "stderr",
          "output_type": "stream",
          "text": [
            "\r 93%|█████████▎| 139/150 [03:33<00:16,  1.52s/it]"
          ]
        },
        {
          "name": "stdout",
          "output_type": "stream",
          "text": [
            "Epoch 139: Val MSE = 0.0079, Val MAE = 0.0685, Val R² = 0.9961\n"
          ]
        },
        {
          "name": "stderr",
          "output_type": "stream",
          "text": [
            "\r 93%|█████████▎| 140/150 [03:34<00:14,  1.49s/it]"
          ]
        },
        {
          "name": "stdout",
          "output_type": "stream",
          "text": [
            "Epoch 140: Val MSE = 0.0108, Val MAE = 0.0867, Val R² = 0.9947\n"
          ]
        },
        {
          "name": "stderr",
          "output_type": "stream",
          "text": [
            "\r 94%|█████████▍| 141/150 [03:36<00:13,  1.55s/it]"
          ]
        },
        {
          "name": "stdout",
          "output_type": "stream",
          "text": [
            "Epoch 141: Val MSE = 0.0082, Val MAE = 0.0719, Val R² = 0.9960\n"
          ]
        },
        {
          "name": "stderr",
          "output_type": "stream",
          "text": [
            "\r 95%|█████████▍| 142/150 [03:38<00:12,  1.58s/it]"
          ]
        },
        {
          "name": "stdout",
          "output_type": "stream",
          "text": [
            "Epoch 142: Val MSE = 0.0085, Val MAE = 0.0763, Val R² = 0.9958\n"
          ]
        },
        {
          "name": "stderr",
          "output_type": "stream",
          "text": [
            "\r 95%|█████████▌| 143/150 [03:39<00:11,  1.59s/it]"
          ]
        },
        {
          "name": "stdout",
          "output_type": "stream",
          "text": [
            "Epoch 143: Val MSE = 0.0089, Val MAE = 0.0781, Val R² = 0.9956\n"
          ]
        },
        {
          "name": "stderr",
          "output_type": "stream",
          "text": [
            "\r 96%|█████████▌| 144/150 [03:41<00:09,  1.54s/it]"
          ]
        },
        {
          "name": "stdout",
          "output_type": "stream",
          "text": [
            "Epoch 144: Val MSE = 0.0173, Val MAE = 0.1102, Val R² = 0.9915\n"
          ]
        },
        {
          "name": "stderr",
          "output_type": "stream",
          "text": [
            "\r 97%|█████████▋| 145/150 [03:42<00:07,  1.51s/it]"
          ]
        },
        {
          "name": "stdout",
          "output_type": "stream",
          "text": [
            "Epoch 145: Val MSE = 0.0071, Val MAE = 0.0695, Val R² = 0.9965\n"
          ]
        },
        {
          "name": "stderr",
          "output_type": "stream",
          "text": [
            "\r 97%|█████████▋| 146/150 [03:44<00:06,  1.56s/it]"
          ]
        },
        {
          "name": "stdout",
          "output_type": "stream",
          "text": [
            "Epoch 146: Val MSE = 0.0083, Val MAE = 0.0752, Val R² = 0.9959\n"
          ]
        },
        {
          "name": "stderr",
          "output_type": "stream",
          "text": [
            "\r 98%|█████████▊| 147/150 [03:45<00:04,  1.51s/it]"
          ]
        },
        {
          "name": "stdout",
          "output_type": "stream",
          "text": [
            "Epoch 147: Val MSE = 0.0087, Val MAE = 0.0752, Val R² = 0.9957\n"
          ]
        },
        {
          "name": "stderr",
          "output_type": "stream",
          "text": [
            "\r 99%|█████████▊| 148/150 [03:47<00:02,  1.47s/it]"
          ]
        },
        {
          "name": "stdout",
          "output_type": "stream",
          "text": [
            "Epoch 148: Val MSE = 0.0081, Val MAE = 0.0720, Val R² = 0.9960\n"
          ]
        },
        {
          "name": "stderr",
          "output_type": "stream",
          "text": [
            "\r 99%|█████████▉| 149/150 [03:48<00:01,  1.45s/it]"
          ]
        },
        {
          "name": "stdout",
          "output_type": "stream",
          "text": [
            "Epoch 149: Val MSE = 0.0196, Val MAE = 0.1119, Val R² = 0.9903\n"
          ]
        },
        {
          "name": "stderr",
          "output_type": "stream",
          "text": [
            "100%|██████████| 150/150 [03:50<00:00,  1.53s/it]"
          ]
        },
        {
          "name": "stdout",
          "output_type": "stream",
          "text": [
            "Epoch 150: Val MSE = 0.0096, Val MAE = 0.0812, Val R² = 0.9952\n"
          ]
        },
        {
          "name": "stderr",
          "output_type": "stream",
          "text": [
            "\n"
          ]
        }
      ],
      "source": [
        "for epoch in tqdm(range(opa_epocha)):\n",
        "    model.train()\n",
        "    for X_batch, y_batch in train_loader:\n",
        "        X_batch, y_batch = X_batch.to(device), y_batch.to(device)\n",
        "\n",
        "        optimizer.zero_grad()\n",
        "        outputs = model(X_batch).squeeze()  # Предсказания модели\n",
        "        loss = criterion(outputs, y_batch)\n",
        "        loss.backward()\n",
        "        optimizer.step()\n",
        "\n",
        "    # Валидация\n",
        "    model.eval()\n",
        "    val_preds, val_targets = [], []\n",
        "    with torch.no_grad():\n",
        "        for X_val, y_val_batch in val_loader:\n",
        "            X_val, y_val_batch = X_val.to(device), y_val_batch.to(device)\n",
        "            preds = model(X_val).squeeze()  # Предсказания модели\n",
        "            val_preds.extend(preds.cpu().numpy())\n",
        "            val_targets.extend(y_val_batch.cpu().numpy())\n",
        "\n",
        "\n",
        "    mse = mean_squared_error(val_targets, val_preds)\n",
        "    mae = mean_absolute_error(val_targets, val_preds)\n",
        "    r2 = r2_score(val_targets, val_preds)\n",
        "    scheduler.step(mse)  # Оптимизация на основе MSE\n",
        "\n",
        "    print(f\"Epoch {epoch+1}: Val MSE = {mse:.4f}, Val MAE = {mae:.4f}, Val R² = {r2:.4f}\")\n",
        "\n",
        "    if mse < best_mse and mae < best_mae:\n",
        "        best_mse = mse\n",
        "        best_mae = mae\n",
        "        print('New best')\n",
        "        torch.save(model.state_dict(), 'best_model.pth')"
      ]
    },
    {
      "cell_type": "code",
      "execution_count": 58,
      "id": "4993dc48",
      "metadata": {
        "colab": {
          "base_uri": "https://localhost:8080/"
        },
        "id": "4993dc48",
        "outputId": "e26b7684-336d-4a15-d7d5-e09683136da1"
      },
      "outputs": [
        {
          "name": "stdout",
          "output_type": "stream",
          "text": [
            "Validation MSE: 0.0062\n",
            "Validation MAE: 0.0639\n"
          ]
        }
      ],
      "source": [
        "print(f\"Validation MSE: {best_mse:.4f}\")\n",
        "print(f\"Validation MAE: {best_mae:.4f}\")"
      ]
    },
    {
      "cell_type": "code",
      "execution_count": 59,
      "id": "83AsijK5ckxy",
      "metadata": {
        "colab": {
          "base_uri": "https://localhost:8080/"
        },
        "id": "83AsijK5ckxy",
        "outputId": "3634ebce-f768-4ff2-f3f8-b714a00db403"
      },
      "outputs": [
        {
          "data": {
            "text/plain": [
              "DeepRegressor(\n",
              "  (net): Sequential(\n",
              "    (0): Linear(in_features=649, out_features=1024, bias=True)\n",
              "    (1): BatchNorm1d(1024, eps=1e-05, momentum=0.1, affine=True, track_running_stats=True)\n",
              "    (2): LeakyReLU(negative_slope=0.1)\n",
              "    (3): Dropout(p=0.3, inplace=False)\n",
              "    (4): Linear(in_features=1024, out_features=512, bias=True)\n",
              "    (5): BatchNorm1d(512, eps=1e-05, momentum=0.1, affine=True, track_running_stats=True)\n",
              "    (6): GELU(approximate='none')\n",
              "    (7): Dropout(p=0.25, inplace=False)\n",
              "    (8): Linear(in_features=512, out_features=256, bias=True)\n",
              "    (9): BatchNorm1d(256, eps=1e-05, momentum=0.1, affine=True, track_running_stats=True)\n",
              "    (10): SiLU()\n",
              "    (11): Dropout(p=0.2, inplace=False)\n",
              "    (12): Linear(in_features=256, out_features=1, bias=True)\n",
              "  )\n",
              ")"
            ]
          },
          "execution_count": 59,
          "metadata": {},
          "output_type": "execute_result"
        }
      ],
      "source": [
        "# Создаем экземпляр модели\n",
        "model = DeepRegressor().to(device)\n",
        "\n",
        "# Загружаем сохраненные веса\n",
        "model.load_state_dict(torch.load('/content/best_model.pth'))\n",
        "\n",
        "# Переводим модель в режим оценки\n",
        "model.eval()"
      ]
    },
    {
      "cell_type": "code",
      "execution_count": null,
      "id": "OaXbYw0vdLPL",
      "metadata": {
        "id": "OaXbYw0vdLPL"
      },
      "outputs": [],
      "source": [
        "X_new_test = torch.tensor(X_test.values).float().to(device)"
      ]
    },
    {
      "cell_type": "code",
      "execution_count": 66,
      "id": "z1FbjfACdhRC",
      "metadata": {
        "id": "z1FbjfACdhRC"
      },
      "outputs": [],
      "source": [
        "import numpy as np"
      ]
    },
    {
      "cell_type": "code",
      "execution_count": null,
      "id": "fBZQ76TOc1PE",
      "metadata": {
        "colab": {
          "base_uri": "https://localhost:8080/"
        },
        "id": "fBZQ76TOc1PE",
        "outputId": "ad325b5c-c861-4222-fc99-278457a9eb9e"
      },
      "outputs": [
        {
          "name": "stdout",
          "output_type": "stream",
          "text": [
            "[6.156739  8.321328  6.643861  ... 8.82716   5.4846935 6.3902664]\n",
            "[6.25  8.29  6.672 ... 8.83  5.57  6.524]\n"
          ]
        }
      ],
      "source": [
        "with torch.no_grad():  \n",
        "    predictions = model(X_new_test).squeeze() \n",
        "\n",
        "predictions_np = predictions.cpu().numpy()\n",
        "\n",
        "print(np.array(predictions_np))\n",
        "print(np.array(y_test))"
      ]
    }
  ],
  "metadata": {
    "accelerator": "GPU",
    "colab": {
      "gpuType": "T4",
      "provenance": []
    },
    "kernelspec": {
      "display_name": ".venv",
      "language": "python",
      "name": "python3"
    },
    "language_info": {
      "codemirror_mode": {
        "name": "ipython",
        "version": 3
      },
      "file_extension": ".py",
      "mimetype": "text/x-python",
      "name": "python",
      "nbconvert_exporter": "python",
      "pygments_lexer": "ipython3",
      "version": "3.13.2"
    }
  },
  "nbformat": 4,
  "nbformat_minor": 5
}
