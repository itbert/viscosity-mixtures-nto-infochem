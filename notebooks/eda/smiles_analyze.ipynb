{
 "cells": [
  {
   "cell_type": "code",
   "execution_count": 1,
   "id": "5c3caf72",
   "metadata": {},
   "outputs": [],
   "source": [
    "import pandas as pd"
   ]
  },
  {
   "cell_type": "code",
   "execution_count": 2,
   "id": "f9340b5b",
   "metadata": {},
   "outputs": [
    {
     "data": {
      "application/vnd.microsoft.datawrangler.viewer.v0+json": {
       "columns": [
        {
         "name": "index",
         "rawType": "int64",
         "type": "integer"
        },
        {
         "name": "component_name",
         "rawType": "object",
         "type": "string"
        },
        {
         "name": "smiles",
         "rawType": "object",
         "type": "string"
        }
       ],
       "conversionMethod": "pd.DataFrame",
       "ref": "4e577410-bc5d-42b9-af8e-b4b45ede01b5",
       "rows": [
        [
         "0",
         "cf40823a-4b86-415c-b841-a9ead84d9fcf",
         "CCCCC(C)C"
        ],
        [
         "1",
         "6c3c9b13-07ee-434a-9d7e-e2e37b83a023",
         "CCCCCCC(C(C(C)C)CCCCCC)CC(C(C)C)CCCCC"
        ],
        [
         "2",
         "0c047bc0-0041-45f7-9222-d2ec5fd2df38",
         "CCCCCCCCC(CCCCCC)CC(C)CCCCCCCC"
        ],
        [
         "3",
         "7bc3fcf4-7f3f-4ff6-9bdd-a62fc39828d3",
         "CCCCCCC(CCCCCCCC)CCCCCCCC"
        ],
        [
         "4",
         "240187a5-a150-4a92-9e53-8d964dedf3fb",
         "CC1=CC2=NNN=C2C=C1.C(CO)N(CCO)CCO"
        ],
        [
         "5",
         "9c948f48-0165-4291-8db6-bfe73a534785",
         "CCCCCC(C(OC)=O)CCCC"
        ],
        [
         "6",
         "a9c1305e-3832-4ddc-a6c4-24e3a649d2e6",
         "CC1CCCCC1C"
        ],
        [
         "7",
         "18cc80c2-b2dd-4565-b54c-7b55924b5b43",
         "O=S(C1=CC=C([C18H21])C=C1)(O)=O"
        ],
        [
         "8",
         "435358c0-8f5b-4e51-8f44-726273e02756",
         "CCCCCCCCC(C(CC)CCCCC)CC(C)CCCC"
        ],
        [
         "9",
         "088905d1-991f-479d-a9d1-fab9abb0b47d",
         "CCCCCCC(C(C)CCC)CC(C)CCCCCC"
        ],
        [
         "10",
         "2b2de7e7-be33-4505-ab93-50234b79f528",
         "CCCCCCCCC(CCCCC)CCCCCC"
        ],
        [
         "11",
         "6b4f217d-2c74-4b84-ae57-7e6f79a6d6ad",
         "CCCCCCCC(C)C(CCCCC)C(C)CCCCC"
        ],
        [
         "12",
         "e206e647-919b-4d8e-b840-e79dbd46eb27",
         "OC1=CC=C(CCCC)C=C1C(O[Ca]OC(C2=CC(CCCC)=CC=C2O)=O)=O"
        ],
        [
         "13",
         "1ec8ea9b-f26c-4ff9-bd23-3f69ba63151a",
         "OC1=C(C(C)(C)C)C=C(CCC(OCC)=O)C=C1C(C)(C)C"
        ],
        [
         "14",
         "12c7dfaa-3b44-445e-9dcd-9986cd64588e",
         "O=C1CC(B(C(C)(C)C)C(C)(C)C)C(N1CCNCCN2C(CC(B(C(C)(C)C)C(C)(C)C)C2=O)=O)=O"
        ],
        [
         "15",
         "96666028-8268-41c0-92e4-cb08346a232d",
         "CCCCCCCCN(C1=CC=CC=C1)C2=CC=CC=C2CCCC"
        ],
        [
         "16",
         "0a3f8afa-864c-4d53-83fb-714ef27dc481",
         "O=C(C1=CC=CC=C1)N2N=NC3=C2C=CC=C3"
        ],
        [
         "17",
         "22c43eee-8a3a-4bdb-a18d-6e474b6624de",
         "CCCCC"
        ],
        [
         "18",
         "24254cdb-5033-424f-aa96-91ae4ec0a49f",
         "CCC(C)CC"
        ],
        [
         "19",
         "e468b13a-e145-4e03-a68e-1bdbecec3aae",
         "CCCCC(C(OCC)=O)C(OCC)=O"
        ],
        [
         "20",
         "7e8e3dc7-49ac-4a5b-9039-a0a47791ad25",
         "CC(C(OCCCC)=O)C(OCCCC)=O"
        ],
        [
         "21",
         "67a553eb-b6d1-424c-ba9b-278d580f533f",
         "CCC(CC(C)OCCCC)Cl"
        ],
        [
         "22",
         "869b636d-df53-4c36-b905-16cdbc60d3d9",
         "O=C(CC)OCCCCCOC"
        ],
        [
         "23",
         "9a8b4758-a712-4114-a28f-775e5f7f519c",
         "COC(C(C)(CC)C)=O"
        ],
        [
         "24",
         "93d2b1f6-debe-4743-b7b7-dbddbb0f7151",
         "CCCCCC"
        ],
        [
         "25",
         "a07715b4-8762-491c-817c-170633ec220e",
         "CCC(C(OC[CH2](C)CCCCCCC[CH2])=O)C"
        ],
        [
         "26",
         "cb3bbf9b-6a34-46c1-bce8-9c7b5e2cbb50",
         "CCC(C(OC)=O)CC"
        ],
        [
         "27",
         "8be3ddcb-86a6-4105-9b83-808e68ef362f",
         "O=C(OC)C(C)(CCC)C"
        ],
        [
         "28",
         "1864d2ec-c58d-498d-98e8-4cf2cbff06d0",
         "CCCC/C=C\\C(CCCCCCC)=C\\C(CCCCC)C"
        ],
        [
         "29",
         "89793562-e28e-42ef-ad98-82a01f8b2790",
         "O=C(OC)C(C)(C)CC"
        ],
        [
         "30",
         "6dbe4ce9-8115-48e2-97aa-bf2c3bf0d479",
         "CC(C)(C)C(OC)=O"
        ],
        [
         "31",
         "3a03d432-d849-417d-92e7-9a604187a096",
         "CCCC(C)CCC"
        ],
        [
         "32",
         "91e31c1f-e7f6-401c-bf10-9c2e604f89a4",
         "CC(C)(C)CC(C)(C)C"
        ],
        [
         "33",
         "6bebd954-7bea-4204-a650-2c7f36907998",
         "CCC(C)CCC"
        ],
        [
         "34",
         "0962b43d-14b3-4bc5-b7b4-34500629ff48",
         "CCC(C)(C)CC"
        ],
        [
         "35",
         "729d3181-7f59-41d5-bb82-7a33396b3876",
         "CCCCCCC"
        ],
        [
         "36",
         "c33ebc5c-0935-4c6b-a489-f1404f88be22",
         "CCC(C)CCCC"
        ],
        [
         "37",
         "60a7c8d1-3789-4abd-8305-f93b36bcdbe3",
         "CC(C)(C)C(C)C(C)C"
        ],
        [
         "38",
         "7a1c1a96-1ec2-4582-b69b-f5f66e453dea",
         "CC(C)CCCCC"
        ]
       ],
       "shape": {
        "columns": 2,
        "rows": 39
       }
      },
      "text/html": [
       "<div>\n",
       "<style scoped>\n",
       "    .dataframe tbody tr th:only-of-type {\n",
       "        vertical-align: middle;\n",
       "    }\n",
       "\n",
       "    .dataframe tbody tr th {\n",
       "        vertical-align: top;\n",
       "    }\n",
       "\n",
       "    .dataframe thead th {\n",
       "        text-align: right;\n",
       "    }\n",
       "</style>\n",
       "<table border=\"1\" class=\"dataframe\">\n",
       "  <thead>\n",
       "    <tr style=\"text-align: right;\">\n",
       "      <th></th>\n",
       "      <th>component_name</th>\n",
       "      <th>smiles</th>\n",
       "    </tr>\n",
       "  </thead>\n",
       "  <tbody>\n",
       "    <tr>\n",
       "      <th>0</th>\n",
       "      <td>cf40823a-4b86-415c-b841-a9ead84d9fcf</td>\n",
       "      <td>CCCCC(C)C</td>\n",
       "    </tr>\n",
       "    <tr>\n",
       "      <th>1</th>\n",
       "      <td>6c3c9b13-07ee-434a-9d7e-e2e37b83a023</td>\n",
       "      <td>CCCCCCC(C(C(C)C)CCCCCC)CC(C(C)C)CCCCC</td>\n",
       "    </tr>\n",
       "    <tr>\n",
       "      <th>2</th>\n",
       "      <td>0c047bc0-0041-45f7-9222-d2ec5fd2df38</td>\n",
       "      <td>CCCCCCCCC(CCCCCC)CC(C)CCCCCCCC</td>\n",
       "    </tr>\n",
       "    <tr>\n",
       "      <th>3</th>\n",
       "      <td>7bc3fcf4-7f3f-4ff6-9bdd-a62fc39828d3</td>\n",
       "      <td>CCCCCCC(CCCCCCCC)CCCCCCCC</td>\n",
       "    </tr>\n",
       "    <tr>\n",
       "      <th>4</th>\n",
       "      <td>240187a5-a150-4a92-9e53-8d964dedf3fb</td>\n",
       "      <td>CC1=CC2=NNN=C2C=C1.C(CO)N(CCO)CCO</td>\n",
       "    </tr>\n",
       "    <tr>\n",
       "      <th>5</th>\n",
       "      <td>9c948f48-0165-4291-8db6-bfe73a534785</td>\n",
       "      <td>CCCCCC(C(OC)=O)CCCC</td>\n",
       "    </tr>\n",
       "    <tr>\n",
       "      <th>6</th>\n",
       "      <td>a9c1305e-3832-4ddc-a6c4-24e3a649d2e6</td>\n",
       "      <td>CC1CCCCC1C</td>\n",
       "    </tr>\n",
       "    <tr>\n",
       "      <th>7</th>\n",
       "      <td>18cc80c2-b2dd-4565-b54c-7b55924b5b43</td>\n",
       "      <td>O=S(C1=CC=C([C18H21])C=C1)(O)=O</td>\n",
       "    </tr>\n",
       "    <tr>\n",
       "      <th>8</th>\n",
       "      <td>435358c0-8f5b-4e51-8f44-726273e02756</td>\n",
       "      <td>CCCCCCCCC(C(CC)CCCCC)CC(C)CCCC</td>\n",
       "    </tr>\n",
       "    <tr>\n",
       "      <th>9</th>\n",
       "      <td>088905d1-991f-479d-a9d1-fab9abb0b47d</td>\n",
       "      <td>CCCCCCC(C(C)CCC)CC(C)CCCCCC</td>\n",
       "    </tr>\n",
       "    <tr>\n",
       "      <th>10</th>\n",
       "      <td>2b2de7e7-be33-4505-ab93-50234b79f528</td>\n",
       "      <td>CCCCCCCCC(CCCCC)CCCCCC</td>\n",
       "    </tr>\n",
       "    <tr>\n",
       "      <th>11</th>\n",
       "      <td>6b4f217d-2c74-4b84-ae57-7e6f79a6d6ad</td>\n",
       "      <td>CCCCCCCC(C)C(CCCCC)C(C)CCCCC</td>\n",
       "    </tr>\n",
       "    <tr>\n",
       "      <th>12</th>\n",
       "      <td>e206e647-919b-4d8e-b840-e79dbd46eb27</td>\n",
       "      <td>OC1=CC=C(CCCC)C=C1C(O[Ca]OC(C2=CC(CCCC)=CC=C2O...</td>\n",
       "    </tr>\n",
       "    <tr>\n",
       "      <th>13</th>\n",
       "      <td>1ec8ea9b-f26c-4ff9-bd23-3f69ba63151a</td>\n",
       "      <td>OC1=C(C(C)(C)C)C=C(CCC(OCC)=O)C=C1C(C)(C)C</td>\n",
       "    </tr>\n",
       "    <tr>\n",
       "      <th>14</th>\n",
       "      <td>12c7dfaa-3b44-445e-9dcd-9986cd64588e</td>\n",
       "      <td>O=C1CC(B(C(C)(C)C)C(C)(C)C)C(N1CCNCCN2C(CC(B(C...</td>\n",
       "    </tr>\n",
       "    <tr>\n",
       "      <th>15</th>\n",
       "      <td>96666028-8268-41c0-92e4-cb08346a232d</td>\n",
       "      <td>CCCCCCCCN(C1=CC=CC=C1)C2=CC=CC=C2CCCC</td>\n",
       "    </tr>\n",
       "    <tr>\n",
       "      <th>16</th>\n",
       "      <td>0a3f8afa-864c-4d53-83fb-714ef27dc481</td>\n",
       "      <td>O=C(C1=CC=CC=C1)N2N=NC3=C2C=CC=C3</td>\n",
       "    </tr>\n",
       "    <tr>\n",
       "      <th>17</th>\n",
       "      <td>22c43eee-8a3a-4bdb-a18d-6e474b6624de</td>\n",
       "      <td>CCCCC</td>\n",
       "    </tr>\n",
       "    <tr>\n",
       "      <th>18</th>\n",
       "      <td>24254cdb-5033-424f-aa96-91ae4ec0a49f</td>\n",
       "      <td>CCC(C)CC</td>\n",
       "    </tr>\n",
       "    <tr>\n",
       "      <th>19</th>\n",
       "      <td>e468b13a-e145-4e03-a68e-1bdbecec3aae</td>\n",
       "      <td>CCCCC(C(OCC)=O)C(OCC)=O</td>\n",
       "    </tr>\n",
       "    <tr>\n",
       "      <th>20</th>\n",
       "      <td>7e8e3dc7-49ac-4a5b-9039-a0a47791ad25</td>\n",
       "      <td>CC(C(OCCCC)=O)C(OCCCC)=O</td>\n",
       "    </tr>\n",
       "    <tr>\n",
       "      <th>21</th>\n",
       "      <td>67a553eb-b6d1-424c-ba9b-278d580f533f</td>\n",
       "      <td>CCC(CC(C)OCCCC)Cl</td>\n",
       "    </tr>\n",
       "    <tr>\n",
       "      <th>22</th>\n",
       "      <td>869b636d-df53-4c36-b905-16cdbc60d3d9</td>\n",
       "      <td>O=C(CC)OCCCCCOC</td>\n",
       "    </tr>\n",
       "    <tr>\n",
       "      <th>23</th>\n",
       "      <td>9a8b4758-a712-4114-a28f-775e5f7f519c</td>\n",
       "      <td>COC(C(C)(CC)C)=O</td>\n",
       "    </tr>\n",
       "    <tr>\n",
       "      <th>24</th>\n",
       "      <td>93d2b1f6-debe-4743-b7b7-dbddbb0f7151</td>\n",
       "      <td>CCCCCC</td>\n",
       "    </tr>\n",
       "    <tr>\n",
       "      <th>25</th>\n",
       "      <td>a07715b4-8762-491c-817c-170633ec220e</td>\n",
       "      <td>CCC(C(OC[CH2](C)CCCCCCC[CH2])=O)C</td>\n",
       "    </tr>\n",
       "    <tr>\n",
       "      <th>26</th>\n",
       "      <td>cb3bbf9b-6a34-46c1-bce8-9c7b5e2cbb50</td>\n",
       "      <td>CCC(C(OC)=O)CC</td>\n",
       "    </tr>\n",
       "    <tr>\n",
       "      <th>27</th>\n",
       "      <td>8be3ddcb-86a6-4105-9b83-808e68ef362f</td>\n",
       "      <td>O=C(OC)C(C)(CCC)C</td>\n",
       "    </tr>\n",
       "    <tr>\n",
       "      <th>28</th>\n",
       "      <td>1864d2ec-c58d-498d-98e8-4cf2cbff06d0</td>\n",
       "      <td>CCCC/C=C\\C(CCCCCCC)=C\\C(CCCCC)C</td>\n",
       "    </tr>\n",
       "    <tr>\n",
       "      <th>29</th>\n",
       "      <td>89793562-e28e-42ef-ad98-82a01f8b2790</td>\n",
       "      <td>O=C(OC)C(C)(C)CC</td>\n",
       "    </tr>\n",
       "    <tr>\n",
       "      <th>30</th>\n",
       "      <td>6dbe4ce9-8115-48e2-97aa-bf2c3bf0d479</td>\n",
       "      <td>CC(C)(C)C(OC)=O</td>\n",
       "    </tr>\n",
       "    <tr>\n",
       "      <th>31</th>\n",
       "      <td>3a03d432-d849-417d-92e7-9a604187a096</td>\n",
       "      <td>CCCC(C)CCC</td>\n",
       "    </tr>\n",
       "    <tr>\n",
       "      <th>32</th>\n",
       "      <td>91e31c1f-e7f6-401c-bf10-9c2e604f89a4</td>\n",
       "      <td>CC(C)(C)CC(C)(C)C</td>\n",
       "    </tr>\n",
       "    <tr>\n",
       "      <th>33</th>\n",
       "      <td>6bebd954-7bea-4204-a650-2c7f36907998</td>\n",
       "      <td>CCC(C)CCC</td>\n",
       "    </tr>\n",
       "    <tr>\n",
       "      <th>34</th>\n",
       "      <td>0962b43d-14b3-4bc5-b7b4-34500629ff48</td>\n",
       "      <td>CCC(C)(C)CC</td>\n",
       "    </tr>\n",
       "    <tr>\n",
       "      <th>35</th>\n",
       "      <td>729d3181-7f59-41d5-bb82-7a33396b3876</td>\n",
       "      <td>CCCCCCC</td>\n",
       "    </tr>\n",
       "    <tr>\n",
       "      <th>36</th>\n",
       "      <td>c33ebc5c-0935-4c6b-a489-f1404f88be22</td>\n",
       "      <td>CCC(C)CCCC</td>\n",
       "    </tr>\n",
       "    <tr>\n",
       "      <th>37</th>\n",
       "      <td>60a7c8d1-3789-4abd-8305-f93b36bcdbe3</td>\n",
       "      <td>CC(C)(C)C(C)C(C)C</td>\n",
       "    </tr>\n",
       "    <tr>\n",
       "      <th>38</th>\n",
       "      <td>7a1c1a96-1ec2-4582-b69b-f5f66e453dea</td>\n",
       "      <td>CC(C)CCCCC</td>\n",
       "    </tr>\n",
       "  </tbody>\n",
       "</table>\n",
       "</div>"
      ],
      "text/plain": [
       "                          component_name  \\\n",
       "0   cf40823a-4b86-415c-b841-a9ead84d9fcf   \n",
       "1   6c3c9b13-07ee-434a-9d7e-e2e37b83a023   \n",
       "2   0c047bc0-0041-45f7-9222-d2ec5fd2df38   \n",
       "3   7bc3fcf4-7f3f-4ff6-9bdd-a62fc39828d3   \n",
       "4   240187a5-a150-4a92-9e53-8d964dedf3fb   \n",
       "5   9c948f48-0165-4291-8db6-bfe73a534785   \n",
       "6   a9c1305e-3832-4ddc-a6c4-24e3a649d2e6   \n",
       "7   18cc80c2-b2dd-4565-b54c-7b55924b5b43   \n",
       "8   435358c0-8f5b-4e51-8f44-726273e02756   \n",
       "9   088905d1-991f-479d-a9d1-fab9abb0b47d   \n",
       "10  2b2de7e7-be33-4505-ab93-50234b79f528   \n",
       "11  6b4f217d-2c74-4b84-ae57-7e6f79a6d6ad   \n",
       "12  e206e647-919b-4d8e-b840-e79dbd46eb27   \n",
       "13  1ec8ea9b-f26c-4ff9-bd23-3f69ba63151a   \n",
       "14  12c7dfaa-3b44-445e-9dcd-9986cd64588e   \n",
       "15  96666028-8268-41c0-92e4-cb08346a232d   \n",
       "16  0a3f8afa-864c-4d53-83fb-714ef27dc481   \n",
       "17  22c43eee-8a3a-4bdb-a18d-6e474b6624de   \n",
       "18  24254cdb-5033-424f-aa96-91ae4ec0a49f   \n",
       "19  e468b13a-e145-4e03-a68e-1bdbecec3aae   \n",
       "20  7e8e3dc7-49ac-4a5b-9039-a0a47791ad25   \n",
       "21  67a553eb-b6d1-424c-ba9b-278d580f533f   \n",
       "22  869b636d-df53-4c36-b905-16cdbc60d3d9   \n",
       "23  9a8b4758-a712-4114-a28f-775e5f7f519c   \n",
       "24  93d2b1f6-debe-4743-b7b7-dbddbb0f7151   \n",
       "25  a07715b4-8762-491c-817c-170633ec220e   \n",
       "26  cb3bbf9b-6a34-46c1-bce8-9c7b5e2cbb50   \n",
       "27  8be3ddcb-86a6-4105-9b83-808e68ef362f   \n",
       "28  1864d2ec-c58d-498d-98e8-4cf2cbff06d0   \n",
       "29  89793562-e28e-42ef-ad98-82a01f8b2790   \n",
       "30  6dbe4ce9-8115-48e2-97aa-bf2c3bf0d479   \n",
       "31  3a03d432-d849-417d-92e7-9a604187a096   \n",
       "32  91e31c1f-e7f6-401c-bf10-9c2e604f89a4   \n",
       "33  6bebd954-7bea-4204-a650-2c7f36907998   \n",
       "34  0962b43d-14b3-4bc5-b7b4-34500629ff48   \n",
       "35  729d3181-7f59-41d5-bb82-7a33396b3876   \n",
       "36  c33ebc5c-0935-4c6b-a489-f1404f88be22   \n",
       "37  60a7c8d1-3789-4abd-8305-f93b36bcdbe3   \n",
       "38  7a1c1a96-1ec2-4582-b69b-f5f66e453dea   \n",
       "\n",
       "                                               smiles  \n",
       "0                                           CCCCC(C)C  \n",
       "1               CCCCCCC(C(C(C)C)CCCCCC)CC(C(C)C)CCCCC  \n",
       "2                      CCCCCCCCC(CCCCCC)CC(C)CCCCCCCC  \n",
       "3                           CCCCCCC(CCCCCCCC)CCCCCCCC  \n",
       "4                   CC1=CC2=NNN=C2C=C1.C(CO)N(CCO)CCO  \n",
       "5                                 CCCCCC(C(OC)=O)CCCC  \n",
       "6                                          CC1CCCCC1C  \n",
       "7                     O=S(C1=CC=C([C18H21])C=C1)(O)=O  \n",
       "8                      CCCCCCCCC(C(CC)CCCCC)CC(C)CCCC  \n",
       "9                         CCCCCCC(C(C)CCC)CC(C)CCCCCC  \n",
       "10                             CCCCCCCCC(CCCCC)CCCCCC  \n",
       "11                       CCCCCCCC(C)C(CCCCC)C(C)CCCCC  \n",
       "12  OC1=CC=C(CCCC)C=C1C(O[Ca]OC(C2=CC(CCCC)=CC=C2O...  \n",
       "13         OC1=C(C(C)(C)C)C=C(CCC(OCC)=O)C=C1C(C)(C)C  \n",
       "14  O=C1CC(B(C(C)(C)C)C(C)(C)C)C(N1CCNCCN2C(CC(B(C...  \n",
       "15              CCCCCCCCN(C1=CC=CC=C1)C2=CC=CC=C2CCCC  \n",
       "16                  O=C(C1=CC=CC=C1)N2N=NC3=C2C=CC=C3  \n",
       "17                                              CCCCC  \n",
       "18                                           CCC(C)CC  \n",
       "19                            CCCCC(C(OCC)=O)C(OCC)=O  \n",
       "20                           CC(C(OCCCC)=O)C(OCCCC)=O  \n",
       "21                                  CCC(CC(C)OCCCC)Cl  \n",
       "22                                    O=C(CC)OCCCCCOC  \n",
       "23                                   COC(C(C)(CC)C)=O  \n",
       "24                                             CCCCCC  \n",
       "25                  CCC(C(OC[CH2](C)CCCCCCC[CH2])=O)C  \n",
       "26                                     CCC(C(OC)=O)CC  \n",
       "27                                  O=C(OC)C(C)(CCC)C  \n",
       "28                    CCCC/C=C\\C(CCCCCCC)=C\\C(CCCCC)C  \n",
       "29                                   O=C(OC)C(C)(C)CC  \n",
       "30                                    CC(C)(C)C(OC)=O  \n",
       "31                                         CCCC(C)CCC  \n",
       "32                                  CC(C)(C)CC(C)(C)C  \n",
       "33                                          CCC(C)CCC  \n",
       "34                                        CCC(C)(C)CC  \n",
       "35                                            CCCCCCC  \n",
       "36                                         CCC(C)CCCC  \n",
       "37                                  CC(C)(C)C(C)C(C)C  \n",
       "38                                         CC(C)CCCCC  "
      ]
     },
     "execution_count": 2,
     "metadata": {},
     "output_type": "execute_result"
    }
   ],
   "source": [
    "data = pd.read_csv('data/NTO_smiles_encoded.csv')\n",
    "data"
   ]
  },
  {
   "cell_type": "code",
   "execution_count": 4,
   "id": "92eafbaf",
   "metadata": {},
   "outputs": [],
   "source": [
    "uni_data_comps = data['component_name'].unique()"
   ]
  },
  {
   "cell_type": "code",
   "execution_count": 5,
   "id": "9759c50d",
   "metadata": {},
   "outputs": [
    {
     "data": {
      "text/plain": [
       "39"
      ]
     },
     "execution_count": 5,
     "metadata": {},
     "output_type": "execute_result"
    }
   ],
   "source": [
    "len(uni_data_comps)"
   ]
  },
  {
   "cell_type": "code",
   "execution_count": 6,
   "id": "7ca6dbed",
   "metadata": {},
   "outputs": [
    {
     "data": {
      "application/vnd.microsoft.datawrangler.viewer.v0+json": {
       "columns": [
        {
         "name": "index",
         "rawType": "int64",
         "type": "integer"
        },
        {
         "name": "blend_id",
         "rawType": "object",
         "type": "string"
        },
        {
         "name": "component_name",
         "rawType": "object",
         "type": "string"
        },
        {
         "name": "mass_fraction",
         "rawType": "float64",
         "type": "float"
        },
        {
         "name": "component_type_title",
         "rawType": "object",
         "type": "string"
        },
        {
         "name": "component_param_title",
         "rawType": "object",
         "type": "string"
        },
        {
         "name": "component_param_value",
         "rawType": "float64",
         "type": "float"
        },
        {
         "name": "oil_property_value",
         "rawType": "float64",
         "type": "float"
        }
       ],
       "conversionMethod": "pd.DataFrame",
       "ref": "80faa73b-4358-46d7-a2d5-3894614d882d",
       "rows": [
        [
         "0",
         "c090b033-87c0-4342-b737-fa7289b6f976",
         "3a03d432-d849-417d-92e7-9a604187a096",
         "67.0",
         "5360a311-e081-4972-9215-26b5d9072f65",
         "8682d4cc-c352-422b-a197-c05427cd518e",
         null,
         "4.52"
        ],
        [
         "1",
         "c090b033-87c0-4342-b737-fa7289b6f976",
         "c33ebc5c-0935-4c6b-a489-f1404f88be22",
         "33.0",
         "5360a311-e081-4972-9215-26b5d9072f65",
         "Температура вспышки в закрытом тигле",
         null,
         "4.52"
        ],
        [
         "2",
         "c090b033-87c0-4342-b737-fa7289b6f976",
         "3a03d432-d849-417d-92e7-9a604187a096",
         "67.0",
         "5360a311-e081-4972-9215-26b5d9072f65",
         "9a0b87b0-ded9-49c8-bad4-476ce3ee8893",
         null,
         "4.52"
        ],
        [
         "3",
         "c090b033-87c0-4342-b737-fa7289b6f976",
         "3a03d432-d849-417d-92e7-9a604187a096",
         "67.0",
         "5360a311-e081-4972-9215-26b5d9072f65",
         "a2fc0f17-7e63-4ad2-8022-da4162abee53",
         "1612.0",
         "4.52"
        ],
        [
         "4",
         "c090b033-87c0-4342-b737-fa7289b6f976",
         "c33ebc5c-0935-4c6b-a489-f1404f88be22",
         "33.0",
         "5360a311-e081-4972-9215-26b5d9072f65",
         "a2fc0f17-7e63-4ad2-8022-da4162abee53",
         "2360.0",
         "4.52"
        ],
        [
         "5",
         "c090b033-87c0-4342-b737-fa7289b6f976",
         "c33ebc5c-0935-4c6b-a489-f1404f88be22",
         "33.0",
         "5360a311-e081-4972-9215-26b5d9072f65",
         "323e7d38-cbfb-4bf3-8f75-fbe755365b37",
         null,
         "4.52"
        ],
        [
         "6",
         "c090b033-87c0-4342-b737-fa7289b6f976",
         "3a03d432-d849-417d-92e7-9a604187a096",
         "67.0",
         "5360a311-e081-4972-9215-26b5d9072f65",
         "323e7d38-cbfb-4bf3-8f75-fbe755365b37",
         null,
         "4.52"
        ],
        [
         "7",
         "c090b033-87c0-4342-b737-fa7289b6f976",
         "3a03d432-d849-417d-92e7-9a604187a096",
         "67.0",
         "5360a311-e081-4972-9215-26b5d9072f65",
         "d13e0412-9f3d-4e45-86d8-f756d74ec2d0",
         "40.0",
         "4.52"
        ],
        [
         "8",
         "c090b033-87c0-4342-b737-fa7289b6f976",
         "c33ebc5c-0935-4c6b-a489-f1404f88be22",
         "33.0",
         "5360a311-e081-4972-9215-26b5d9072f65",
         "d13e0412-9f3d-4e45-86d8-f756d74ec2d0",
         "40.0",
         "4.52"
        ],
        [
         "9",
         "c090b033-87c0-4342-b737-fa7289b6f976",
         "c33ebc5c-0935-4c6b-a489-f1404f88be22",
         "33.0",
         "5360a311-e081-4972-9215-26b5d9072f65",
         "3ec74fd4-9e8c-4a13-b845-58f9b6bd256d",
         "40.0",
         "4.52"
        ],
        [
         "10",
         "c090b033-87c0-4342-b737-fa7289b6f976",
         "c33ebc5c-0935-4c6b-a489-f1404f88be22",
         "33.0",
         "5360a311-e081-4972-9215-26b5d9072f65",
         "7458ebbc-5e6d-44b6-8660-4bc729658ff1",
         null,
         "4.52"
        ],
        [
         "11",
         "c090b033-87c0-4342-b737-fa7289b6f976",
         "3a03d432-d849-417d-92e7-9a604187a096",
         "67.0",
         "5360a311-e081-4972-9215-26b5d9072f65",
         "7458ebbc-5e6d-44b6-8660-4bc729658ff1",
         null,
         "4.52"
        ],
        [
         "12",
         "c090b033-87c0-4342-b737-fa7289b6f976",
         "3a03d432-d849-417d-92e7-9a604187a096",
         "67.0",
         "5360a311-e081-4972-9215-26b5d9072f65",
         "99db6ebc-31d7-4ba7-942a-190bb78fc0b3",
         null,
         "4.52"
        ],
        [
         "13",
         "c090b033-87c0-4342-b737-fa7289b6f976",
         "c33ebc5c-0935-4c6b-a489-f1404f88be22",
         "33.0",
         "5360a311-e081-4972-9215-26b5d9072f65",
         "99db6ebc-31d7-4ba7-942a-190bb78fc0b3",
         null,
         "4.52"
        ],
        [
         "14",
         "c090b033-87c0-4342-b737-fa7289b6f976",
         "c33ebc5c-0935-4c6b-a489-f1404f88be22",
         "33.0",
         "5360a311-e081-4972-9215-26b5d9072f65",
         "22d56254-1ba7-44ed-aaba-dc5c79686e50",
         "0.0001",
         "4.52"
        ],
        [
         "15",
         "c090b033-87c0-4342-b737-fa7289b6f976",
         "3a03d432-d849-417d-92e7-9a604187a096",
         "67.0",
         "5360a311-e081-4972-9215-26b5d9072f65",
         "22d56254-1ba7-44ed-aaba-dc5c79686e50",
         "9e-05",
         "4.52"
        ],
        [
         "16",
         "c090b033-87c0-4342-b737-fa7289b6f976",
         "3a03d432-d849-417d-92e7-9a604187a096",
         "67.0",
         "5360a311-e081-4972-9215-26b5d9072f65",
         "1230f37d-b440-4bb8-b137-8ea7b561db4f",
         "4.48",
         "4.52"
        ],
        [
         "17",
         "c090b033-87c0-4342-b737-fa7289b6f976",
         "c33ebc5c-0935-4c6b-a489-f1404f88be22",
         "33.0",
         "5360a311-e081-4972-9215-26b5d9072f65",
         "1230f37d-b440-4bb8-b137-8ea7b561db4f",
         "4.52",
         "4.52"
        ],
        [
         "18",
         "c090b033-87c0-4342-b737-fa7289b6f976",
         "3a03d432-d849-417d-92e7-9a604187a096",
         "67.0",
         "5360a311-e081-4972-9215-26b5d9072f65",
         "3ec74fd4-9e8c-4a13-b845-58f9b6bd256d",
         "40.0",
         "4.52"
        ],
        [
         "19",
         "c090b033-87c0-4342-b737-fa7289b6f976",
         "3a03d432-d849-417d-92e7-9a604187a096",
         "67.0",
         "5360a311-e081-4972-9215-26b5d9072f65",
         "461eb78a-a993-4984-9ede-67f00ef1c8e9",
         null,
         "4.52"
        ],
        [
         "20",
         "c090b033-87c0-4342-b737-fa7289b6f976",
         "c33ebc5c-0935-4c6b-a489-f1404f88be22",
         "33.0",
         "5360a311-e081-4972-9215-26b5d9072f65",
         "d71c61dd-417a-4e43-bafe-e9b9014ac6ce",
         null,
         "4.52"
        ],
        [
         "21",
         "c090b033-87c0-4342-b737-fa7289b6f976",
         "3a03d432-d849-417d-92e7-9a604187a096",
         "67.0",
         "5360a311-e081-4972-9215-26b5d9072f65",
         "d71c61dd-417a-4e43-bafe-e9b9014ac6ce",
         null,
         "4.52"
        ],
        [
         "22",
         "c090b033-87c0-4342-b737-fa7289b6f976",
         "3a03d432-d849-417d-92e7-9a604187a096",
         "67.0",
         "5360a311-e081-4972-9215-26b5d9072f65",
         "7048c664-4839-495c-9c0f-d5ca629ed752",
         null,
         "4.52"
        ],
        [
         "23",
         "c090b033-87c0-4342-b737-fa7289b6f976",
         "3a03d432-d849-417d-92e7-9a604187a096",
         "67.0",
         "5360a311-e081-4972-9215-26b5d9072f65",
         "30241ac9-72df-4dc2-8d67-5ecbf5faaf58",
         "24.0",
         "4.52"
        ],
        [
         "24",
         "c090b033-87c0-4342-b737-fa7289b6f976",
         "3a03d432-d849-417d-92e7-9a604187a096",
         "67.0",
         "5360a311-e081-4972-9215-26b5d9072f65",
         "a2ee964b-f99b-4833-8bd0-81e25c398dbd",
         null,
         "4.52"
        ],
        [
         "25",
         "c090b033-87c0-4342-b737-fa7289b6f976",
         "3a03d432-d849-417d-92e7-9a604187a096",
         "67.0",
         "5360a311-e081-4972-9215-26b5d9072f65",
         "317d031d-bd3d-4b5f-806a-646fbad7f1ee",
         "372.0",
         "4.52"
        ],
        [
         "26",
         "c090b033-87c0-4342-b737-fa7289b6f976",
         "3a03d432-d849-417d-92e7-9a604187a096",
         "67.0",
         "5360a311-e081-4972-9215-26b5d9072f65",
         "Температура вспышки в закрытом тигле",
         null,
         "4.52"
        ],
        [
         "27",
         "c090b033-87c0-4342-b737-fa7289b6f976",
         "3a03d432-d849-417d-92e7-9a604187a096",
         "67.0",
         "5360a311-e081-4972-9215-26b5d9072f65",
         "91afc6f5-f963-483f-b70f-c83ac8c738e1",
         null,
         "4.52"
        ],
        [
         "28",
         "c090b033-87c0-4342-b737-fa7289b6f976",
         "c33ebc5c-0935-4c6b-a489-f1404f88be22",
         "33.0",
         "5360a311-e081-4972-9215-26b5d9072f65",
         "91afc6f5-f963-483f-b70f-c83ac8c738e1",
         null,
         "4.52"
        ],
        [
         "29",
         "c090b033-87c0-4342-b737-fa7289b6f976",
         "c33ebc5c-0935-4c6b-a489-f1404f88be22",
         "33.0",
         "5360a311-e081-4972-9215-26b5d9072f65",
         "3be93dc8-1abd-4559-b147-a41046322b45",
         null,
         "4.52"
        ],
        [
         "30",
         "c090b033-87c0-4342-b737-fa7289b6f976",
         "3a03d432-d849-417d-92e7-9a604187a096",
         "67.0",
         "5360a311-e081-4972-9215-26b5d9072f65",
         "c2fea5f1-695f-4822-a94c-bd73d609e439",
         "581.0",
         "4.52"
        ],
        [
         "31",
         "c090b033-87c0-4342-b737-fa7289b6f976",
         "c33ebc5c-0935-4c6b-a489-f1404f88be22",
         "33.0",
         "5360a311-e081-4972-9215-26b5d9072f65",
         "c2fea5f1-695f-4822-a94c-bd73d609e439",
         "778.5",
         "4.52"
        ],
        [
         "32",
         "c090b033-87c0-4342-b737-fa7289b6f976",
         "c33ebc5c-0935-4c6b-a489-f1404f88be22",
         "33.0",
         "5360a311-e081-4972-9215-26b5d9072f65",
         "2ced8a31-bbd2-488a-9b02-21f6ceb2cf60",
         "5.0",
         "4.52"
        ],
        [
         "33",
         "c090b033-87c0-4342-b737-fa7289b6f976",
         "3a03d432-d849-417d-92e7-9a604187a096",
         "67.0",
         "5360a311-e081-4972-9215-26b5d9072f65",
         "2ced8a31-bbd2-488a-9b02-21f6ceb2cf60",
         "5.0",
         "4.52"
        ],
        [
         "34",
         "c090b033-87c0-4342-b737-fa7289b6f976",
         "c33ebc5c-0935-4c6b-a489-f1404f88be22",
         "33.0",
         "5360a311-e081-4972-9215-26b5d9072f65",
         "f1acc67e-c976-4aea-83e4-2733b6a499a1",
         null,
         "4.52"
        ],
        [
         "35",
         "c090b033-87c0-4342-b737-fa7289b6f976",
         "3a03d432-d849-417d-92e7-9a604187a096",
         "67.0",
         "5360a311-e081-4972-9215-26b5d9072f65",
         "f1acc67e-c976-4aea-83e4-2733b6a499a1",
         null,
         "4.52"
        ],
        [
         "36",
         "c090b033-87c0-4342-b737-fa7289b6f976",
         "3a03d432-d849-417d-92e7-9a604187a096",
         "67.0",
         "5360a311-e081-4972-9215-26b5d9072f65",
         "2563ddf6-1609-498b-bd75-83ba1110fd38",
         "20.0",
         "4.52"
        ],
        [
         "37",
         "c090b033-87c0-4342-b737-fa7289b6f976",
         "c33ebc5c-0935-4c6b-a489-f1404f88be22",
         "33.0",
         "5360a311-e081-4972-9215-26b5d9072f65",
         "2563ddf6-1609-498b-bd75-83ba1110fd38",
         "70.0",
         "4.52"
        ],
        [
         "38",
         "c090b033-87c0-4342-b737-fa7289b6f976",
         "3a03d432-d849-417d-92e7-9a604187a096",
         "67.0",
         "5360a311-e081-4972-9215-26b5d9072f65",
         "cac10969-4d22-4a5c-a35e-ef55443e0952",
         null,
         "4.52"
        ],
        [
         "39",
         "c090b033-87c0-4342-b737-fa7289b6f976",
         "c33ebc5c-0935-4c6b-a489-f1404f88be22",
         "33.0",
         "5360a311-e081-4972-9215-26b5d9072f65",
         "cac10969-4d22-4a5c-a35e-ef55443e0952",
         null,
         "4.52"
        ],
        [
         "40",
         "c090b033-87c0-4342-b737-fa7289b6f976",
         "c33ebc5c-0935-4c6b-a489-f1404f88be22",
         "33.0",
         "5360a311-e081-4972-9215-26b5d9072f65",
         "2df252f2-969e-40e5-8a3b-77dacfcea2ed",
         "112.5",
         "4.52"
        ],
        [
         "41",
         "c090b033-87c0-4342-b737-fa7289b6f976",
         "3a03d432-d849-417d-92e7-9a604187a096",
         "67.0",
         "5360a311-e081-4972-9215-26b5d9072f65",
         "2df252f2-969e-40e5-8a3b-77dacfcea2ed",
         "127.0",
         "4.52"
        ],
        [
         "42",
         "c090b033-87c0-4342-b737-fa7289b6f976",
         "c33ebc5c-0935-4c6b-a489-f1404f88be22",
         "33.0",
         "5360a311-e081-4972-9215-26b5d9072f65",
         "317d031d-bd3d-4b5f-806a-646fbad7f1ee",
         "485.0",
         "4.52"
        ],
        [
         "43",
         "c090b033-87c0-4342-b737-fa7289b6f976",
         "3a03d432-d849-417d-92e7-9a604187a096",
         "67.0",
         "5360a311-e081-4972-9215-26b5d9072f65",
         "38e6c611-780b-4768-967a-522329ddff2a",
         null,
         "4.52"
        ],
        [
         "44",
         "c090b033-87c0-4342-b737-fa7289b6f976",
         "3a03d432-d849-417d-92e7-9a604187a096",
         "67.0",
         "5360a311-e081-4972-9215-26b5d9072f65",
         "f6a97d54-9e01-4d65-95e6-35f89e576be6",
         null,
         "4.52"
        ],
        [
         "45",
         "c090b033-87c0-4342-b737-fa7289b6f976",
         "3a03d432-d849-417d-92e7-9a604187a096",
         "67.0",
         "5360a311-e081-4972-9215-26b5d9072f65",
         "850b082b-d9df-4fa1-be5d-778b7512f099",
         null,
         "4.52"
        ],
        [
         "46",
         "c090b033-87c0-4342-b737-fa7289b6f976",
         "c33ebc5c-0935-4c6b-a489-f1404f88be22",
         "33.0",
         "5360a311-e081-4972-9215-26b5d9072f65",
         "850b082b-d9df-4fa1-be5d-778b7512f099",
         null,
         "4.52"
        ],
        [
         "47",
         "c090b033-87c0-4342-b737-fa7289b6f976",
         "c33ebc5c-0935-4c6b-a489-f1404f88be22",
         "33.0",
         "5360a311-e081-4972-9215-26b5d9072f65",
         "c6fd5468-c7e1-4252-b629-0c748ec8a4d4",
         "0.0",
         "4.52"
        ],
        [
         "48",
         "c090b033-87c0-4342-b737-fa7289b6f976",
         "3a03d432-d849-417d-92e7-9a604187a096",
         "67.0",
         "5360a311-e081-4972-9215-26b5d9072f65",
         "c6fd5468-c7e1-4252-b629-0c748ec8a4d4",
         "0.0",
         "4.52"
        ],
        [
         "49",
         "c090b033-87c0-4342-b737-fa7289b6f976",
         "c33ebc5c-0935-4c6b-a489-f1404f88be22",
         "33.0",
         "5360a311-e081-4972-9215-26b5d9072f65",
         "38e6c611-780b-4768-967a-522329ddff2a",
         null,
         "4.52"
        ]
       ],
       "shape": {
        "columns": 7,
        "rows": 101860
       }
      },
      "text/html": [
       "<div>\n",
       "<style scoped>\n",
       "    .dataframe tbody tr th:only-of-type {\n",
       "        vertical-align: middle;\n",
       "    }\n",
       "\n",
       "    .dataframe tbody tr th {\n",
       "        vertical-align: top;\n",
       "    }\n",
       "\n",
       "    .dataframe thead th {\n",
       "        text-align: right;\n",
       "    }\n",
       "</style>\n",
       "<table border=\"1\" class=\"dataframe\">\n",
       "  <thead>\n",
       "    <tr style=\"text-align: right;\">\n",
       "      <th></th>\n",
       "      <th>blend_id</th>\n",
       "      <th>component_name</th>\n",
       "      <th>mass_fraction</th>\n",
       "      <th>component_type_title</th>\n",
       "      <th>component_param_title</th>\n",
       "      <th>component_param_value</th>\n",
       "      <th>oil_property_value</th>\n",
       "    </tr>\n",
       "  </thead>\n",
       "  <tbody>\n",
       "    <tr>\n",
       "      <th>0</th>\n",
       "      <td>c090b033-87c0-4342-b737-fa7289b6f976</td>\n",
       "      <td>3a03d432-d849-417d-92e7-9a604187a096</td>\n",
       "      <td>67.00</td>\n",
       "      <td>5360a311-e081-4972-9215-26b5d9072f65</td>\n",
       "      <td>8682d4cc-c352-422b-a197-c05427cd518e</td>\n",
       "      <td>NaN</td>\n",
       "      <td>4.52</td>\n",
       "    </tr>\n",
       "    <tr>\n",
       "      <th>1</th>\n",
       "      <td>c090b033-87c0-4342-b737-fa7289b6f976</td>\n",
       "      <td>c33ebc5c-0935-4c6b-a489-f1404f88be22</td>\n",
       "      <td>33.00</td>\n",
       "      <td>5360a311-e081-4972-9215-26b5d9072f65</td>\n",
       "      <td>Температура вспышки в закрытом тигле</td>\n",
       "      <td>NaN</td>\n",
       "      <td>4.52</td>\n",
       "    </tr>\n",
       "    <tr>\n",
       "      <th>2</th>\n",
       "      <td>c090b033-87c0-4342-b737-fa7289b6f976</td>\n",
       "      <td>3a03d432-d849-417d-92e7-9a604187a096</td>\n",
       "      <td>67.00</td>\n",
       "      <td>5360a311-e081-4972-9215-26b5d9072f65</td>\n",
       "      <td>9a0b87b0-ded9-49c8-bad4-476ce3ee8893</td>\n",
       "      <td>NaN</td>\n",
       "      <td>4.52</td>\n",
       "    </tr>\n",
       "    <tr>\n",
       "      <th>3</th>\n",
       "      <td>c090b033-87c0-4342-b737-fa7289b6f976</td>\n",
       "      <td>3a03d432-d849-417d-92e7-9a604187a096</td>\n",
       "      <td>67.00</td>\n",
       "      <td>5360a311-e081-4972-9215-26b5d9072f65</td>\n",
       "      <td>a2fc0f17-7e63-4ad2-8022-da4162abee53</td>\n",
       "      <td>1612.0</td>\n",
       "      <td>4.52</td>\n",
       "    </tr>\n",
       "    <tr>\n",
       "      <th>4</th>\n",
       "      <td>c090b033-87c0-4342-b737-fa7289b6f976</td>\n",
       "      <td>c33ebc5c-0935-4c6b-a489-f1404f88be22</td>\n",
       "      <td>33.00</td>\n",
       "      <td>5360a311-e081-4972-9215-26b5d9072f65</td>\n",
       "      <td>a2fc0f17-7e63-4ad2-8022-da4162abee53</td>\n",
       "      <td>2360.0</td>\n",
       "      <td>4.52</td>\n",
       "    </tr>\n",
       "    <tr>\n",
       "      <th>...</th>\n",
       "      <td>...</td>\n",
       "      <td>...</td>\n",
       "      <td>...</td>\n",
       "      <td>...</td>\n",
       "      <td>...</td>\n",
       "      <td>...</td>\n",
       "      <td>...</td>\n",
       "    </tr>\n",
       "    <tr>\n",
       "      <th>101855</th>\n",
       "      <td>3826f353-92cb-4759-9625-8de04fd31f92</td>\n",
       "      <td>0962b43d-14b3-4bc5-b7b4-34500629ff48</td>\n",
       "      <td>49.69</td>\n",
       "      <td>2b8465f2-f5e2-4d0a-b468-52ec4467def1</td>\n",
       "      <td>b8039e27-bfc7-43b6-9954-3fe2804524d7</td>\n",
       "      <td>NaN</td>\n",
       "      <td>10.09</td>\n",
       "    </tr>\n",
       "    <tr>\n",
       "      <th>101856</th>\n",
       "      <td>3826f353-92cb-4759-9625-8de04fd31f92</td>\n",
       "      <td>7bc3fcf4-7f3f-4ff6-9bdd-a62fc39828d3</td>\n",
       "      <td>19.80</td>\n",
       "      <td>3c132c45-5aea-4626-8a81-becbb02b10b0</td>\n",
       "      <td>b8039e27-bfc7-43b6-9954-3fe2804524d7</td>\n",
       "      <td>NaN</td>\n",
       "      <td>10.09</td>\n",
       "    </tr>\n",
       "    <tr>\n",
       "      <th>101857</th>\n",
       "      <td>3826f353-92cb-4759-9625-8de04fd31f92</td>\n",
       "      <td>6b4f217d-2c74-4b84-ae57-7e6f79a6d6ad</td>\n",
       "      <td>29.70</td>\n",
       "      <td>3c132c45-5aea-4626-8a81-becbb02b10b0</td>\n",
       "      <td>b8039e27-bfc7-43b6-9954-3fe2804524d7</td>\n",
       "      <td>3600.0</td>\n",
       "      <td>10.09</td>\n",
       "    </tr>\n",
       "    <tr>\n",
       "      <th>101858</th>\n",
       "      <td>3826f353-92cb-4759-9625-8de04fd31f92</td>\n",
       "      <td>6b4f217d-2c74-4b84-ae57-7e6f79a6d6ad</td>\n",
       "      <td>29.70</td>\n",
       "      <td>3c132c45-5aea-4626-8a81-becbb02b10b0</td>\n",
       "      <td>c2fea5f1-695f-4822-a94c-bd73d609e439</td>\n",
       "      <td>NaN</td>\n",
       "      <td>10.09</td>\n",
       "    </tr>\n",
       "    <tr>\n",
       "      <th>101859</th>\n",
       "      <td>3826f353-92cb-4759-9625-8de04fd31f92</td>\n",
       "      <td>6b4f217d-2c74-4b84-ae57-7e6f79a6d6ad</td>\n",
       "      <td>29.70</td>\n",
       "      <td>3c132c45-5aea-4626-8a81-becbb02b10b0</td>\n",
       "      <td>323e7d38-cbfb-4bf3-8f75-fbe755365b37</td>\n",
       "      <td>NaN</td>\n",
       "      <td>10.09</td>\n",
       "    </tr>\n",
       "  </tbody>\n",
       "</table>\n",
       "<p>101860 rows × 7 columns</p>\n",
       "</div>"
      ],
      "text/plain": [
       "                                    blend_id  \\\n",
       "0       c090b033-87c0-4342-b737-fa7289b6f976   \n",
       "1       c090b033-87c0-4342-b737-fa7289b6f976   \n",
       "2       c090b033-87c0-4342-b737-fa7289b6f976   \n",
       "3       c090b033-87c0-4342-b737-fa7289b6f976   \n",
       "4       c090b033-87c0-4342-b737-fa7289b6f976   \n",
       "...                                      ...   \n",
       "101855  3826f353-92cb-4759-9625-8de04fd31f92   \n",
       "101856  3826f353-92cb-4759-9625-8de04fd31f92   \n",
       "101857  3826f353-92cb-4759-9625-8de04fd31f92   \n",
       "101858  3826f353-92cb-4759-9625-8de04fd31f92   \n",
       "101859  3826f353-92cb-4759-9625-8de04fd31f92   \n",
       "\n",
       "                              component_name  mass_fraction  \\\n",
       "0       3a03d432-d849-417d-92e7-9a604187a096          67.00   \n",
       "1       c33ebc5c-0935-4c6b-a489-f1404f88be22          33.00   \n",
       "2       3a03d432-d849-417d-92e7-9a604187a096          67.00   \n",
       "3       3a03d432-d849-417d-92e7-9a604187a096          67.00   \n",
       "4       c33ebc5c-0935-4c6b-a489-f1404f88be22          33.00   \n",
       "...                                      ...            ...   \n",
       "101855  0962b43d-14b3-4bc5-b7b4-34500629ff48          49.69   \n",
       "101856  7bc3fcf4-7f3f-4ff6-9bdd-a62fc39828d3          19.80   \n",
       "101857  6b4f217d-2c74-4b84-ae57-7e6f79a6d6ad          29.70   \n",
       "101858  6b4f217d-2c74-4b84-ae57-7e6f79a6d6ad          29.70   \n",
       "101859  6b4f217d-2c74-4b84-ae57-7e6f79a6d6ad          29.70   \n",
       "\n",
       "                        component_type_title  \\\n",
       "0       5360a311-e081-4972-9215-26b5d9072f65   \n",
       "1       5360a311-e081-4972-9215-26b5d9072f65   \n",
       "2       5360a311-e081-4972-9215-26b5d9072f65   \n",
       "3       5360a311-e081-4972-9215-26b5d9072f65   \n",
       "4       5360a311-e081-4972-9215-26b5d9072f65   \n",
       "...                                      ...   \n",
       "101855  2b8465f2-f5e2-4d0a-b468-52ec4467def1   \n",
       "101856  3c132c45-5aea-4626-8a81-becbb02b10b0   \n",
       "101857  3c132c45-5aea-4626-8a81-becbb02b10b0   \n",
       "101858  3c132c45-5aea-4626-8a81-becbb02b10b0   \n",
       "101859  3c132c45-5aea-4626-8a81-becbb02b10b0   \n",
       "\n",
       "                       component_param_title  component_param_value  \\\n",
       "0       8682d4cc-c352-422b-a197-c05427cd518e                    NaN   \n",
       "1       Температура вспышки в закрытом тигле                    NaN   \n",
       "2       9a0b87b0-ded9-49c8-bad4-476ce3ee8893                    NaN   \n",
       "3       a2fc0f17-7e63-4ad2-8022-da4162abee53                 1612.0   \n",
       "4       a2fc0f17-7e63-4ad2-8022-da4162abee53                 2360.0   \n",
       "...                                      ...                    ...   \n",
       "101855  b8039e27-bfc7-43b6-9954-3fe2804524d7                    NaN   \n",
       "101856  b8039e27-bfc7-43b6-9954-3fe2804524d7                    NaN   \n",
       "101857  b8039e27-bfc7-43b6-9954-3fe2804524d7                 3600.0   \n",
       "101858  c2fea5f1-695f-4822-a94c-bd73d609e439                    NaN   \n",
       "101859  323e7d38-cbfb-4bf3-8f75-fbe755365b37                    NaN   \n",
       "\n",
       "        oil_property_value  \n",
       "0                     4.52  \n",
       "1                     4.52  \n",
       "2                     4.52  \n",
       "3                     4.52  \n",
       "4                     4.52  \n",
       "...                    ...  \n",
       "101855               10.09  \n",
       "101856               10.09  \n",
       "101857               10.09  \n",
       "101858               10.09  \n",
       "101859               10.09  \n",
       "\n",
       "[101860 rows x 7 columns]"
      ]
     },
     "execution_count": 6,
     "metadata": {},
     "output_type": "execute_result"
    }
   ],
   "source": [
    "exp_data = pd.read_csv('data/NTO_exp_encoded.csv')\n",
    "exp_data"
   ]
  },
  {
   "cell_type": "code",
   "execution_count": 9,
   "id": "845533ea",
   "metadata": {},
   "outputs": [
    {
     "data": {
      "text/plain": [
       "array(['3a03d432-d849-417d-92e7-9a604187a096',\n",
       "       'c33ebc5c-0935-4c6b-a489-f1404f88be22',\n",
       "       '0962b43d-14b3-4bc5-b7b4-34500629ff48',\n",
       "       '18cc80c2-b2dd-4565-b54c-7b55924b5b43',\n",
       "       '9a8b4758-a712-4114-a28f-775e5f7f519c',\n",
       "       '22c43eee-8a3a-4bdb-a18d-6e474b6624de',\n",
       "       '93d2b1f6-debe-4743-b7b7-dbddbb0f7151',\n",
       "       '8be3ddcb-86a6-4105-9b83-808e68ef362f',\n",
       "       '24254cdb-5033-424f-aa96-91ae4ec0a49f',\n",
       "       'a9c1305e-3832-4ddc-a6c4-24e3a649d2e6',\n",
       "       'cb3bbf9b-6a34-46c1-bce8-9c7b5e2cbb50',\n",
       "       '729d3181-7f59-41d5-bb82-7a33396b3876',\n",
       "       '91e31c1f-e7f6-401c-bf10-9c2e604f89a4',\n",
       "       '240187a5-a150-4a92-9e53-8d964dedf3fb',\n",
       "       'cf40823a-4b86-415c-b841-a9ead84d9fcf',\n",
       "       '6dbe4ce9-8115-48e2-97aa-bf2c3bf0d479',\n",
       "       '7a1c1a96-1ec2-4582-b69b-f5f66e453dea',\n",
       "       'e468b13a-e145-4e03-a68e-1bdbecec3aae',\n",
       "       '2b2de7e7-be33-4505-ab93-50234b79f528',\n",
       "       '9c948f48-0165-4291-8db6-bfe73a534785',\n",
       "       '7e8e3dc7-49ac-4a5b-9039-a0a47791ad25',\n",
       "       '869b636d-df53-4c36-b905-16cdbc60d3d9',\n",
       "       'a07715b4-8762-491c-817c-170633ec220e',\n",
       "       '1ec8ea9b-f26c-4ff9-bd23-3f69ba63151a',\n",
       "       '67a553eb-b6d1-424c-ba9b-278d580f533f',\n",
       "       '1864d2ec-c58d-498d-98e8-4cf2cbff06d0',\n",
       "       '89793562-e28e-42ef-ad98-82a01f8b2790',\n",
       "       '6c3c9b13-07ee-434a-9d7e-e2e37b83a023',\n",
       "       '435358c0-8f5b-4e51-8f44-726273e02756',\n",
       "       '7bc3fcf4-7f3f-4ff6-9bdd-a62fc39828d3',\n",
       "       '088905d1-991f-479d-a9d1-fab9abb0b47d',\n",
       "       '12c7dfaa-3b44-445e-9dcd-9986cd64588e',\n",
       "       '96666028-8268-41c0-92e4-cb08346a232d',\n",
       "       '60a7c8d1-3789-4abd-8305-f93b36bcdbe3',\n",
       "       'e206e647-919b-4d8e-b840-e79dbd46eb27',\n",
       "       '0a3f8afa-864c-4d53-83fb-714ef27dc481',\n",
       "       '6bebd954-7bea-4204-a650-2c7f36907998',\n",
       "       '0c047bc0-0041-45f7-9222-d2ec5fd2df38',\n",
       "       '6b4f217d-2c74-4b84-ae57-7e6f79a6d6ad'], dtype=object)"
      ]
     },
     "execution_count": 9,
     "metadata": {},
     "output_type": "execute_result"
    }
   ],
   "source": [
    "uni_data_exp = exp_data['component_name'].unique()\n",
    "uni_data_exp"
   ]
  },
  {
   "cell_type": "code",
   "execution_count": 11,
   "id": "ed55581d",
   "metadata": {},
   "outputs": [
    {
     "name": "stdout",
     "output_type": "stream",
     "text": [
      "39\n",
      "39\n"
     ]
    }
   ],
   "source": [
    "print(len(uni_data_exp))\n",
    "print(len(uni_data_comps))"
   ]
  },
  {
   "cell_type": "code",
   "execution_count": 12,
   "id": "e5e35336",
   "metadata": {},
   "outputs": [
    {
     "data": {
      "text/plain": [
       "True"
      ]
     },
     "execution_count": 12,
     "metadata": {},
     "output_type": "execute_result"
    }
   ],
   "source": [
    "uni_data_comps in uni_data_exp"
   ]
  },
  {
   "cell_type": "code",
   "execution_count": 13,
   "id": "661a19f7",
   "metadata": {},
   "outputs": [
    {
     "data": {
      "text/plain": [
       "True"
      ]
     },
     "execution_count": 13,
     "metadata": {},
     "output_type": "execute_result"
    }
   ],
   "source": [
    "uni_data_exp in uni_data_comps"
   ]
  }
 ],
 "metadata": {
  "kernelspec": {
   "display_name": ".venv",
   "language": "python",
   "name": "python3"
  },
  "language_info": {
   "codemirror_mode": {
    "name": "ipython",
    "version": 3
   },
   "file_extension": ".py",
   "mimetype": "text/x-python",
   "name": "python",
   "nbconvert_exporter": "python",
   "pygments_lexer": "ipython3",
   "version": "3.13.2"
  }
 },
 "nbformat": 4,
 "nbformat_minor": 5
}
