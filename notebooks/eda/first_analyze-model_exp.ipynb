{
 "cells": [
  {
   "cell_type": "code",
   "execution_count": 7,
   "id": "28d9eeda",
   "metadata": {},
   "outputs": [],
   "source": [
    "import pandas as pd\n",
    "import numpy as np\n",
    "from sklearn.model_selection import train_test_split\n",
    "from sklearn.preprocessing import StandardScaler, LabelEncoder, OneHotEncoder\n",
    "from  sklearn.impute import SimpleImputer\n",
    "import torch\n",
    "import torch.nn as nn\n",
    "import torch.optim as optim\n",
    "from tqdm import tqdm"
   ]
  },
  {
   "cell_type": "code",
   "execution_count": 8,
   "id": "a4685344",
   "metadata": {},
   "outputs": [
    {
     "data": {
      "application/vnd.microsoft.datawrangler.viewer.v0+json": {
       "columns": [
        {
         "name": "index",
         "rawType": "int64",
         "type": "integer"
        },
        {
         "name": "blend_id",
         "rawType": "object",
         "type": "string"
        },
        {
         "name": "component_name",
         "rawType": "object",
         "type": "string"
        },
        {
         "name": "mass_fraction",
         "rawType": "float64",
         "type": "float"
        },
        {
         "name": "component_type_title",
         "rawType": "object",
         "type": "string"
        },
        {
         "name": "component_param_title",
         "rawType": "object",
         "type": "string"
        },
        {
         "name": "component_param_value",
         "rawType": "float64",
         "type": "float"
        },
        {
         "name": "oil_property_value",
         "rawType": "float64",
         "type": "float"
        }
       ],
       "conversionMethod": "pd.DataFrame",
       "ref": "d57d9c44-6ff8-4cb3-8510-a97b078a2cf6",
       "rows": [
        [
         "0",
         "c090b033-87c0-4342-b737-fa7289b6f976",
         "3a03d432-d849-417d-92e7-9a604187a096",
         "67.0",
         "5360a311-e081-4972-9215-26b5d9072f65",
         "8682d4cc-c352-422b-a197-c05427cd518e",
         null,
         "4.52"
        ],
        [
         "1",
         "c090b033-87c0-4342-b737-fa7289b6f976",
         "c33ebc5c-0935-4c6b-a489-f1404f88be22",
         "33.0",
         "5360a311-e081-4972-9215-26b5d9072f65",
         "Температура вспышки в закрытом тигле",
         null,
         "4.52"
        ],
        [
         "2",
         "c090b033-87c0-4342-b737-fa7289b6f976",
         "3a03d432-d849-417d-92e7-9a604187a096",
         "67.0",
         "5360a311-e081-4972-9215-26b5d9072f65",
         "9a0b87b0-ded9-49c8-bad4-476ce3ee8893",
         null,
         "4.52"
        ],
        [
         "3",
         "c090b033-87c0-4342-b737-fa7289b6f976",
         "3a03d432-d849-417d-92e7-9a604187a096",
         "67.0",
         "5360a311-e081-4972-9215-26b5d9072f65",
         "a2fc0f17-7e63-4ad2-8022-da4162abee53",
         "1612.0",
         "4.52"
        ],
        [
         "4",
         "c090b033-87c0-4342-b737-fa7289b6f976",
         "c33ebc5c-0935-4c6b-a489-f1404f88be22",
         "33.0",
         "5360a311-e081-4972-9215-26b5d9072f65",
         "a2fc0f17-7e63-4ad2-8022-da4162abee53",
         "2360.0",
         "4.52"
        ],
        [
         "5",
         "c090b033-87c0-4342-b737-fa7289b6f976",
         "c33ebc5c-0935-4c6b-a489-f1404f88be22",
         "33.0",
         "5360a311-e081-4972-9215-26b5d9072f65",
         "323e7d38-cbfb-4bf3-8f75-fbe755365b37",
         null,
         "4.52"
        ],
        [
         "6",
         "c090b033-87c0-4342-b737-fa7289b6f976",
         "3a03d432-d849-417d-92e7-9a604187a096",
         "67.0",
         "5360a311-e081-4972-9215-26b5d9072f65",
         "323e7d38-cbfb-4bf3-8f75-fbe755365b37",
         null,
         "4.52"
        ],
        [
         "7",
         "c090b033-87c0-4342-b737-fa7289b6f976",
         "3a03d432-d849-417d-92e7-9a604187a096",
         "67.0",
         "5360a311-e081-4972-9215-26b5d9072f65",
         "d13e0412-9f3d-4e45-86d8-f756d74ec2d0",
         "40.0",
         "4.52"
        ],
        [
         "8",
         "c090b033-87c0-4342-b737-fa7289b6f976",
         "c33ebc5c-0935-4c6b-a489-f1404f88be22",
         "33.0",
         "5360a311-e081-4972-9215-26b5d9072f65",
         "d13e0412-9f3d-4e45-86d8-f756d74ec2d0",
         "40.0",
         "4.52"
        ],
        [
         "9",
         "c090b033-87c0-4342-b737-fa7289b6f976",
         "c33ebc5c-0935-4c6b-a489-f1404f88be22",
         "33.0",
         "5360a311-e081-4972-9215-26b5d9072f65",
         "3ec74fd4-9e8c-4a13-b845-58f9b6bd256d",
         "40.0",
         "4.52"
        ],
        [
         "10",
         "c090b033-87c0-4342-b737-fa7289b6f976",
         "c33ebc5c-0935-4c6b-a489-f1404f88be22",
         "33.0",
         "5360a311-e081-4972-9215-26b5d9072f65",
         "7458ebbc-5e6d-44b6-8660-4bc729658ff1",
         null,
         "4.52"
        ],
        [
         "11",
         "c090b033-87c0-4342-b737-fa7289b6f976",
         "3a03d432-d849-417d-92e7-9a604187a096",
         "67.0",
         "5360a311-e081-4972-9215-26b5d9072f65",
         "7458ebbc-5e6d-44b6-8660-4bc729658ff1",
         null,
         "4.52"
        ],
        [
         "12",
         "c090b033-87c0-4342-b737-fa7289b6f976",
         "3a03d432-d849-417d-92e7-9a604187a096",
         "67.0",
         "5360a311-e081-4972-9215-26b5d9072f65",
         "99db6ebc-31d7-4ba7-942a-190bb78fc0b3",
         null,
         "4.52"
        ],
        [
         "13",
         "c090b033-87c0-4342-b737-fa7289b6f976",
         "c33ebc5c-0935-4c6b-a489-f1404f88be22",
         "33.0",
         "5360a311-e081-4972-9215-26b5d9072f65",
         "99db6ebc-31d7-4ba7-942a-190bb78fc0b3",
         null,
         "4.52"
        ],
        [
         "14",
         "c090b033-87c0-4342-b737-fa7289b6f976",
         "c33ebc5c-0935-4c6b-a489-f1404f88be22",
         "33.0",
         "5360a311-e081-4972-9215-26b5d9072f65",
         "22d56254-1ba7-44ed-aaba-dc5c79686e50",
         "0.0001",
         "4.52"
        ],
        [
         "15",
         "c090b033-87c0-4342-b737-fa7289b6f976",
         "3a03d432-d849-417d-92e7-9a604187a096",
         "67.0",
         "5360a311-e081-4972-9215-26b5d9072f65",
         "22d56254-1ba7-44ed-aaba-dc5c79686e50",
         "9e-05",
         "4.52"
        ],
        [
         "16",
         "c090b033-87c0-4342-b737-fa7289b6f976",
         "3a03d432-d849-417d-92e7-9a604187a096",
         "67.0",
         "5360a311-e081-4972-9215-26b5d9072f65",
         "1230f37d-b440-4bb8-b137-8ea7b561db4f",
         "4.48",
         "4.52"
        ],
        [
         "17",
         "c090b033-87c0-4342-b737-fa7289b6f976",
         "c33ebc5c-0935-4c6b-a489-f1404f88be22",
         "33.0",
         "5360a311-e081-4972-9215-26b5d9072f65",
         "1230f37d-b440-4bb8-b137-8ea7b561db4f",
         "4.52",
         "4.52"
        ],
        [
         "18",
         "c090b033-87c0-4342-b737-fa7289b6f976",
         "3a03d432-d849-417d-92e7-9a604187a096",
         "67.0",
         "5360a311-e081-4972-9215-26b5d9072f65",
         "3ec74fd4-9e8c-4a13-b845-58f9b6bd256d",
         "40.0",
         "4.52"
        ],
        [
         "19",
         "c090b033-87c0-4342-b737-fa7289b6f976",
         "3a03d432-d849-417d-92e7-9a604187a096",
         "67.0",
         "5360a311-e081-4972-9215-26b5d9072f65",
         "461eb78a-a993-4984-9ede-67f00ef1c8e9",
         null,
         "4.52"
        ],
        [
         "20",
         "c090b033-87c0-4342-b737-fa7289b6f976",
         "c33ebc5c-0935-4c6b-a489-f1404f88be22",
         "33.0",
         "5360a311-e081-4972-9215-26b5d9072f65",
         "d71c61dd-417a-4e43-bafe-e9b9014ac6ce",
         null,
         "4.52"
        ],
        [
         "21",
         "c090b033-87c0-4342-b737-fa7289b6f976",
         "3a03d432-d849-417d-92e7-9a604187a096",
         "67.0",
         "5360a311-e081-4972-9215-26b5d9072f65",
         "d71c61dd-417a-4e43-bafe-e9b9014ac6ce",
         null,
         "4.52"
        ],
        [
         "22",
         "c090b033-87c0-4342-b737-fa7289b6f976",
         "3a03d432-d849-417d-92e7-9a604187a096",
         "67.0",
         "5360a311-e081-4972-9215-26b5d9072f65",
         "7048c664-4839-495c-9c0f-d5ca629ed752",
         null,
         "4.52"
        ],
        [
         "23",
         "c090b033-87c0-4342-b737-fa7289b6f976",
         "3a03d432-d849-417d-92e7-9a604187a096",
         "67.0",
         "5360a311-e081-4972-9215-26b5d9072f65",
         "30241ac9-72df-4dc2-8d67-5ecbf5faaf58",
         "24.0",
         "4.52"
        ],
        [
         "24",
         "c090b033-87c0-4342-b737-fa7289b6f976",
         "3a03d432-d849-417d-92e7-9a604187a096",
         "67.0",
         "5360a311-e081-4972-9215-26b5d9072f65",
         "a2ee964b-f99b-4833-8bd0-81e25c398dbd",
         null,
         "4.52"
        ],
        [
         "25",
         "c090b033-87c0-4342-b737-fa7289b6f976",
         "3a03d432-d849-417d-92e7-9a604187a096",
         "67.0",
         "5360a311-e081-4972-9215-26b5d9072f65",
         "317d031d-bd3d-4b5f-806a-646fbad7f1ee",
         "372.0",
         "4.52"
        ],
        [
         "26",
         "c090b033-87c0-4342-b737-fa7289b6f976",
         "3a03d432-d849-417d-92e7-9a604187a096",
         "67.0",
         "5360a311-e081-4972-9215-26b5d9072f65",
         "Температура вспышки в закрытом тигле",
         null,
         "4.52"
        ],
        [
         "27",
         "c090b033-87c0-4342-b737-fa7289b6f976",
         "3a03d432-d849-417d-92e7-9a604187a096",
         "67.0",
         "5360a311-e081-4972-9215-26b5d9072f65",
         "91afc6f5-f963-483f-b70f-c83ac8c738e1",
         null,
         "4.52"
        ],
        [
         "28",
         "c090b033-87c0-4342-b737-fa7289b6f976",
         "c33ebc5c-0935-4c6b-a489-f1404f88be22",
         "33.0",
         "5360a311-e081-4972-9215-26b5d9072f65",
         "91afc6f5-f963-483f-b70f-c83ac8c738e1",
         null,
         "4.52"
        ],
        [
         "29",
         "c090b033-87c0-4342-b737-fa7289b6f976",
         "c33ebc5c-0935-4c6b-a489-f1404f88be22",
         "33.0",
         "5360a311-e081-4972-9215-26b5d9072f65",
         "3be93dc8-1abd-4559-b147-a41046322b45",
         null,
         "4.52"
        ],
        [
         "30",
         "c090b033-87c0-4342-b737-fa7289b6f976",
         "3a03d432-d849-417d-92e7-9a604187a096",
         "67.0",
         "5360a311-e081-4972-9215-26b5d9072f65",
         "c2fea5f1-695f-4822-a94c-bd73d609e439",
         "581.0",
         "4.52"
        ],
        [
         "31",
         "c090b033-87c0-4342-b737-fa7289b6f976",
         "c33ebc5c-0935-4c6b-a489-f1404f88be22",
         "33.0",
         "5360a311-e081-4972-9215-26b5d9072f65",
         "c2fea5f1-695f-4822-a94c-bd73d609e439",
         "778.5",
         "4.52"
        ],
        [
         "32",
         "c090b033-87c0-4342-b737-fa7289b6f976",
         "c33ebc5c-0935-4c6b-a489-f1404f88be22",
         "33.0",
         "5360a311-e081-4972-9215-26b5d9072f65",
         "2ced8a31-bbd2-488a-9b02-21f6ceb2cf60",
         "5.0",
         "4.52"
        ],
        [
         "33",
         "c090b033-87c0-4342-b737-fa7289b6f976",
         "3a03d432-d849-417d-92e7-9a604187a096",
         "67.0",
         "5360a311-e081-4972-9215-26b5d9072f65",
         "2ced8a31-bbd2-488a-9b02-21f6ceb2cf60",
         "5.0",
         "4.52"
        ],
        [
         "34",
         "c090b033-87c0-4342-b737-fa7289b6f976",
         "c33ebc5c-0935-4c6b-a489-f1404f88be22",
         "33.0",
         "5360a311-e081-4972-9215-26b5d9072f65",
         "f1acc67e-c976-4aea-83e4-2733b6a499a1",
         null,
         "4.52"
        ],
        [
         "35",
         "c090b033-87c0-4342-b737-fa7289b6f976",
         "3a03d432-d849-417d-92e7-9a604187a096",
         "67.0",
         "5360a311-e081-4972-9215-26b5d9072f65",
         "f1acc67e-c976-4aea-83e4-2733b6a499a1",
         null,
         "4.52"
        ],
        [
         "36",
         "c090b033-87c0-4342-b737-fa7289b6f976",
         "3a03d432-d849-417d-92e7-9a604187a096",
         "67.0",
         "5360a311-e081-4972-9215-26b5d9072f65",
         "2563ddf6-1609-498b-bd75-83ba1110fd38",
         "20.0",
         "4.52"
        ],
        [
         "37",
         "c090b033-87c0-4342-b737-fa7289b6f976",
         "c33ebc5c-0935-4c6b-a489-f1404f88be22",
         "33.0",
         "5360a311-e081-4972-9215-26b5d9072f65",
         "2563ddf6-1609-498b-bd75-83ba1110fd38",
         "70.0",
         "4.52"
        ],
        [
         "38",
         "c090b033-87c0-4342-b737-fa7289b6f976",
         "3a03d432-d849-417d-92e7-9a604187a096",
         "67.0",
         "5360a311-e081-4972-9215-26b5d9072f65",
         "cac10969-4d22-4a5c-a35e-ef55443e0952",
         null,
         "4.52"
        ],
        [
         "39",
         "c090b033-87c0-4342-b737-fa7289b6f976",
         "c33ebc5c-0935-4c6b-a489-f1404f88be22",
         "33.0",
         "5360a311-e081-4972-9215-26b5d9072f65",
         "cac10969-4d22-4a5c-a35e-ef55443e0952",
         null,
         "4.52"
        ],
        [
         "40",
         "c090b033-87c0-4342-b737-fa7289b6f976",
         "c33ebc5c-0935-4c6b-a489-f1404f88be22",
         "33.0",
         "5360a311-e081-4972-9215-26b5d9072f65",
         "2df252f2-969e-40e5-8a3b-77dacfcea2ed",
         "112.5",
         "4.52"
        ],
        [
         "41",
         "c090b033-87c0-4342-b737-fa7289b6f976",
         "3a03d432-d849-417d-92e7-9a604187a096",
         "67.0",
         "5360a311-e081-4972-9215-26b5d9072f65",
         "2df252f2-969e-40e5-8a3b-77dacfcea2ed",
         "127.0",
         "4.52"
        ],
        [
         "42",
         "c090b033-87c0-4342-b737-fa7289b6f976",
         "c33ebc5c-0935-4c6b-a489-f1404f88be22",
         "33.0",
         "5360a311-e081-4972-9215-26b5d9072f65",
         "317d031d-bd3d-4b5f-806a-646fbad7f1ee",
         "485.0",
         "4.52"
        ],
        [
         "43",
         "c090b033-87c0-4342-b737-fa7289b6f976",
         "3a03d432-d849-417d-92e7-9a604187a096",
         "67.0",
         "5360a311-e081-4972-9215-26b5d9072f65",
         "38e6c611-780b-4768-967a-522329ddff2a",
         null,
         "4.52"
        ],
        [
         "44",
         "c090b033-87c0-4342-b737-fa7289b6f976",
         "3a03d432-d849-417d-92e7-9a604187a096",
         "67.0",
         "5360a311-e081-4972-9215-26b5d9072f65",
         "f6a97d54-9e01-4d65-95e6-35f89e576be6",
         null,
         "4.52"
        ],
        [
         "45",
         "c090b033-87c0-4342-b737-fa7289b6f976",
         "3a03d432-d849-417d-92e7-9a604187a096",
         "67.0",
         "5360a311-e081-4972-9215-26b5d9072f65",
         "850b082b-d9df-4fa1-be5d-778b7512f099",
         null,
         "4.52"
        ],
        [
         "46",
         "c090b033-87c0-4342-b737-fa7289b6f976",
         "c33ebc5c-0935-4c6b-a489-f1404f88be22",
         "33.0",
         "5360a311-e081-4972-9215-26b5d9072f65",
         "850b082b-d9df-4fa1-be5d-778b7512f099",
         null,
         "4.52"
        ],
        [
         "47",
         "c090b033-87c0-4342-b737-fa7289b6f976",
         "c33ebc5c-0935-4c6b-a489-f1404f88be22",
         "33.0",
         "5360a311-e081-4972-9215-26b5d9072f65",
         "c6fd5468-c7e1-4252-b629-0c748ec8a4d4",
         "0.0",
         "4.52"
        ],
        [
         "48",
         "c090b033-87c0-4342-b737-fa7289b6f976",
         "3a03d432-d849-417d-92e7-9a604187a096",
         "67.0",
         "5360a311-e081-4972-9215-26b5d9072f65",
         "c6fd5468-c7e1-4252-b629-0c748ec8a4d4",
         "0.0",
         "4.52"
        ],
        [
         "49",
         "c090b033-87c0-4342-b737-fa7289b6f976",
         "c33ebc5c-0935-4c6b-a489-f1404f88be22",
         "33.0",
         "5360a311-e081-4972-9215-26b5d9072f65",
         "38e6c611-780b-4768-967a-522329ddff2a",
         null,
         "4.52"
        ]
       ],
       "shape": {
        "columns": 7,
        "rows": 101860
       }
      },
      "text/html": [
       "<div>\n",
       "<style scoped>\n",
       "    .dataframe tbody tr th:only-of-type {\n",
       "        vertical-align: middle;\n",
       "    }\n",
       "\n",
       "    .dataframe tbody tr th {\n",
       "        vertical-align: top;\n",
       "    }\n",
       "\n",
       "    .dataframe thead th {\n",
       "        text-align: right;\n",
       "    }\n",
       "</style>\n",
       "<table border=\"1\" class=\"dataframe\">\n",
       "  <thead>\n",
       "    <tr style=\"text-align: right;\">\n",
       "      <th></th>\n",
       "      <th>blend_id</th>\n",
       "      <th>component_name</th>\n",
       "      <th>mass_fraction</th>\n",
       "      <th>component_type_title</th>\n",
       "      <th>component_param_title</th>\n",
       "      <th>component_param_value</th>\n",
       "      <th>oil_property_value</th>\n",
       "    </tr>\n",
       "  </thead>\n",
       "  <tbody>\n",
       "    <tr>\n",
       "      <th>0</th>\n",
       "      <td>c090b033-87c0-4342-b737-fa7289b6f976</td>\n",
       "      <td>3a03d432-d849-417d-92e7-9a604187a096</td>\n",
       "      <td>67.00</td>\n",
       "      <td>5360a311-e081-4972-9215-26b5d9072f65</td>\n",
       "      <td>8682d4cc-c352-422b-a197-c05427cd518e</td>\n",
       "      <td>NaN</td>\n",
       "      <td>4.52</td>\n",
       "    </tr>\n",
       "    <tr>\n",
       "      <th>1</th>\n",
       "      <td>c090b033-87c0-4342-b737-fa7289b6f976</td>\n",
       "      <td>c33ebc5c-0935-4c6b-a489-f1404f88be22</td>\n",
       "      <td>33.00</td>\n",
       "      <td>5360a311-e081-4972-9215-26b5d9072f65</td>\n",
       "      <td>Температура вспышки в закрытом тигле</td>\n",
       "      <td>NaN</td>\n",
       "      <td>4.52</td>\n",
       "    </tr>\n",
       "    <tr>\n",
       "      <th>2</th>\n",
       "      <td>c090b033-87c0-4342-b737-fa7289b6f976</td>\n",
       "      <td>3a03d432-d849-417d-92e7-9a604187a096</td>\n",
       "      <td>67.00</td>\n",
       "      <td>5360a311-e081-4972-9215-26b5d9072f65</td>\n",
       "      <td>9a0b87b0-ded9-49c8-bad4-476ce3ee8893</td>\n",
       "      <td>NaN</td>\n",
       "      <td>4.52</td>\n",
       "    </tr>\n",
       "    <tr>\n",
       "      <th>3</th>\n",
       "      <td>c090b033-87c0-4342-b737-fa7289b6f976</td>\n",
       "      <td>3a03d432-d849-417d-92e7-9a604187a096</td>\n",
       "      <td>67.00</td>\n",
       "      <td>5360a311-e081-4972-9215-26b5d9072f65</td>\n",
       "      <td>a2fc0f17-7e63-4ad2-8022-da4162abee53</td>\n",
       "      <td>1612.0</td>\n",
       "      <td>4.52</td>\n",
       "    </tr>\n",
       "    <tr>\n",
       "      <th>4</th>\n",
       "      <td>c090b033-87c0-4342-b737-fa7289b6f976</td>\n",
       "      <td>c33ebc5c-0935-4c6b-a489-f1404f88be22</td>\n",
       "      <td>33.00</td>\n",
       "      <td>5360a311-e081-4972-9215-26b5d9072f65</td>\n",
       "      <td>a2fc0f17-7e63-4ad2-8022-da4162abee53</td>\n",
       "      <td>2360.0</td>\n",
       "      <td>4.52</td>\n",
       "    </tr>\n",
       "    <tr>\n",
       "      <th>...</th>\n",
       "      <td>...</td>\n",
       "      <td>...</td>\n",
       "      <td>...</td>\n",
       "      <td>...</td>\n",
       "      <td>...</td>\n",
       "      <td>...</td>\n",
       "      <td>...</td>\n",
       "    </tr>\n",
       "    <tr>\n",
       "      <th>101855</th>\n",
       "      <td>3826f353-92cb-4759-9625-8de04fd31f92</td>\n",
       "      <td>0962b43d-14b3-4bc5-b7b4-34500629ff48</td>\n",
       "      <td>49.69</td>\n",
       "      <td>2b8465f2-f5e2-4d0a-b468-52ec4467def1</td>\n",
       "      <td>b8039e27-bfc7-43b6-9954-3fe2804524d7</td>\n",
       "      <td>NaN</td>\n",
       "      <td>10.09</td>\n",
       "    </tr>\n",
       "    <tr>\n",
       "      <th>101856</th>\n",
       "      <td>3826f353-92cb-4759-9625-8de04fd31f92</td>\n",
       "      <td>7bc3fcf4-7f3f-4ff6-9bdd-a62fc39828d3</td>\n",
       "      <td>19.80</td>\n",
       "      <td>3c132c45-5aea-4626-8a81-becbb02b10b0</td>\n",
       "      <td>b8039e27-bfc7-43b6-9954-3fe2804524d7</td>\n",
       "      <td>NaN</td>\n",
       "      <td>10.09</td>\n",
       "    </tr>\n",
       "    <tr>\n",
       "      <th>101857</th>\n",
       "      <td>3826f353-92cb-4759-9625-8de04fd31f92</td>\n",
       "      <td>6b4f217d-2c74-4b84-ae57-7e6f79a6d6ad</td>\n",
       "      <td>29.70</td>\n",
       "      <td>3c132c45-5aea-4626-8a81-becbb02b10b0</td>\n",
       "      <td>b8039e27-bfc7-43b6-9954-3fe2804524d7</td>\n",
       "      <td>3600.0</td>\n",
       "      <td>10.09</td>\n",
       "    </tr>\n",
       "    <tr>\n",
       "      <th>101858</th>\n",
       "      <td>3826f353-92cb-4759-9625-8de04fd31f92</td>\n",
       "      <td>6b4f217d-2c74-4b84-ae57-7e6f79a6d6ad</td>\n",
       "      <td>29.70</td>\n",
       "      <td>3c132c45-5aea-4626-8a81-becbb02b10b0</td>\n",
       "      <td>c2fea5f1-695f-4822-a94c-bd73d609e439</td>\n",
       "      <td>NaN</td>\n",
       "      <td>10.09</td>\n",
       "    </tr>\n",
       "    <tr>\n",
       "      <th>101859</th>\n",
       "      <td>3826f353-92cb-4759-9625-8de04fd31f92</td>\n",
       "      <td>6b4f217d-2c74-4b84-ae57-7e6f79a6d6ad</td>\n",
       "      <td>29.70</td>\n",
       "      <td>3c132c45-5aea-4626-8a81-becbb02b10b0</td>\n",
       "      <td>323e7d38-cbfb-4bf3-8f75-fbe755365b37</td>\n",
       "      <td>NaN</td>\n",
       "      <td>10.09</td>\n",
       "    </tr>\n",
       "  </tbody>\n",
       "</table>\n",
       "<p>101860 rows × 7 columns</p>\n",
       "</div>"
      ],
      "text/plain": [
       "                                    blend_id  \\\n",
       "0       c090b033-87c0-4342-b737-fa7289b6f976   \n",
       "1       c090b033-87c0-4342-b737-fa7289b6f976   \n",
       "2       c090b033-87c0-4342-b737-fa7289b6f976   \n",
       "3       c090b033-87c0-4342-b737-fa7289b6f976   \n",
       "4       c090b033-87c0-4342-b737-fa7289b6f976   \n",
       "...                                      ...   \n",
       "101855  3826f353-92cb-4759-9625-8de04fd31f92   \n",
       "101856  3826f353-92cb-4759-9625-8de04fd31f92   \n",
       "101857  3826f353-92cb-4759-9625-8de04fd31f92   \n",
       "101858  3826f353-92cb-4759-9625-8de04fd31f92   \n",
       "101859  3826f353-92cb-4759-9625-8de04fd31f92   \n",
       "\n",
       "                              component_name  mass_fraction  \\\n",
       "0       3a03d432-d849-417d-92e7-9a604187a096          67.00   \n",
       "1       c33ebc5c-0935-4c6b-a489-f1404f88be22          33.00   \n",
       "2       3a03d432-d849-417d-92e7-9a604187a096          67.00   \n",
       "3       3a03d432-d849-417d-92e7-9a604187a096          67.00   \n",
       "4       c33ebc5c-0935-4c6b-a489-f1404f88be22          33.00   \n",
       "...                                      ...            ...   \n",
       "101855  0962b43d-14b3-4bc5-b7b4-34500629ff48          49.69   \n",
       "101856  7bc3fcf4-7f3f-4ff6-9bdd-a62fc39828d3          19.80   \n",
       "101857  6b4f217d-2c74-4b84-ae57-7e6f79a6d6ad          29.70   \n",
       "101858  6b4f217d-2c74-4b84-ae57-7e6f79a6d6ad          29.70   \n",
       "101859  6b4f217d-2c74-4b84-ae57-7e6f79a6d6ad          29.70   \n",
       "\n",
       "                        component_type_title  \\\n",
       "0       5360a311-e081-4972-9215-26b5d9072f65   \n",
       "1       5360a311-e081-4972-9215-26b5d9072f65   \n",
       "2       5360a311-e081-4972-9215-26b5d9072f65   \n",
       "3       5360a311-e081-4972-9215-26b5d9072f65   \n",
       "4       5360a311-e081-4972-9215-26b5d9072f65   \n",
       "...                                      ...   \n",
       "101855  2b8465f2-f5e2-4d0a-b468-52ec4467def1   \n",
       "101856  3c132c45-5aea-4626-8a81-becbb02b10b0   \n",
       "101857  3c132c45-5aea-4626-8a81-becbb02b10b0   \n",
       "101858  3c132c45-5aea-4626-8a81-becbb02b10b0   \n",
       "101859  3c132c45-5aea-4626-8a81-becbb02b10b0   \n",
       "\n",
       "                       component_param_title  component_param_value  \\\n",
       "0       8682d4cc-c352-422b-a197-c05427cd518e                    NaN   \n",
       "1       Температура вспышки в закрытом тигле                    NaN   \n",
       "2       9a0b87b0-ded9-49c8-bad4-476ce3ee8893                    NaN   \n",
       "3       a2fc0f17-7e63-4ad2-8022-da4162abee53                 1612.0   \n",
       "4       a2fc0f17-7e63-4ad2-8022-da4162abee53                 2360.0   \n",
       "...                                      ...                    ...   \n",
       "101855  b8039e27-bfc7-43b6-9954-3fe2804524d7                    NaN   \n",
       "101856  b8039e27-bfc7-43b6-9954-3fe2804524d7                    NaN   \n",
       "101857  b8039e27-bfc7-43b6-9954-3fe2804524d7                 3600.0   \n",
       "101858  c2fea5f1-695f-4822-a94c-bd73d609e439                    NaN   \n",
       "101859  323e7d38-cbfb-4bf3-8f75-fbe755365b37                    NaN   \n",
       "\n",
       "        oil_property_value  \n",
       "0                     4.52  \n",
       "1                     4.52  \n",
       "2                     4.52  \n",
       "3                     4.52  \n",
       "4                     4.52  \n",
       "...                    ...  \n",
       "101855               10.09  \n",
       "101856               10.09  \n",
       "101857               10.09  \n",
       "101858               10.09  \n",
       "101859               10.09  \n",
       "\n",
       "[101860 rows x 7 columns]"
      ]
     },
     "execution_count": 8,
     "metadata": {},
     "output_type": "execute_result"
    }
   ],
   "source": [
    "data = pd.read_csv('data/NTO_exp_encoded.csv')\n",
    "data"
   ]
  },
  {
   "cell_type": "code",
   "execution_count": 9,
   "id": "d87b82ed",
   "metadata": {},
   "outputs": [
    {
     "data": {
      "application/vnd.microsoft.datawrangler.viewer.v0+json": {
       "columns": [
        {
         "name": "index",
         "rawType": "int64",
         "type": "integer"
        },
        {
         "name": "blend_id",
         "rawType": "bool",
         "type": "boolean"
        },
        {
         "name": "component_name",
         "rawType": "bool",
         "type": "boolean"
        },
        {
         "name": "mass_fraction",
         "rawType": "bool",
         "type": "boolean"
        },
        {
         "name": "component_type_title",
         "rawType": "bool",
         "type": "boolean"
        },
        {
         "name": "component_param_title",
         "rawType": "bool",
         "type": "boolean"
        },
        {
         "name": "component_param_value",
         "rawType": "bool",
         "type": "boolean"
        },
        {
         "name": "oil_property_value",
         "rawType": "bool",
         "type": "boolean"
        }
       ],
       "conversionMethod": "pd.DataFrame",
       "ref": "373327f2-0e9b-4494-a47d-45e3bc97aef9",
       "rows": [
        [
         "0",
         "False",
         "False",
         "False",
         "False",
         "False",
         "False",
         "False"
        ],
        [
         "1",
         "False",
         "False",
         "False",
         "False",
         "False",
         "False",
         "False"
        ],
        [
         "2",
         "False",
         "False",
         "False",
         "False",
         "False",
         "False",
         "False"
        ],
        [
         "3",
         "False",
         "False",
         "False",
         "False",
         "False",
         "False",
         "False"
        ],
        [
         "4",
         "False",
         "False",
         "False",
         "False",
         "False",
         "False",
         "False"
        ],
        [
         "5",
         "False",
         "False",
         "False",
         "False",
         "False",
         "False",
         "False"
        ],
        [
         "6",
         "False",
         "False",
         "False",
         "False",
         "False",
         "False",
         "False"
        ],
        [
         "7",
         "False",
         "False",
         "False",
         "False",
         "False",
         "False",
         "False"
        ],
        [
         "8",
         "False",
         "False",
         "False",
         "False",
         "False",
         "False",
         "False"
        ],
        [
         "9",
         "False",
         "False",
         "False",
         "False",
         "False",
         "False",
         "False"
        ],
        [
         "10",
         "False",
         "False",
         "False",
         "False",
         "False",
         "False",
         "False"
        ],
        [
         "11",
         "False",
         "False",
         "False",
         "False",
         "False",
         "False",
         "False"
        ],
        [
         "12",
         "False",
         "False",
         "False",
         "False",
         "False",
         "False",
         "False"
        ],
        [
         "13",
         "False",
         "False",
         "False",
         "False",
         "False",
         "False",
         "False"
        ],
        [
         "14",
         "False",
         "False",
         "False",
         "False",
         "False",
         "False",
         "False"
        ],
        [
         "15",
         "False",
         "False",
         "False",
         "False",
         "False",
         "False",
         "False"
        ],
        [
         "16",
         "False",
         "False",
         "False",
         "False",
         "False",
         "False",
         "False"
        ],
        [
         "17",
         "False",
         "False",
         "False",
         "False",
         "False",
         "False",
         "False"
        ],
        [
         "18",
         "False",
         "False",
         "False",
         "False",
         "False",
         "False",
         "False"
        ],
        [
         "19",
         "False",
         "False",
         "False",
         "False",
         "False",
         "False",
         "False"
        ],
        [
         "20",
         "False",
         "False",
         "False",
         "False",
         "False",
         "False",
         "False"
        ],
        [
         "21",
         "False",
         "False",
         "False",
         "False",
         "False",
         "False",
         "False"
        ],
        [
         "22",
         "False",
         "False",
         "False",
         "False",
         "False",
         "False",
         "False"
        ],
        [
         "23",
         "False",
         "False",
         "False",
         "False",
         "False",
         "False",
         "False"
        ],
        [
         "24",
         "False",
         "False",
         "False",
         "False",
         "False",
         "False",
         "False"
        ],
        [
         "25",
         "False",
         "False",
         "False",
         "False",
         "False",
         "False",
         "False"
        ],
        [
         "26",
         "False",
         "False",
         "False",
         "False",
         "False",
         "False",
         "False"
        ],
        [
         "27",
         "False",
         "False",
         "False",
         "False",
         "False",
         "False",
         "False"
        ],
        [
         "28",
         "False",
         "False",
         "False",
         "False",
         "False",
         "False",
         "False"
        ],
        [
         "29",
         "False",
         "False",
         "False",
         "False",
         "False",
         "False",
         "False"
        ],
        [
         "30",
         "False",
         "False",
         "False",
         "False",
         "False",
         "False",
         "False"
        ],
        [
         "31",
         "False",
         "False",
         "False",
         "False",
         "False",
         "False",
         "False"
        ],
        [
         "32",
         "False",
         "False",
         "False",
         "False",
         "False",
         "False",
         "False"
        ],
        [
         "33",
         "False",
         "False",
         "False",
         "False",
         "False",
         "False",
         "False"
        ],
        [
         "34",
         "False",
         "False",
         "False",
         "False",
         "False",
         "False",
         "False"
        ],
        [
         "35",
         "False",
         "False",
         "False",
         "False",
         "False",
         "False",
         "False"
        ],
        [
         "36",
         "False",
         "False",
         "False",
         "False",
         "False",
         "False",
         "False"
        ],
        [
         "37",
         "False",
         "False",
         "False",
         "False",
         "False",
         "False",
         "False"
        ],
        [
         "38",
         "False",
         "False",
         "False",
         "False",
         "False",
         "False",
         "False"
        ],
        [
         "39",
         "False",
         "False",
         "False",
         "False",
         "False",
         "False",
         "False"
        ],
        [
         "40",
         "False",
         "False",
         "False",
         "False",
         "False",
         "False",
         "False"
        ],
        [
         "41",
         "False",
         "False",
         "False",
         "False",
         "False",
         "False",
         "False"
        ],
        [
         "42",
         "False",
         "False",
         "False",
         "False",
         "False",
         "False",
         "False"
        ],
        [
         "43",
         "False",
         "False",
         "False",
         "False",
         "False",
         "False",
         "False"
        ],
        [
         "44",
         "False",
         "False",
         "False",
         "False",
         "False",
         "False",
         "False"
        ],
        [
         "45",
         "False",
         "False",
         "False",
         "False",
         "False",
         "False",
         "False"
        ],
        [
         "46",
         "False",
         "False",
         "False",
         "False",
         "False",
         "False",
         "False"
        ],
        [
         "47",
         "False",
         "False",
         "False",
         "False",
         "False",
         "False",
         "False"
        ],
        [
         "48",
         "False",
         "False",
         "False",
         "False",
         "False",
         "False",
         "False"
        ],
        [
         "49",
         "False",
         "False",
         "False",
         "False",
         "False",
         "False",
         "False"
        ]
       ],
       "shape": {
        "columns": 7,
        "rows": 101860
       }
      },
      "text/html": [
       "<div>\n",
       "<style scoped>\n",
       "    .dataframe tbody tr th:only-of-type {\n",
       "        vertical-align: middle;\n",
       "    }\n",
       "\n",
       "    .dataframe tbody tr th {\n",
       "        vertical-align: top;\n",
       "    }\n",
       "\n",
       "    .dataframe thead th {\n",
       "        text-align: right;\n",
       "    }\n",
       "</style>\n",
       "<table border=\"1\" class=\"dataframe\">\n",
       "  <thead>\n",
       "    <tr style=\"text-align: right;\">\n",
       "      <th></th>\n",
       "      <th>blend_id</th>\n",
       "      <th>component_name</th>\n",
       "      <th>mass_fraction</th>\n",
       "      <th>component_type_title</th>\n",
       "      <th>component_param_title</th>\n",
       "      <th>component_param_value</th>\n",
       "      <th>oil_property_value</th>\n",
       "    </tr>\n",
       "  </thead>\n",
       "  <tbody>\n",
       "    <tr>\n",
       "      <th>0</th>\n",
       "      <td>False</td>\n",
       "      <td>False</td>\n",
       "      <td>False</td>\n",
       "      <td>False</td>\n",
       "      <td>False</td>\n",
       "      <td>False</td>\n",
       "      <td>False</td>\n",
       "    </tr>\n",
       "    <tr>\n",
       "      <th>1</th>\n",
       "      <td>False</td>\n",
       "      <td>False</td>\n",
       "      <td>False</td>\n",
       "      <td>False</td>\n",
       "      <td>False</td>\n",
       "      <td>False</td>\n",
       "      <td>False</td>\n",
       "    </tr>\n",
       "    <tr>\n",
       "      <th>2</th>\n",
       "      <td>False</td>\n",
       "      <td>False</td>\n",
       "      <td>False</td>\n",
       "      <td>False</td>\n",
       "      <td>False</td>\n",
       "      <td>False</td>\n",
       "      <td>False</td>\n",
       "    </tr>\n",
       "    <tr>\n",
       "      <th>3</th>\n",
       "      <td>False</td>\n",
       "      <td>False</td>\n",
       "      <td>False</td>\n",
       "      <td>False</td>\n",
       "      <td>False</td>\n",
       "      <td>False</td>\n",
       "      <td>False</td>\n",
       "    </tr>\n",
       "    <tr>\n",
       "      <th>4</th>\n",
       "      <td>False</td>\n",
       "      <td>False</td>\n",
       "      <td>False</td>\n",
       "      <td>False</td>\n",
       "      <td>False</td>\n",
       "      <td>False</td>\n",
       "      <td>False</td>\n",
       "    </tr>\n",
       "    <tr>\n",
       "      <th>...</th>\n",
       "      <td>...</td>\n",
       "      <td>...</td>\n",
       "      <td>...</td>\n",
       "      <td>...</td>\n",
       "      <td>...</td>\n",
       "      <td>...</td>\n",
       "      <td>...</td>\n",
       "    </tr>\n",
       "    <tr>\n",
       "      <th>101855</th>\n",
       "      <td>False</td>\n",
       "      <td>False</td>\n",
       "      <td>False</td>\n",
       "      <td>False</td>\n",
       "      <td>False</td>\n",
       "      <td>False</td>\n",
       "      <td>False</td>\n",
       "    </tr>\n",
       "    <tr>\n",
       "      <th>101856</th>\n",
       "      <td>False</td>\n",
       "      <td>False</td>\n",
       "      <td>False</td>\n",
       "      <td>False</td>\n",
       "      <td>False</td>\n",
       "      <td>False</td>\n",
       "      <td>False</td>\n",
       "    </tr>\n",
       "    <tr>\n",
       "      <th>101857</th>\n",
       "      <td>False</td>\n",
       "      <td>False</td>\n",
       "      <td>False</td>\n",
       "      <td>False</td>\n",
       "      <td>False</td>\n",
       "      <td>False</td>\n",
       "      <td>False</td>\n",
       "    </tr>\n",
       "    <tr>\n",
       "      <th>101858</th>\n",
       "      <td>False</td>\n",
       "      <td>False</td>\n",
       "      <td>False</td>\n",
       "      <td>False</td>\n",
       "      <td>False</td>\n",
       "      <td>False</td>\n",
       "      <td>False</td>\n",
       "    </tr>\n",
       "    <tr>\n",
       "      <th>101859</th>\n",
       "      <td>False</td>\n",
       "      <td>False</td>\n",
       "      <td>False</td>\n",
       "      <td>False</td>\n",
       "      <td>False</td>\n",
       "      <td>False</td>\n",
       "      <td>False</td>\n",
       "    </tr>\n",
       "  </tbody>\n",
       "</table>\n",
       "<p>101860 rows × 7 columns</p>\n",
       "</div>"
      ],
      "text/plain": [
       "        blend_id  component_name  mass_fraction  component_type_title  \\\n",
       "0          False           False          False                 False   \n",
       "1          False           False          False                 False   \n",
       "2          False           False          False                 False   \n",
       "3          False           False          False                 False   \n",
       "4          False           False          False                 False   \n",
       "...          ...             ...            ...                   ...   \n",
       "101855     False           False          False                 False   \n",
       "101856     False           False          False                 False   \n",
       "101857     False           False          False                 False   \n",
       "101858     False           False          False                 False   \n",
       "101859     False           False          False                 False   \n",
       "\n",
       "        component_param_title  component_param_value  oil_property_value  \n",
       "0                       False                  False               False  \n",
       "1                       False                  False               False  \n",
       "2                       False                  False               False  \n",
       "3                       False                  False               False  \n",
       "4                       False                  False               False  \n",
       "...                       ...                    ...                 ...  \n",
       "101855                  False                  False               False  \n",
       "101856                  False                  False               False  \n",
       "101857                  False                  False               False  \n",
       "101858                  False                  False               False  \n",
       "101859                  False                  False               False  \n",
       "\n",
       "[101860 rows x 7 columns]"
      ]
     },
     "execution_count": 9,
     "metadata": {},
     "output_type": "execute_result"
    }
   ],
   "source": [
    "data.fillna(0, inplace=True)\n",
    "data.isna()"
   ]
  },
  {
   "cell_type": "code",
   "execution_count": 11,
   "id": "8a13540e",
   "metadata": {},
   "outputs": [],
   "source": [
    "label_encoders = {}\n",
    "categorical_columns = [\n",
    "    'blend_id', 'component_name', \n",
    "    'component_type_title', 'component_param_title'\n",
    "    ]\n",
    "one_hot = {}"
   ]
  },
  {
   "cell_type": "code",
   "execution_count": 5,
   "id": "98891b79",
   "metadata": {},
   "outputs": [],
   "source": [
    "for col in categorical_columns:\n",
    "    le = LabelEncoder()\n",
    "    data[col] = le.fit_transform(data[col])\n",
    "    label_encoders[col] = le"
   ]
  },
  {
   "cell_type": "code",
   "execution_count": null,
   "id": "47445124",
   "metadata": {},
   "outputs": [],
   "source": []
  },
  {
   "cell_type": "code",
   "execution_count": 6,
   "id": "e7653d92",
   "metadata": {},
   "outputs": [
    {
     "data": {
      "application/vnd.microsoft.datawrangler.viewer.v0+json": {
       "columns": [
        {
         "name": "index",
         "rawType": "int64",
         "type": "integer"
        },
        {
         "name": "blend_id",
         "rawType": "int64",
         "type": "integer"
        },
        {
         "name": "component_name",
         "rawType": "int64",
         "type": "integer"
        },
        {
         "name": "mass_fraction",
         "rawType": "float64",
         "type": "float"
        },
        {
         "name": "component_type_title",
         "rawType": "int64",
         "type": "integer"
        },
        {
         "name": "component_param_title",
         "rawType": "int64",
         "type": "integer"
        },
        {
         "name": "component_param_value",
         "rawType": "float64",
         "type": "float"
        },
        {
         "name": "oil_property_value",
         "rawType": "float64",
         "type": "float"
        }
       ],
       "conversionMethod": "pd.DataFrame",
       "ref": "1d254f74-f4a3-4942-bd1f-26a8d1640426",
       "rows": [
        [
         "0",
         "418",
         "12",
         "67.0",
         "6",
         "28",
         "0.0",
         "4.52"
        ],
        [
         "1",
         "418",
         "34",
         "33.0",
         "6",
         "53",
         "0.0",
         "4.52"
        ],
        [
         "2",
         "418",
         "12",
         "67.0",
         "6",
         "33",
         "0.0",
         "4.52"
        ],
        [
         "3",
         "418",
         "12",
         "67.0",
         "6",
         "36",
         "1612.0",
         "4.52"
        ],
        [
         "4",
         "418",
         "34",
         "33.0",
         "6",
         "36",
         "2360.0",
         "4.52"
        ],
        [
         "5",
         "418",
         "34",
         "33.0",
         "6",
         "11",
         "0.0",
         "4.52"
        ],
        [
         "6",
         "418",
         "12",
         "67.0",
         "6",
         "11",
         "0.0",
         "4.52"
        ],
        [
         "7",
         "418",
         "12",
         "67.0",
         "6",
         "44",
         "40.0",
         "4.52"
        ],
        [
         "8",
         "418",
         "34",
         "33.0",
         "6",
         "44",
         "40.0",
         "4.52"
        ],
        [
         "9",
         "418",
         "34",
         "33.0",
         "6",
         "14",
         "40.0",
         "4.52"
        ],
        [
         "10",
         "418",
         "34",
         "33.0",
         "6",
         "23",
         "0.0",
         "4.52"
        ],
        [
         "11",
         "418",
         "12",
         "67.0",
         "6",
         "23",
         "0.0",
         "4.52"
        ],
        [
         "12",
         "418",
         "12",
         "67.0",
         "6",
         "32",
         "0.0",
         "4.52"
        ],
        [
         "13",
         "418",
         "34",
         "33.0",
         "6",
         "32",
         "0.0",
         "4.52"
        ],
        [
         "14",
         "418",
         "34",
         "33.0",
         "6",
         "3",
         "0.0001",
         "4.52"
        ],
        [
         "15",
         "418",
         "12",
         "67.0",
         "6",
         "3",
         "9e-05",
         "4.52"
        ],
        [
         "16",
         "418",
         "12",
         "67.0",
         "6",
         "1",
         "4.48",
         "4.52"
        ],
        [
         "17",
         "418",
         "34",
         "33.0",
         "6",
         "1",
         "4.52",
         "4.52"
        ],
        [
         "18",
         "418",
         "12",
         "67.0",
         "6",
         "14",
         "40.0",
         "4.52"
        ],
        [
         "19",
         "418",
         "12",
         "67.0",
         "6",
         "17",
         "0.0",
         "4.52"
        ],
        [
         "20",
         "418",
         "34",
         "33.0",
         "6",
         "47",
         "0.0",
         "4.52"
        ],
        [
         "21",
         "418",
         "12",
         "67.0",
         "6",
         "47",
         "0.0",
         "4.52"
        ],
        [
         "22",
         "418",
         "12",
         "67.0",
         "6",
         "22",
         "0.0",
         "4.52"
        ],
        [
         "23",
         "418",
         "12",
         "67.0",
         "6",
         "8",
         "24.0",
         "4.52"
        ],
        [
         "24",
         "418",
         "12",
         "67.0",
         "6",
         "35",
         "0.0",
         "4.52"
        ],
        [
         "25",
         "418",
         "12",
         "67.0",
         "6",
         "9",
         "372.0",
         "4.52"
        ],
        [
         "26",
         "418",
         "12",
         "67.0",
         "6",
         "53",
         "0.0",
         "4.52"
        ],
        [
         "27",
         "418",
         "12",
         "67.0",
         "6",
         "31",
         "0.0",
         "4.52"
        ],
        [
         "28",
         "418",
         "34",
         "33.0",
         "6",
         "31",
         "0.0",
         "4.52"
        ],
        [
         "29",
         "418",
         "34",
         "33.0",
         "6",
         "13",
         "0.0",
         "4.52"
        ],
        [
         "30",
         "418",
         "12",
         "67.0",
         "6",
         "39",
         "581.0",
         "4.52"
        ],
        [
         "31",
         "418",
         "34",
         "33.0",
         "6",
         "39",
         "778.5",
         "4.52"
        ],
        [
         "32",
         "418",
         "34",
         "33.0",
         "6",
         "6",
         "5.0",
         "4.52"
        ],
        [
         "33",
         "418",
         "12",
         "67.0",
         "6",
         "6",
         "5.0",
         "4.52"
        ],
        [
         "34",
         "418",
         "34",
         "33.0",
         "6",
         "50",
         "0.0",
         "4.52"
        ],
        [
         "35",
         "418",
         "12",
         "67.0",
         "6",
         "50",
         "0.0",
         "4.52"
        ],
        [
         "36",
         "418",
         "12",
         "67.0",
         "6",
         "4",
         "20.0",
         "4.52"
        ],
        [
         "37",
         "418",
         "34",
         "33.0",
         "6",
         "4",
         "70.0",
         "4.52"
        ],
        [
         "38",
         "418",
         "12",
         "67.0",
         "6",
         "43",
         "0.0",
         "4.52"
        ],
        [
         "39",
         "418",
         "34",
         "33.0",
         "6",
         "43",
         "0.0",
         "4.52"
        ],
        [
         "40",
         "418",
         "34",
         "33.0",
         "6",
         "7",
         "112.5",
         "4.52"
        ],
        [
         "41",
         "418",
         "12",
         "67.0",
         "6",
         "7",
         "127.0",
         "4.52"
        ],
        [
         "42",
         "418",
         "34",
         "33.0",
         "6",
         "9",
         "485.0",
         "4.52"
        ],
        [
         "43",
         "418",
         "12",
         "67.0",
         "6",
         "12",
         "0.0",
         "4.52"
        ],
        [
         "44",
         "418",
         "12",
         "67.0",
         "6",
         "51",
         "0.0",
         "4.52"
        ],
        [
         "45",
         "418",
         "12",
         "67.0",
         "6",
         "27",
         "0.0",
         "4.52"
        ],
        [
         "46",
         "418",
         "34",
         "33.0",
         "6",
         "27",
         "0.0",
         "4.52"
        ],
        [
         "47",
         "418",
         "34",
         "33.0",
         "6",
         "41",
         "0.0",
         "4.52"
        ],
        [
         "48",
         "418",
         "12",
         "67.0",
         "6",
         "41",
         "0.0",
         "4.52"
        ],
        [
         "49",
         "418",
         "34",
         "33.0",
         "6",
         "12",
         "0.0",
         "4.52"
        ]
       ],
       "shape": {
        "columns": 7,
        "rows": 101860
       }
      },
      "text/html": [
       "<div>\n",
       "<style scoped>\n",
       "    .dataframe tbody tr th:only-of-type {\n",
       "        vertical-align: middle;\n",
       "    }\n",
       "\n",
       "    .dataframe tbody tr th {\n",
       "        vertical-align: top;\n",
       "    }\n",
       "\n",
       "    .dataframe thead th {\n",
       "        text-align: right;\n",
       "    }\n",
       "</style>\n",
       "<table border=\"1\" class=\"dataframe\">\n",
       "  <thead>\n",
       "    <tr style=\"text-align: right;\">\n",
       "      <th></th>\n",
       "      <th>blend_id</th>\n",
       "      <th>component_name</th>\n",
       "      <th>mass_fraction</th>\n",
       "      <th>component_type_title</th>\n",
       "      <th>component_param_title</th>\n",
       "      <th>component_param_value</th>\n",
       "      <th>oil_property_value</th>\n",
       "    </tr>\n",
       "  </thead>\n",
       "  <tbody>\n",
       "    <tr>\n",
       "      <th>0</th>\n",
       "      <td>418</td>\n",
       "      <td>12</td>\n",
       "      <td>67.00</td>\n",
       "      <td>6</td>\n",
       "      <td>28</td>\n",
       "      <td>0.0</td>\n",
       "      <td>4.52</td>\n",
       "    </tr>\n",
       "    <tr>\n",
       "      <th>1</th>\n",
       "      <td>418</td>\n",
       "      <td>34</td>\n",
       "      <td>33.00</td>\n",
       "      <td>6</td>\n",
       "      <td>53</td>\n",
       "      <td>0.0</td>\n",
       "      <td>4.52</td>\n",
       "    </tr>\n",
       "    <tr>\n",
       "      <th>2</th>\n",
       "      <td>418</td>\n",
       "      <td>12</td>\n",
       "      <td>67.00</td>\n",
       "      <td>6</td>\n",
       "      <td>33</td>\n",
       "      <td>0.0</td>\n",
       "      <td>4.52</td>\n",
       "    </tr>\n",
       "    <tr>\n",
       "      <th>3</th>\n",
       "      <td>418</td>\n",
       "      <td>12</td>\n",
       "      <td>67.00</td>\n",
       "      <td>6</td>\n",
       "      <td>36</td>\n",
       "      <td>1612.0</td>\n",
       "      <td>4.52</td>\n",
       "    </tr>\n",
       "    <tr>\n",
       "      <th>4</th>\n",
       "      <td>418</td>\n",
       "      <td>34</td>\n",
       "      <td>33.00</td>\n",
       "      <td>6</td>\n",
       "      <td>36</td>\n",
       "      <td>2360.0</td>\n",
       "      <td>4.52</td>\n",
       "    </tr>\n",
       "    <tr>\n",
       "      <th>...</th>\n",
       "      <td>...</td>\n",
       "      <td>...</td>\n",
       "      <td>...</td>\n",
       "      <td>...</td>\n",
       "      <td>...</td>\n",
       "      <td>...</td>\n",
       "      <td>...</td>\n",
       "    </tr>\n",
       "    <tr>\n",
       "      <th>101855</th>\n",
       "      <td>118</td>\n",
       "      <td>1</td>\n",
       "      <td>49.69</td>\n",
       "      <td>3</td>\n",
       "      <td>38</td>\n",
       "      <td>0.0</td>\n",
       "      <td>10.09</td>\n",
       "    </tr>\n",
       "    <tr>\n",
       "      <th>101856</th>\n",
       "      <td>118</td>\n",
       "      <td>22</td>\n",
       "      <td>19.80</td>\n",
       "      <td>4</td>\n",
       "      <td>38</td>\n",
       "      <td>0.0</td>\n",
       "      <td>10.09</td>\n",
       "    </tr>\n",
       "    <tr>\n",
       "      <th>101857</th>\n",
       "      <td>118</td>\n",
       "      <td>16</td>\n",
       "      <td>29.70</td>\n",
       "      <td>4</td>\n",
       "      <td>38</td>\n",
       "      <td>3600.0</td>\n",
       "      <td>10.09</td>\n",
       "    </tr>\n",
       "    <tr>\n",
       "      <th>101858</th>\n",
       "      <td>118</td>\n",
       "      <td>16</td>\n",
       "      <td>29.70</td>\n",
       "      <td>4</td>\n",
       "      <td>39</td>\n",
       "      <td>0.0</td>\n",
       "      <td>10.09</td>\n",
       "    </tr>\n",
       "    <tr>\n",
       "      <th>101859</th>\n",
       "      <td>118</td>\n",
       "      <td>16</td>\n",
       "      <td>29.70</td>\n",
       "      <td>4</td>\n",
       "      <td>11</td>\n",
       "      <td>0.0</td>\n",
       "      <td>10.09</td>\n",
       "    </tr>\n",
       "  </tbody>\n",
       "</table>\n",
       "<p>101860 rows × 7 columns</p>\n",
       "</div>"
      ],
      "text/plain": [
       "        blend_id  component_name  mass_fraction  component_type_title  \\\n",
       "0            418              12          67.00                     6   \n",
       "1            418              34          33.00                     6   \n",
       "2            418              12          67.00                     6   \n",
       "3            418              12          67.00                     6   \n",
       "4            418              34          33.00                     6   \n",
       "...          ...             ...            ...                   ...   \n",
       "101855       118               1          49.69                     3   \n",
       "101856       118              22          19.80                     4   \n",
       "101857       118              16          29.70                     4   \n",
       "101858       118              16          29.70                     4   \n",
       "101859       118              16          29.70                     4   \n",
       "\n",
       "        component_param_title  component_param_value  oil_property_value  \n",
       "0                          28                    0.0                4.52  \n",
       "1                          53                    0.0                4.52  \n",
       "2                          33                    0.0                4.52  \n",
       "3                          36                 1612.0                4.52  \n",
       "4                          36                 2360.0                4.52  \n",
       "...                       ...                    ...                 ...  \n",
       "101855                     38                    0.0               10.09  \n",
       "101856                     38                    0.0               10.09  \n",
       "101857                     38                 3600.0               10.09  \n",
       "101858                     39                    0.0               10.09  \n",
       "101859                     11                    0.0               10.09  \n",
       "\n",
       "[101860 rows x 7 columns]"
      ]
     },
     "execution_count": 6,
     "metadata": {},
     "output_type": "execute_result"
    }
   ],
   "source": [
    "data"
   ]
  },
  {
   "cell_type": "code",
   "execution_count": 50,
   "id": "eb13b1aa",
   "metadata": {},
   "outputs": [],
   "source": [
    "X = data.drop(columns=['oil_property_value']).values\n",
    "y = data['oil_property_value'].values"
   ]
  },
  {
   "cell_type": "code",
   "execution_count": 51,
   "id": "3d119653",
   "metadata": {},
   "outputs": [],
   "source": [
    "scaler = StandardScaler()\n",
    "X_scaled = scaler.fit_transform(X)"
   ]
  },
  {
   "cell_type": "code",
   "execution_count": 52,
   "id": "c8e2d191",
   "metadata": {},
   "outputs": [],
   "source": [
    "X_train, X_test, y_train, y_test = train_test_split(\n",
    "    X_scaled, y, \n",
    "    test_size=0.2, random_state=42\n",
    "    )"
   ]
  },
  {
   "cell_type": "code",
   "execution_count": 53,
   "id": "ab48481c",
   "metadata": {},
   "outputs": [],
   "source": [
    "X_train_tensor = torch.tensor(X_train, dtype=torch.float32)\n",
    "X_test_tensor = torch.tensor(X_test, dtype=torch.float32)\n",
    "y_train_tensor = torch.tensor(y_train, dtype=torch.float32).view(-1, 1)\n",
    "y_test_tensor = torch.tensor(y_test, dtype=torch.float32).view(-1, 1)"
   ]
  },
  {
   "cell_type": "code",
   "execution_count": 54,
   "id": "213624f6",
   "metadata": {},
   "outputs": [],
   "source": [
    "class PredictorOil(nn.Module):\n",
    "    def __init__(self, input_dim):\n",
    "        super(PredictorOil, self).__init__()\n",
    "        self.layers = nn.Sequential(\n",
    "            nn.Linear(input_dim, 128),\n",
    "            nn.ReLU(),\n",
    "            nn.Dropout(0.2),\n",
    "            nn.Linear(128, 64),\n",
    "            nn.ReLU(),\n",
    "            nn.Dropout(0.2),\n",
    "            nn.Linear(64, 32),\n",
    "            nn.ReLU(),\n",
    "            nn.Linear(32, 1) \n",
    "        )\n",
    "    \n",
    "    def forward(self, x):\n",
    "        return self.layers(x)"
   ]
  },
  {
   "cell_type": "code",
   "execution_count": 55,
   "id": "d4f30815",
   "metadata": {},
   "outputs": [],
   "source": [
    "input_dim = X_train.shape[1]\n",
    "model = PredictorOil(input_dim)"
   ]
  },
  {
   "cell_type": "code",
   "execution_count": 61,
   "id": "0311f270",
   "metadata": {},
   "outputs": [],
   "source": [
    "criterion = nn.L1Loss()  \n",
    "optimizer = optim.Adam(model.parameters(), lr=0.0005)"
   ]
  },
  {
   "cell_type": "code",
   "execution_count": 62,
   "id": "d437e124",
   "metadata": {},
   "outputs": [],
   "source": [
    "scheduler = torch.optim.lr_scheduler.ReduceLROnPlateau(optimizer, mode='min', factor=0.1, patience=5)"
   ]
  },
  {
   "cell_type": "code",
   "execution_count": 71,
   "id": "f51b064d",
   "metadata": {},
   "outputs": [
    {
     "data": {
      "image/png": "[encoded data removed]",
      "text/plain": [
       "<Figure size 640x480 with 1 Axes>"
      ]
     },
     "metadata": {},
     "output_type": "display_data"
    }
   ],
   "source": [
    "import matplotlib.pyplot as plt\n",
    "\n",
    "plt.hist(y_train, bins=50)\n",
    "plt.title(\"Distribution of Target Variable\")\n",
    "plt.xlim(0, 50)\n",
    "plt.show()"
   ]
  },
  {
   "cell_type": "code",
   "execution_count": 64,
   "id": "f65100c6",
   "metadata": {},
   "outputs": [],
   "source": [
    "num_epochs = 100\n",
    "batch_size = 64"
   ]
  },
  {
   "cell_type": "code",
   "execution_count": 65,
   "id": "4c01d1e7",
   "metadata": {},
   "outputs": [
    {
     "name": "stderr",
     "output_type": "stream",
     "text": [
      " 10%|█         | 10/100 [00:03<00:30,  2.97it/s]"
     ]
    },
    {
     "name": "stdout",
     "output_type": "stream",
     "text": [
      "Epoch [10/100], Loss: 1.1988\n"
     ]
    },
    {
     "name": "stderr",
     "output_type": "stream",
     "text": [
      " 20%|██        | 20/100 [00:06<00:26,  3.01it/s]"
     ]
    },
    {
     "name": "stdout",
     "output_type": "stream",
     "text": [
      "Epoch [20/100], Loss: 0.4027\n"
     ]
    },
    {
     "name": "stderr",
     "output_type": "stream",
     "text": [
      " 30%|███       | 30/100 [00:10<00:23,  3.01it/s]"
     ]
    },
    {
     "name": "stdout",
     "output_type": "stream",
     "text": [
      "Epoch [30/100], Loss: 1.4456\n"
     ]
    },
    {
     "name": "stderr",
     "output_type": "stream",
     "text": [
      " 40%|████      | 40/100 [00:13<00:20,  3.00it/s]"
     ]
    },
    {
     "name": "stdout",
     "output_type": "stream",
     "text": [
      "Epoch [40/100], Loss: 0.4669\n"
     ]
    },
    {
     "name": "stderr",
     "output_type": "stream",
     "text": [
      " 50%|█████     | 50/100 [00:16<00:17,  2.93it/s]"
     ]
    },
    {
     "name": "stdout",
     "output_type": "stream",
     "text": [
      "Epoch [50/100], Loss: 0.7651\n"
     ]
    },
    {
     "name": "stderr",
     "output_type": "stream",
     "text": [
      " 60%|██████    | 60/100 [00:20<00:13,  2.98it/s]"
     ]
    },
    {
     "name": "stdout",
     "output_type": "stream",
     "text": [
      "Epoch [60/100], Loss: 0.4571\n"
     ]
    },
    {
     "name": "stderr",
     "output_type": "stream",
     "text": [
      " 70%|███████   | 70/100 [00:23<00:10,  2.92it/s]"
     ]
    },
    {
     "name": "stdout",
     "output_type": "stream",
     "text": [
      "Epoch [70/100], Loss: 0.6682\n"
     ]
    },
    {
     "name": "stderr",
     "output_type": "stream",
     "text": [
      " 80%|████████  | 80/100 [00:26<00:06,  3.00it/s]"
     ]
    },
    {
     "name": "stdout",
     "output_type": "stream",
     "text": [
      "Epoch [80/100], Loss: 0.6836\n"
     ]
    },
    {
     "name": "stderr",
     "output_type": "stream",
     "text": [
      " 90%|█████████ | 90/100 [00:30<00:03,  3.00it/s]"
     ]
    },
    {
     "name": "stdout",
     "output_type": "stream",
     "text": [
      "Epoch [90/100], Loss: 0.6486\n"
     ]
    },
    {
     "name": "stderr",
     "output_type": "stream",
     "text": [
      "100%|██████████| 100/100 [00:33<00:00,  2.97it/s]"
     ]
    },
    {
     "name": "stdout",
     "output_type": "stream",
     "text": [
      "Epoch [100/100], Loss: 0.5142\n"
     ]
    },
    {
     "name": "stderr",
     "output_type": "stream",
     "text": [
      "\n"
     ]
    }
   ],
   "source": [
    "for epoch in tqdm(range(num_epochs)):\n",
    "    indices = torch.randperm(X_train_tensor.size(0))\n",
    "    X_train_shuffled = X_train_tensor[indices]\n",
    "    y_train_shuffled = y_train_tensor[indices]\n",
    "    \n",
    "    for i in range(0, X_train_tensor.size(0), batch_size):\n",
    "        X_batch = X_train_shuffled[i:i + batch_size]\n",
    "        y_batch = y_train_shuffled[i:i + batch_size]\n",
    "        \n",
    "        outputs = model(X_batch)\n",
    "        loss = criterion(outputs, y_batch)\n",
    "        \n",
    "        optimizer.zero_grad()\n",
    "        loss.backward()\n",
    "        optimizer.step()\n",
    "    \n",
    "    if (epoch + 1) % 10 == 0:\n",
    "        print(f'Epoch [{epoch+1}/{num_epochs}], Loss: {loss.item():.4f}')"
   ]
  },
  {
   "cell_type": "code",
   "execution_count": 66,
   "id": "9d3099bb",
   "metadata": {},
   "outputs": [
    {
     "name": "stdout",
     "output_type": "stream",
     "text": [
      "MAE: 0.5991\n"
     ]
    }
   ],
   "source": [
    "model.eval()\n",
    "with torch.no_grad():\n",
    "    predictions = model(X_test_tensor)\n",
    "    test_loss = criterion(predictions, y_test_tensor)\n",
    "    print(f\"MAE: {test_loss.item():.4f}\")"
   ]
  },
  {
   "cell_type": "code",
   "execution_count": 67,
   "id": "c31ec088",
   "metadata": {},
   "outputs": [],
   "source": [
    "predictions_np = predictions.numpy().flatten()\n",
    "actual_values = y_test_tensor.numpy().flatten()"
   ]
  },
  {
   "cell_type": "code",
   "execution_count": 68,
   "id": "88f76e08",
   "metadata": {},
   "outputs": [
    {
     "name": "stdout",
     "output_type": "stream",
     "text": [
      "Predicted oil_property_values: [5.655973  5.902134  7.338442  6.9619627 6.680094 ]\n",
      "Actual oil_property_values: [5.696 5.965 5.965 6.92  6.933]\n"
     ]
    }
   ],
   "source": [
    "print(\"Predicted oil_property_values:\", predictions_np[:5])\n",
    "print(\"Actual oil_property_values:\", actual_values[:5])"
   ]
  }
 ],
 "metadata": {
  "kernelspec": {
   "display_name": ".venv",
   "language": "python",
   "name": "python3"
  },
  "language_info": {
   "codemirror_mode": {
    "name": "ipython",
    "version": 3
   },
   "file_extension": ".py",
   "mimetype": "text/x-python",
   "name": "python",
   "nbconvert_exporter": "python",
   "pygments_lexer": "ipython3",
   "version": "3.13.2"
  }
 },
 "nbformat": 4,
 "nbformat_minor": 5
}
