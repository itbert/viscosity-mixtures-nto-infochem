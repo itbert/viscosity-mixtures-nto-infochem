{
 "cells": [
  {
   "cell_type": "code",
   "execution_count": 1,
   "id": "ff948dd0",
   "metadata": {},
   "outputs": [],
   "source": [
    "from classes.descriptors import Smiles2Descriptors"
   ]
  },
  {
   "cell_type": "code",
   "execution_count": 2,
   "id": "5d13e883",
   "metadata": {},
   "outputs": [],
   "source": [
    "mola = Smiles2Descriptors('CCO')"
   ]
  },
  {
   "cell_type": "code",
   "execution_count": 3,
   "id": "80b4a789",
   "metadata": {},
   "outputs": [
    {
     "data": {
      "text/plain": [
       "56.75753573499999"
      ]
     },
     "execution_count": 3,
     "metadata": {},
     "output_type": "execute_result"
    }
   ],
   "source": [
    "mola.vdw_volume"
   ]
  },
  {
   "cell_type": "code",
   "execution_count": 4,
   "id": "134455ef",
   "metadata": {},
   "outputs": [],
   "source": [
    "from rdkit.Chem import AllChem\n",
    "from rdkit import Chem"
   ]
  },
  {
   "cell_type": "code",
   "execution_count": 10,
   "id": "d508a6d8",
   "metadata": {},
   "outputs": [
    {
     "name": "stdout",
     "output_type": "stream",
     "text": [
      "100.18687589499996\n"
     ]
    }
   ],
   "source": [
    "mol = Chem.MolFromSmiles('CCO')\n",
    "mol = Chem.AddHs(mol)\n",
    "\n",
    "volume = 0\n",
    "for atom in mol.GetAtoms():\n",
    "    radius = Chem.GetPeriodicTable().GetRvdw(atom.GetAtomicNum())\n",
    "    volume += (4/3) * 3.14159 * (radius ** 3)\n",
    "\n",
    "print(volume)"
   ]
  }
 ],
 "metadata": {
  "kernelspec": {
   "display_name": ".venv",
   "language": "python",
   "name": "python3"
  },
  "language_info": {
   "codemirror_mode": {
    "name": "ipython",
    "version": 3
   },
   "file_extension": ".py",
   "mimetype": "text/x-python",
   "name": "python",
   "nbconvert_exporter": "python",
   "pygments_lexer": "ipython3",
   "version": "3.13.2"
  }
 },
 "nbformat": 4,
 "nbformat_minor": 5
}
