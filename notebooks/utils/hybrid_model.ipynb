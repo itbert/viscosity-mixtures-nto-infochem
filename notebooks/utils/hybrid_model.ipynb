{
 "cells": [
  {
   "cell_type": "code",
   "execution_count": 1,
   "id": "63ad72c9",
   "metadata": {},
   "outputs": [],
   "source": [
    "from classes.descriptors import Smiles2Descriptors\n",
    "import pandas as pd"
   ]
  },
  {
   "cell_type": "markdown",
   "id": "e39479b7",
   "metadata": {},
   "source": [
    "data"
   ]
  },
  {
   "cell_type": "code",
   "execution_count": 7,
   "id": "b0aca906",
   "metadata": {},
   "outputs": [
    {
     "data": {
      "text/plain": [
       "SMILES: CCO\n",
       "Descriptors:\n",
       "  LogP: -0.00\n",
       "  TPSA: 20.23\n",
       "  Molecular Weight: 46.07\n",
       "  Total Bonds: 2\n",
       "  Rotatable Bonds: 2\n",
       "  Non-Rotatable Bonds: 0\n",
       "  Van der Waals Volume: 100.19\n",
       "  Fraction of non-rotatable bounds: 0.00\n",
       "  Num atoms: 9\n",
       "  Degree of branching: 0.0\n",
       "  Dipole Moment: 1.62 D"
      ]
     },
     "execution_count": 7,
     "metadata": {},
     "output_type": "execute_result"
    }
   ],
   "source": [
    "mola = Smiles2Descriptors('CCO')\n",
    "mola"
   ]
  },
  {
   "cell_type": "code",
   "execution_count": 8,
   "id": "93435dd4",
   "metadata": {},
   "outputs": [],
   "source": [
    "input_df = pd.read_csv(\"data/NTO_smiles_encoded.csv\")"
   ]
  },
  {
   "cell_type": "code",
   "execution_count": 9,
   "id": "5957d042",
   "metadata": {},
   "outputs": [],
   "source": [
    "def calculate_descriptors(smiles):\n",
    "    try:\n",
    "        descriptor = Smiles2Descriptors(smiles)\n",
    "        return descriptor.as_vector()\n",
    "    except ValueError as e:\n",
    "        print(f\"Ошибка при обработке {smiles}: {e}\")\n",
    "        return [None] * 6 \n",
    "    except Exception as e:\n",
    "        print(f\"Неизвестная ошибка для {smiles}: {e}\")\n",
    "        return [None] * 6"
   ]
  },
  {
   "cell_type": "code",
   "execution_count": 10,
   "id": "19232faa",
   "metadata": {},
   "outputs": [],
   "source": [
    "descriptor_labels = [\n",
    "    \"LogP\",\n",
    "    \"TPSA\",\n",
    "    \"MolWt\",\n",
    "    \"Van_Der_Waals volume\"\n",
    "    \"Fraction_non_rotatable_bounds\",\n",
    "    \"num_atoms\",\n",
    "    \"Degree_of_branching\"\n",
    "]"
   ]
  },
  {
   "cell_type": "code",
   "execution_count": 12,
   "id": "6d9dcadb",
   "metadata": {},
   "outputs": [
    {
     "name": "stderr",
     "output_type": "stream",
     "text": [
      "[23:01:00] SMILES Parse Error: syntax error while parsing: O=S(C1=CC=C([C18H21])C=C1)(O)=O\n",
      "[23:01:00] SMILES Parse Error: check for mistakes around position 15:\n",
      "[23:01:00] O=S(C1=CC=C([C18H21])C=C1)(O)=O\n",
      "[23:01:00] ~~~~~~~~~~~~~~^\n",
      "[23:01:00] SMILES Parse Error: Failed parsing SMILES 'O=S(C1=CC=C([C18H21])C=C1)(O)=O' for input: 'O=S(C1=CC=C([C18H21])C=C1)(O)=O'\n"
     ]
    },
    {
     "name": "stdout",
     "output_type": "stream",
     "text": [
      "Ошибка при обработке O=S(C1=CC=C([C18H21])C=C1)(O)=O: Неверный SMILES\n"
     ]
    },
    {
     "name": "stderr",
     "output_type": "stream",
     "text": [
      "[23:01:01] UFFTYPER: Unrecognized atom type: Ca1+2 (13)\n"
     ]
    },
    {
     "name": "stdout",
     "output_type": "stream",
     "text": [
      "Ошибка при обработке CCC(C(OC[CH2](C)CCCCCCC[CH2])=O)C: Неверный SMILES\n"
     ]
    },
    {
     "name": "stderr",
     "output_type": "stream",
     "text": [
      "[23:01:01] Explicit valence for atom # 6 C, 5, is greater than permitted\n"
     ]
    }
   ],
   "source": [
    "descriptors_data = []\n",
    "for smiles in input_df['smiles']:\n",
    "    descriptors = calculate_descriptors(smiles)\n",
    "    descriptors_data.append(descriptors)"
   ]
  },
  {
   "cell_type": "code",
   "execution_count": 13,
   "id": "aa61e29c",
   "metadata": {},
   "outputs": [
    {
     "data": {
      "text/plain": [
       "[array([2.83260000e+00, 0.00000000e+00, 1.00205000e+02, 2.59868356e+02,\n",
       "        0.00000000e+00, 2.30000000e+01, 1.42857143e-01, 1.80556106e-02]),\n",
       " array([1.00582000e+01, 0.00000000e+00, 3.80745000e+02, 9.60988060e+02,\n",
       "        0.00000000e+00, 8.30000000e+01, 1.85185185e-01, 6.40083341e-02]),\n",
       " array([1.01004000e+01, 0.00000000e+00, 3.66718000e+02, 9.25932075e+02,\n",
       "        0.00000000e+00, 8.00000000e+01, 7.69230769e-02, 6.60497261e-03]),\n",
       " array([9.07420000e+00, 0.00000000e+00, 3.24637000e+02, 8.20764119e+02,\n",
       "        0.00000000e+00, 7.10000000e+01, 4.34782609e-02, 2.12579585e-02]),\n",
       " array([-4.68380000e-01,  1.05500000e+02,  2.82344000e+02,  5.42199622e+02,\n",
       "         5.00000000e-01,  4.20000000e+01,  1.00000000e-01,  3.51820937e+00]),\n",
       " array([3.54610000e+00, 2.63000000e+01, 2.00322000e+02, 4.51868885e+02,\n",
       "        1.53846154e-01, 3.80000000e+01, 1.42857143e-01, 3.26332434e-01]),\n",
       " array([2.83260000e+00, 0.00000000e+00, 1.12216000e+02, 2.80447882e+02,\n",
       "        7.50000000e-01, 2.40000000e+01, 0.00000000e+00, 3.63004542e-03]),\n",
       " [None, None, None, None, None, None],\n",
       " array([9.17610000e+00, 0.00000000e+00, 3.38664000e+02, 8.55820104e+02,\n",
       "        0.00000000e+00, 7.40000000e+01, 1.25000000e-01, 1.86920136e-02]),\n",
       " array([8.00580000e+00, 0.00000000e+00, 2.96583000e+02, 7.50652149e+02,\n",
       "        0.00000000e+00, 6.50000000e+01, 1.42857143e-01, 7.89431911e-02]),\n",
       " array([7.90390000e+00, 0.00000000e+00, 2.82556000e+02, 7.15596163e+02,\n",
       "        0.00000000e+00, 6.20000000e+01, 5.00000000e-02, 8.34298806e-03]),\n",
       " array([8.39590000e+00, 0.00000000e+00, 3.10610000e+02, 7.85708134e+02,\n",
       "        0.00000000e+00, 6.80000000e+01, 1.36363636e-01, 2.02466729e-02]),\n",
       " array([4.33100000e+00, 9.30600000e+01, 4.26522000e+02, 7.92440567e+02,\n",
       "        5.33333333e-01, 5.50000000e+01, 1.37931034e-01,            nan]),\n",
       " array([4.48290000e+00, 4.65300000e+01, 3.06446000e+02, 6.54953477e+02,\n",
       "        7.27272727e-01, 5.20000000e+01, 3.18181818e-01, 1.86597091e+00]),\n",
       " array([5.02420000e+00, 8.67900000e+01, 5.15357000e+02, 1.10810047e+03,\n",
       "        7.89473684e-01, 8.80000000e+01, 3.78378378e-01, 2.18124422e+00]),\n",
       " array([7.52780000e+00, 3.24000000e+00, 3.37551000e+02, 7.64403947e+02,\n",
       "        4.61538462e-01, 6.00000000e+01, 4.00000000e-02, 6.83746514e-01]),\n",
       " array([2.11980000e+00, 4.77800000e+01, 2.23235000e+02, 3.99748292e+02,\n",
       "        9.47368421e-01, 2.60000000e+01, 5.88235294e-02, 4.91430402e+00]),\n",
       " array([2.19650000e+00, 0.00000000e+00, 7.21510000e+01, 1.89756385e+02,\n",
       "        0.00000000e+00, 1.70000000e+01, 0.00000000e+00, 5.88221455e-03]),\n",
       " array([2.44250000e+00, 0.00000000e+00, 8.61780000e+01, 2.24812370e+02,\n",
       "        0.00000000e+00, 2.00000000e+01, 1.66666667e-01, 6.07664371e-03]),\n",
       " array([1.91900000e+00, 5.26000000e+01, 2.16277000e+02, 4.33533503e+02,\n",
       "        2.85714286e-01, 3.50000000e+01, 2.00000000e-01, 5.15290900e-01]),\n",
       " array([2.30910000e+00, 5.26000000e+01, 2.30304000e+02, 4.68589488e+02,\n",
       "        2.66666667e-01, 3.80000000e+01, 1.87500000e-01, 5.02093452e-01]),\n",
       " array([3.59910000e+00, 9.23000000e+00, 1.92730000e+02, 3.97825637e+02,\n",
       "        9.09090909e-02, 3.30000000e+01, 1.66666667e-01, 2.54304568e+00]),\n",
       " array([1.75630000e+00, 3.55300000e+01, 1.74240000e+02, 3.62299460e+02,\n",
       "        1.81818182e-01, 3.00000000e+01, 8.33333333e-02, 2.01675892e+00]),\n",
       " array([1.59560000e+00, 2.63000000e+01, 1.30187000e+02, 2.76588959e+02,\n",
       "        2.50000000e-01, 2.30000000e+01, 3.33333333e-01, 3.19848286e-01]),\n",
       " array([2.5866000e+00, 0.0000000e+00, 8.6178000e+01, 2.2481237e+02,\n",
       "        0.0000000e+00, 2.0000000e+01, 0.0000000e+00, 1.3491272e-06]),\n",
       " [None, None, None, None, None, None],\n",
       " array([1.59560000e+00, 2.63000000e+01, 1.30187000e+02, 2.76588959e+02,\n",
       "        2.50000000e-01, 2.30000000e+01, 2.22222222e-01, 3.12992629e-01]),\n",
       " array([1.98570000e+00, 2.63000000e+01, 1.44214000e+02, 3.11644944e+02,\n",
       "        2.22222222e-01, 2.60000000e+01, 3.00000000e-01, 3.41706844e-01]),\n",
       " array([8.23610000e+00, 0.00000000e+00, 3.06578000e+02, 7.56755216e+02,\n",
       "        9.52380952e-02, 6.40000000e+01, 9.09090909e-02, 9.98317964e-02]),\n",
       " array([1.59560000e+00, 2.63000000e+01, 1.30187000e+02, 2.76588959e+02,\n",
       "        2.50000000e-01, 2.30000000e+01, 3.33333333e-01, 3.22801668e-01]),\n",
       " array([  1.2055    ,  26.3       , 116.16      , 241.53297359,\n",
       "          0.85714286,  20.        ,   0.375     ,   0.32794866]),\n",
       " array([3.22270000e+00, 0.00000000e+00, 1.14232000e+02, 2.94924341e+02,\n",
       "        0.00000000e+00, 2.60000000e+01, 1.25000000e-01, 1.11211743e-02]),\n",
       " array([3.46870000e+00, 0.00000000e+00, 1.28259000e+02, 3.29980326e+02,\n",
       "        1.00000000e+00, 2.90000000e+01, 4.44444444e-01, 4.38864868e-02]),\n",
       " array([2.83260000e+00, 0.00000000e+00, 1.00205000e+02, 2.59868356e+02,\n",
       "        0.00000000e+00, 2.30000000e+01, 1.42857143e-01, 1.41199109e-02]),\n",
       " array([2.83260000e+00, 0.00000000e+00, 1.00205000e+02, 2.59868356e+02,\n",
       "        0.00000000e+00, 2.30000000e+01, 2.85714286e-01, 1.11394657e-02]),\n",
       " array([2.97670000e+00, 0.00000000e+00, 1.00205000e+02, 2.59868356e+02,\n",
       "        0.00000000e+00, 2.30000000e+01, 0.00000000e+00, 4.93058958e-03]),\n",
       " array([3.22270000e+00, 0.00000000e+00, 1.14232000e+02, 2.94924341e+02,\n",
       "        0.00000000e+00, 2.60000000e+01, 1.25000000e-01, 1.24542693e-02]),\n",
       " array([3.32460000e+00, 0.00000000e+00, 1.28259000e+02, 3.29980326e+02,\n",
       "        5.00000000e-01, 2.90000000e+01, 4.44444444e-01, 2.98421890e-02]),\n",
       " array([3.22270000e+00, 0.00000000e+00, 1.14232000e+02, 2.94924341e+02,\n",
       "        0.00000000e+00, 2.60000000e+01, 1.25000000e-01, 6.36751946e-03])]"
      ]
     },
     "execution_count": 13,
     "metadata": {},
     "output_type": "execute_result"
    }
   ],
   "source": [
    "descriptors_data"
   ]
  },
  {
   "cell_type": "code",
   "execution_count": 22,
   "id": "e7b4d862",
   "metadata": {},
   "outputs": [
    {
     "data": {
      "text/plain": [
       "0          4.52\n",
       "1          4.52\n",
       "2          4.52\n",
       "3          4.52\n",
       "4          4.52\n",
       "          ...  \n",
       "101855    10.09\n",
       "101856    10.09\n",
       "101857    10.09\n",
       "101858    10.09\n",
       "101859    10.09\n",
       "Name: oil_property_value, Length: 101860, dtype: float64"
      ]
     },
     "execution_count": 22,
     "metadata": {},
     "output_type": "execute_result"
    }
   ],
   "source": [
    "target = df_merged['oil_property_value']\n",
    "target"
   ]
  },
  {
   "cell_type": "markdown",
   "id": "6aa023fb",
   "metadata": {},
   "source": [
    "first model"
   ]
  },
  {
   "cell_type": "code",
   "execution_count": null,
   "id": "13ee8350",
   "metadata": {},
   "outputs": [],
   "source": [
    "from sklearn.model_selection import train_test_split\n",
    "import numpy as np"
   ]
  },
  {
   "cell_type": "code",
   "execution_count": null,
   "id": "497be5f5",
   "metadata": {},
   "outputs": [],
   "source": [
    "X_smiles = np.array(descriptors_list)\n",
    "y_smiles = target_values  # Целевые значения для SMILES\n",
    "X_train_smiles, X_val_smiles, y_train_smiles, y_val_smiles = train_test_split(X_smiles, y_smiles, test_size=0.2, random_state=42)"
   ]
  }
 ],
 "metadata": {
  "kernelspec": {
   "display_name": ".venv",
   "language": "python",
   "name": "python3"
  },
  "language_info": {
   "codemirror_mode": {
    "name": "ipython",
    "version": 3
   },
   "file_extension": ".py",
   "mimetype": "text/x-python",
   "name": "python",
   "nbconvert_exporter": "python",
   "pygments_lexer": "ipython3",
   "version": "3.13.2"
  }
 },
 "nbformat": 4,
 "nbformat_minor": 5
}
