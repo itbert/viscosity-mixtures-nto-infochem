{
 "cells": [
  {
   "cell_type": "code",
   "execution_count": 1,
   "id": "e4bafb8c",
   "metadata": {},
   "outputs": [],
   "source": [
    "import pandas as pd\n",
    "from classes.descriptors import Smiles2Descriptors  "
   ]
  },
  {
   "cell_type": "code",
   "execution_count": 4,
   "id": "081cb09e",
   "metadata": {},
   "outputs": [],
   "source": [
    "def calculate_descriptors(smiles):\n",
    "    try:\n",
    "        descriptor = Smiles2Descriptors(smiles)\n",
    "        return descriptor.as_vector()\n",
    "    except ValueError as e:\n",
    "        print(f\"Ошибка при обработке {smiles}: {e}\")\n",
    "        return [None] * 8\n",
    "    except Exception as e:\n",
    "        print(f\"Неизвестная ошибка для {smiles}: {e}\")\n",
    "        return [None] * 8"
   ]
  },
  {
   "cell_type": "code",
   "execution_count": 5,
   "id": "47db3e34",
   "metadata": {},
   "outputs": [],
   "source": [
    "input_df = pd.read_csv(\"data/NTO_smiles_encoded.csv\")"
   ]
  },
  {
   "cell_type": "code",
   "execution_count": 6,
   "id": "b37b6822",
   "metadata": {},
   "outputs": [],
   "source": [
    "descriptor_labels = [\n",
    "    \"LogP\",\n",
    "    \"TPSA\",\n",
    "    \"MolWt\",\n",
    "    \"Van_Der_Waals volume\"\n",
    "    \"Fraction_non_rotatable_bounds\",\n",
    "    \"num_atoms\",\n",
    "    \"Degree_of_branching\"\n",
    "]"
   ]
  },
  {
   "cell_type": "code",
   "execution_count": 7,
   "id": "ecdd36a1",
   "metadata": {},
   "outputs": [
    {
     "name": "stderr",
     "output_type": "stream",
     "text": [
      "[11:16:30] SMILES Parse Error: syntax error while parsing: O=S(C1=CC=C([C18H21])C=C1)(O)=O\n",
      "[11:16:30] SMILES Parse Error: check for mistakes around position 15:\n",
      "[11:16:30] O=S(C1=CC=C([C18H21])C=C1)(O)=O\n",
      "[11:16:30] ~~~~~~~~~~~~~~^\n",
      "[11:16:30] SMILES Parse Error: Failed parsing SMILES 'O=S(C1=CC=C([C18H21])C=C1)(O)=O' for input: 'O=S(C1=CC=C([C18H21])C=C1)(O)=O'\n"
     ]
    },
    {
     "name": "stdout",
     "output_type": "stream",
     "text": [
      "Ошибка при обработке O=S(C1=CC=C([C18H21])C=C1)(O)=O: Неверный SMILES\n"
     ]
    },
    {
     "name": "stderr",
     "output_type": "stream",
     "text": [
      "[11:16:30] UFFTYPER: Unrecognized atom type: Ca1+2 (13)\n"
     ]
    },
    {
     "name": "stdout",
     "output_type": "stream",
     "text": [
      "Ошибка при обработке CCC(C(OC[CH2](C)CCCCCCC[CH2])=O)C: Неверный SMILES\n"
     ]
    },
    {
     "name": "stderr",
     "output_type": "stream",
     "text": [
      "[11:16:30] Explicit valence for atom # 6 C, 5, is greater than permitted\n"
     ]
    }
   ],
   "source": [
    "descriptors_data = []\n",
    "for smiles in input_df['smiles']:\n",
    "    descriptors = calculate_descriptors(smiles)\n",
    "    descriptors_data.append(descriptors)"
   ]
  },
  {
   "cell_type": "code",
   "execution_count": 10,
   "id": "90cd3803",
   "metadata": {},
   "outputs": [],
   "source": [
    "\n",
    "# Создание финального DataFrame\n",
    "result_df = pd.DataFrame(\n",
    "    data={\n",
    "        'SMILES': input_df['smiles'],\n",
    "        **{name: [d[i] for d in descriptors_data] for i, name in enumerate(descriptor_labels)}\n",
    "    }\n",
    ")\n",
    "\n",
    "# Сохранение результатов\n",
    "result_df.to_csv(\"output.csv\", index=False)"
   ]
  }
 ],
 "metadata": {
  "kernelspec": {
   "display_name": ".venv",
   "language": "python",
   "name": "python3"
  },
  "language_info": {
   "codemirror_mode": {
    "name": "ipython",
    "version": 3
   },
   "file_extension": ".py",
   "mimetype": "text/x-python",
   "name": "python",
   "nbconvert_exporter": "python",
   "pygments_lexer": "ipython3",
   "version": "3.13.2"
  }
 },
 "nbformat": 4,
 "nbformat_minor": 5
}
