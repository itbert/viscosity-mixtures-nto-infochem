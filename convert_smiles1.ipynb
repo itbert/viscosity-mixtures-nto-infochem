{
 "cells": [
  {
   "cell_type": "code",
   "execution_count": 3,
   "id": "e4bafb8c",
   "metadata": {},
   "outputs": [],
   "source": [
    "import pandas as pd\n",
    "from classes.descriptors import Smiles2Descriptors  "
   ]
  },
  {
   "cell_type": "code",
   "execution_count": 4,
   "id": "081cb09e",
   "metadata": {},
   "outputs": [],
   "source": [
    "def calculate_descriptors(smiles):\n",
    "    try:\n",
    "        descriptor = Smiles2Descriptors(smiles)\n",
    "        return descriptor.as_vector()\n",
    "    except ValueError as e:\n",
    "        print(f\"Ошибка при обработке {smiles}: {e}\")\n",
    "        return [None] * 6 \n",
    "    except Exception as e:\n",
    "        print(f\"Неизвестная ошибка для {smiles}: {e}\")\n",
    "        return [None] * 6"
   ]
  },
  {
   "cell_type": "code",
   "execution_count": 5,
   "id": "47db3e34",
   "metadata": {},
   "outputs": [],
   "source": [
    "input_df = pd.read_csv(\"data/NTO_smiles_encoded.csv\")"
   ]
  },
  {
   "cell_type": "code",
   "execution_count": 6,
   "id": "b37b6822",
   "metadata": {},
   "outputs": [],
   "source": [
    "descriptor_labels = [\n",
    "    \"LogP\",\n",
    "    \"TPSA\",\n",
    "    \"MolWt\",\n",
    "    \"Van_Der_Waals volume\"\n",
    "    \"Fraction_non_rotatable_bounds\",\n",
    "    \"num_atoms\",\n",
    "    \"Degree_of_branching\"\n",
    "]"
   ]
  },
  {
   "cell_type": "code",
   "execution_count": 8,
   "id": "ecdd36a1",
   "metadata": {},
   "outputs": [
    {
     "name": "stdout",
     "output_type": "stream",
     "text": [
      "Неизвестная ошибка для CCCCC(C)C: 'Smiles2Descriptors' object has no attribute '_a'\n",
      "Неизвестная ошибка для CCCCCCC(C(C(C)C)CCCCCC)CC(C(C)C)CCCCC: 'Smiles2Descriptors' object has no attribute '_a'\n",
      "Неизвестная ошибка для CCCCCCCCC(CCCCCC)CC(C)CCCCCCCC: 'Smiles2Descriptors' object has no attribute '_a'\n",
      "Неизвестная ошибка для CCCCCCC(CCCCCCCC)CCCCCCCC: 'Smiles2Descriptors' object has no attribute '_a'\n",
      "Неизвестная ошибка для CC1=CC2=NNN=C2C=C1.C(CO)N(CCO)CCO: 'Smiles2Descriptors' object has no attribute '_a'\n",
      "Неизвестная ошибка для CCCCCC(C(OC)=O)CCCC: 'Smiles2Descriptors' object has no attribute '_a'\n",
      "Неизвестная ошибка для CC1CCCCC1C: 'Smiles2Descriptors' object has no attribute '_a'\n",
      "Ошибка при обработке O=S(C1=CC=C([C18H21])C=C1)(O)=O: Неверный SMILES\n",
      "Неизвестная ошибка для CCCCCCCCC(C(CC)CCCCC)CC(C)CCCC: 'Smiles2Descriptors' object has no attribute '_a'\n",
      "Неизвестная ошибка для CCCCCCC(C(C)CCC)CC(C)CCCCCC: 'Smiles2Descriptors' object has no attribute '_a'\n",
      "Неизвестная ошибка для CCCCCCCCC(CCCCC)CCCCCC: 'Smiles2Descriptors' object has no attribute '_a'\n",
      "Неизвестная ошибка для CCCCCCCC(C)C(CCCCC)C(C)CCCCC: 'Smiles2Descriptors' object has no attribute '_a'\n",
      "Неизвестная ошибка для OC1=CC=C(CCCC)C=C1C(O[Ca]OC(C2=CC(CCCC)=CC=C2O)=O)=O: 'Smiles2Descriptors' object has no attribute '_a'\n",
      "Неизвестная ошибка для OC1=C(C(C)(C)C)C=C(CCC(OCC)=O)C=C1C(C)(C)C: 'Smiles2Descriptors' object has no attribute '_a'\n",
      "Неизвестная ошибка для O=C1CC(B(C(C)(C)C)C(C)(C)C)C(N1CCNCCN2C(CC(B(C(C)(C)C)C(C)(C)C)C2=O)=O)=O: 'Smiles2Descriptors' object has no attribute '_a'\n",
      "Неизвестная ошибка для CCCCCCCCN(C1=CC=CC=C1)C2=CC=CC=C2CCCC: 'Smiles2Descriptors' object has no attribute '_a'\n",
      "Неизвестная ошибка для O=C(C1=CC=CC=C1)N2N=NC3=C2C=CC=C3: 'Smiles2Descriptors' object has no attribute '_a'\n",
      "Неизвестная ошибка для CCCCC: 'Smiles2Descriptors' object has no attribute '_a'\n",
      "Неизвестная ошибка для CCC(C)CC: 'Smiles2Descriptors' object has no attribute '_a'\n",
      "Неизвестная ошибка для CCCCC(C(OCC)=O)C(OCC)=O: 'Smiles2Descriptors' object has no attribute '_a'\n",
      "Неизвестная ошибка для CC(C(OCCCC)=O)C(OCCCC)=O: 'Smiles2Descriptors' object has no attribute '_a'\n",
      "Неизвестная ошибка для CCC(CC(C)OCCCC)Cl: 'Smiles2Descriptors' object has no attribute '_a'\n",
      "Неизвестная ошибка для O=C(CC)OCCCCCOC: 'Smiles2Descriptors' object has no attribute '_a'\n",
      "Неизвестная ошибка для COC(C(C)(CC)C)=O: 'Smiles2Descriptors' object has no attribute '_a'\n",
      "Неизвестная ошибка для CCCCCC: 'Smiles2Descriptors' object has no attribute '_a'\n",
      "Ошибка при обработке CCC(C(OC[CH2](C)CCCCCCC[CH2])=O)C: Неверный SMILES\n",
      "Неизвестная ошибка для CCC(C(OC)=O)CC: 'Smiles2Descriptors' object has no attribute '_a'\n",
      "Неизвестная ошибка для O=C(OC)C(C)(CCC)C: 'Smiles2Descriptors' object has no attribute '_a'\n",
      "Неизвестная ошибка для CCCC/C=C\\C(CCCCCCC)=C\\C(CCCCC)C: 'Smiles2Descriptors' object has no attribute '_a'\n",
      "Неизвестная ошибка для O=C(OC)C(C)(C)CC: 'Smiles2Descriptors' object has no attribute '_a'\n",
      "Неизвестная ошибка для CC(C)(C)C(OC)=O: 'Smiles2Descriptors' object has no attribute '_a'\n",
      "Неизвестная ошибка для CCCC(C)CCC: 'Smiles2Descriptors' object has no attribute '_a'\n",
      "Неизвестная ошибка для CC(C)(C)CC(C)(C)C: 'Smiles2Descriptors' object has no attribute '_a'\n",
      "Неизвестная ошибка для CCC(C)CCC: 'Smiles2Descriptors' object has no attribute '_a'\n",
      "Неизвестная ошибка для CCC(C)(C)CC: 'Smiles2Descriptors' object has no attribute '_a'\n",
      "Неизвестная ошибка для CCCCCCC: 'Smiles2Descriptors' object has no attribute '_a'\n",
      "Неизвестная ошибка для CCC(C)CCCC: 'Smiles2Descriptors' object has no attribute '_a'\n",
      "Неизвестная ошибка для CC(C)(C)C(C)C(C)C: 'Smiles2Descriptors' object has no attribute '_a'\n",
      "Неизвестная ошибка для CC(C)CCCCC: 'Smiles2Descriptors' object has no attribute '_a'\n"
     ]
    },
    {
     "name": "stderr",
     "output_type": "stream",
     "text": [
      "[20:45:29] SMILES Parse Error: syntax error while parsing: O=S(C1=CC=C([C18H21])C=C1)(O)=O\n",
      "[20:45:29] SMILES Parse Error: check for mistakes around position 15:\n",
      "[20:45:29] O=S(C1=CC=C([C18H21])C=C1)(O)=O\n",
      "[20:45:29] ~~~~~~~~~~~~~~^\n",
      "[20:45:29] SMILES Parse Error: Failed parsing SMILES 'O=S(C1=CC=C([C18H21])C=C1)(O)=O' for input: 'O=S(C1=CC=C([C18H21])C=C1)(O)=O'\n",
      "[20:45:29] Explicit valence for atom # 6 C, 5, is greater than permitted\n"
     ]
    }
   ],
   "source": [
    "descriptors_data = []\n",
    "for smiles in input_df['smiles']:\n",
    "    descriptors = calculate_descriptors(smiles)\n",
    "    descriptors_data.append(descriptors)"
   ]
  },
  {
   "cell_type": "code",
   "execution_count": null,
   "id": "90cd3803",
   "metadata": {},
   "outputs": [],
   "source": [
    "\n",
    "# Создание финального DataFrame\n",
    "result_df = pd.DataFrame(\n",
    "    data={\n",
    "        'SMILES': input_df['SMILES'],\n",
    "        **{name: [d[i] for d in descriptors_data] for i, name in enumerate(DESCRIPTOR_NAMES)}\n",
    "    }\n",
    ")\n",
    "\n",
    "# Сохранение результатов\n",
    "result_df.to_csv(\"output.csv\", index=False)"
   ]
  }
 ],
 "metadata": {
  "kernelspec": {
   "display_name": ".venv",
   "language": "python",
   "name": "python3"
  },
  "language_info": {
   "codemirror_mode": {
    "name": "ipython",
    "version": 3
   },
   "file_extension": ".py",
   "mimetype": "text/x-python",
   "name": "python",
   "nbconvert_exporter": "python",
   "pygments_lexer": "ipython3",
   "version": "3.13.2"
  }
 },
 "nbformat": 4,
 "nbformat_minor": 5
}
